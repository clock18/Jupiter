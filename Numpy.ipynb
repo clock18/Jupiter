{
 "cells": [
  {
   "cell_type": "markdown",
   "id": "9b9fc390",
   "metadata": {},
   "source": [
    "# Numpy   (2022.01.06)\n",
    "\n",
    "* numpy 모듈 선언\n",
    "* 홈페이지 : https://numpy.org/"
   ]
  },
  {
   "cell_type": "code",
   "execution_count": 6,
   "id": "46f268a5",
   "metadata": {},
   "outputs": [],
   "source": [
    "import numpy as np"
   ]
  },
  {
   "cell_type": "code",
   "execution_count": 13,
   "id": "9efe8681",
   "metadata": {},
   "outputs": [
    {
     "data": {
      "text/plain": [
       "'1.20.3'"
      ]
     },
     "execution_count": 13,
     "metadata": {},
     "output_type": "execute_result"
    }
   ],
   "source": [
    "np.__version__"
   ]
  },
  {
   "cell_type": "markdown",
   "id": "991995ca",
   "metadata": {},
   "source": [
    "## 1. Array 정의 및 사용\n",
    "* 시퀀스 데이터 ( 리스트, 튜플 등 ) 로부터 배열 생성\n",
    "* https://numpy.org/doc/stable/reference/arrays.html"
   ]
  },
  {
   "cell_type": "code",
   "execution_count": 6,
   "id": "6f438b0d",
   "metadata": {},
   "outputs": [
    {
     "data": {
      "text/plain": [
       "[1, 2, 3]"
      ]
     },
     "execution_count": 6,
     "metadata": {},
     "output_type": "execute_result"
    }
   ],
   "source": [
    "data1 = [1,2,3]\n",
    "data1"
   ]
  },
  {
   "cell_type": "code",
   "execution_count": 7,
   "id": "092b69b9",
   "metadata": {},
   "outputs": [
    {
     "data": {
      "text/plain": [
       "[1, 2, 3, 3.5, 5]"
      ]
     },
     "execution_count": 7,
     "metadata": {},
     "output_type": "execute_result"
    }
   ],
   "source": [
    "data2 = [1,2,3,3.5,5]\n",
    "data2"
   ]
  },
  {
   "cell_type": "markdown",
   "id": "02895de0",
   "metadata": {},
   "source": [
    "### 1-1. 리스트 객체를 이용하여 array생성"
   ]
  },
  {
   "cell_type": "code",
   "execution_count": 8,
   "id": "8d5ea294",
   "metadata": {},
   "outputs": [
    {
     "data": {
      "text/plain": [
       "array([1, 2, 3])"
      ]
     },
     "execution_count": 8,
     "metadata": {},
     "output_type": "execute_result"
    }
   ],
   "source": [
    "arr1 = np.array(data1)\n",
    "arr1"
   ]
  },
  {
   "cell_type": "markdown",
   "id": "61bdea1b",
   "metadata": {},
   "source": [
    "#### array 크기 확인"
   ]
  },
  {
   "cell_type": "code",
   "execution_count": 10,
   "id": "1cb09433",
   "metadata": {},
   "outputs": [
    {
     "data": {
      "text/plain": [
       "(3,)"
      ]
     },
     "execution_count": 10,
     "metadata": {},
     "output_type": "execute_result"
    }
   ],
   "source": [
    "arr1.shape"
   ]
  },
  {
   "cell_type": "markdown",
   "id": "a294bffb",
   "metadata": {},
   "source": [
    "#### 리스트를 직접 입력하여 array 생성"
   ]
  },
  {
   "cell_type": "code",
   "execution_count": 11,
   "id": "7549f585",
   "metadata": {},
   "outputs": [
    {
     "data": {
      "text/plain": [
       "array([1, 2, 3, 4, 5])"
      ]
     },
     "execution_count": 11,
     "metadata": {},
     "output_type": "execute_result"
    }
   ],
   "source": [
    "arr2 = np.array([1,2,3,4,5])\n",
    "arr2"
   ]
  },
  {
   "cell_type": "code",
   "execution_count": 12,
   "id": "d101b784",
   "metadata": {},
   "outputs": [
    {
     "data": {
      "text/plain": [
       "(5,)"
      ]
     },
     "execution_count": 12,
     "metadata": {},
     "output_type": "execute_result"
    }
   ],
   "source": [
    "arr2.shape"
   ]
  },
  {
   "cell_type": "markdown",
   "id": "5635f449",
   "metadata": {},
   "source": [
    "#### array의 자료형 확인"
   ]
  },
  {
   "cell_type": "code",
   "execution_count": 14,
   "id": "d7c37dc3",
   "metadata": {},
   "outputs": [
    {
     "data": {
      "text/plain": [
       "dtype('int32')"
      ]
     },
     "execution_count": 14,
     "metadata": {},
     "output_type": "execute_result"
    }
   ],
   "source": [
    "arr2.dtype     # c언어 기반이기 때문에 데이터 형식이 세분화되어있어서 int32가 뜸"
   ]
  },
  {
   "cell_type": "code",
   "execution_count": 15,
   "id": "c241a729",
   "metadata": {},
   "outputs": [
    {
     "data": {
      "text/plain": [
       "array([1. , 2. , 3. , 3.5, 4. ])"
      ]
     },
     "execution_count": 15,
     "metadata": {},
     "output_type": "execute_result"
    }
   ],
   "source": [
    "arr3 = np.array([1,2,3,3.5,4])       # 실수가 더 큰 범위이므로 실수가 하나라도 \n",
    "arr3                                 # 들어가면 소수점 처리해버림"
   ]
  },
  {
   "cell_type": "markdown",
   "id": "16240e2d",
   "metadata": {},
   "source": []
  },
  {
   "cell_type": "code",
   "execution_count": 16,
   "id": "f1849187",
   "metadata": {},
   "outputs": [
    {
     "data": {
      "text/plain": [
       "dtype('float64')"
      ]
     },
     "execution_count": 16,
     "metadata": {},
     "output_type": "execute_result"
    }
   ],
   "source": [
    "arr3.dtype     # dtype = data type"
   ]
  },
  {
   "cell_type": "code",
   "execution_count": 17,
   "id": "c9e1b898",
   "metadata": {},
   "outputs": [
    {
     "data": {
      "text/plain": [
       "(5,)"
      ]
     },
     "execution_count": 17,
     "metadata": {},
     "output_type": "execute_result"
    }
   ],
   "source": [
    "arr3.shape"
   ]
  },
  {
   "cell_type": "code",
   "execution_count": 22,
   "id": "d856ee3a",
   "metadata": {},
   "outputs": [
    {
     "data": {
      "text/plain": [
       "array([[1, 2, 3],\n",
       "       [4, 5, 6],\n",
       "       [7, 8, 9]])"
      ]
     },
     "execution_count": 22,
     "metadata": {},
     "output_type": "execute_result"
    }
   ],
   "source": [
    "arr4 = np.array([[1,2,3],[4,5,6],[7,8,9]])\n",
    "arr4"
   ]
  },
  {
   "cell_type": "code",
   "execution_count": 21,
   "id": "0738809d",
   "metadata": {},
   "outputs": [
    {
     "data": {
      "text/plain": [
       "(3, 3)"
      ]
     },
     "execution_count": 21,
     "metadata": {},
     "output_type": "execute_result"
    }
   ],
   "source": [
    "arr4.shape"
   ]
  },
  {
   "cell_type": "code",
   "execution_count": 25,
   "id": "0b303531",
   "metadata": {},
   "outputs": [
    {
     "data": {
      "text/plain": [
       "array([0, 1, 2, 3, 4, 5, 6, 7, 8, 9])"
      ]
     },
     "execution_count": 25,
     "metadata": {},
     "output_type": "execute_result"
    }
   ],
   "source": [
    "np.arange(10)"
   ]
  },
  {
   "cell_type": "code",
   "execution_count": 26,
   "id": "c9b9232a",
   "metadata": {},
   "outputs": [
    {
     "data": {
      "text/plain": [
       "array([1, 2, 3, 4])"
      ]
     },
     "execution_count": 26,
     "metadata": {},
     "output_type": "execute_result"
    }
   ],
   "source": [
    "np.arange(1,5)"
   ]
  },
  {
   "cell_type": "code",
   "execution_count": 27,
   "id": "8bfa2387",
   "metadata": {},
   "outputs": [
    {
     "data": {
      "text/plain": [
       "array([1, 3, 5, 7, 9])"
      ]
     },
     "execution_count": 27,
     "metadata": {},
     "output_type": "execute_result"
    }
   ],
   "source": [
    "np.arange(1,10,2)"
   ]
  },
  {
   "cell_type": "code",
   "execution_count": 28,
   "id": "6789cc31",
   "metadata": {},
   "outputs": [
    {
     "data": {
      "text/plain": [
       "array([[ 0,  1,  2,  3],\n",
       "       [ 4,  5,  6,  7],\n",
       "       [ 8,  9, 10, 11]])"
      ]
     },
     "execution_count": 28,
     "metadata": {},
     "output_type": "execute_result"
    }
   ],
   "source": [
    "np.arange(12).reshape(3,4)      # reshape(행,열)"
   ]
  },
  {
   "cell_type": "code",
   "execution_count": 29,
   "id": "42a838ea",
   "metadata": {},
   "outputs": [
    {
     "data": {
      "text/plain": [
       "(3, 4)"
      ]
     },
     "execution_count": 29,
     "metadata": {},
     "output_type": "execute_result"
    }
   ],
   "source": [
    "b1 = np.arange(12).reshape(3,4)\n",
    "b1.shape"
   ]
  },
  {
   "cell_type": "markdown",
   "id": "43b4a654",
   "metadata": {},
   "source": [
    "## 2. 범위를 지정해 배열생성2 : linspace()함수\n",
    "> 형식 : arr.obj = np.linspace(start, stop,[num=50])"
   ]
  },
  {
   "cell_type": "code",
   "execution_count": 30,
   "id": "10d101f5",
   "metadata": {},
   "outputs": [
    {
     "data": {
      "text/plain": [
       "array([ 1.,  2.,  3.,  4.,  5.,  6.,  7.,  8.,  9., 10.])"
      ]
     },
     "execution_count": 30,
     "metadata": {},
     "output_type": "execute_result"
    }
   ],
   "source": [
    "# 1부터 10사이에 10개의 숫자를 넣는것\n",
    "np.linspace(1,10,10)"
   ]
  },
  {
   "cell_type": "code",
   "execution_count": 31,
   "id": "72b044f6",
   "metadata": {},
   "outputs": [
    {
     "data": {
      "text/plain": [
       "array([0.        , 0.16534698, 0.33069396, 0.49604095, 0.66138793,\n",
       "       0.82673491, 0.99208189, 1.15742887, 1.32277585, 1.48812284,\n",
       "       1.65346982, 1.8188168 , 1.98416378, 2.14951076, 2.31485774,\n",
       "       2.48020473, 2.64555171, 2.81089869, 2.97624567, 3.14159265])"
      ]
     },
     "execution_count": 31,
     "metadata": {},
     "output_type": "execute_result"
    }
   ],
   "source": [
    "np.linspace(0,np.pi, 20)"
   ]
  },
  {
   "cell_type": "code",
   "execution_count": 33,
   "id": "b473e307",
   "metadata": {},
   "outputs": [
    {
     "data": {
      "text/plain": [
       "(50,)"
      ]
     },
     "execution_count": 33,
     "metadata": {},
     "output_type": "execute_result"
    }
   ],
   "source": [
    "np.linspace(1,10).shape"
   ]
  },
  {
   "cell_type": "markdown",
   "id": "936171de",
   "metadata": {},
   "source": [
    "### 2-1. 특별한 형태의 배열생성\n",
    "> np.zeros(), np.ones(), np.eye()\n",
    "\n",
    "* 모든 요소가 0인 배열 생성 : np.zeros(shape, dtype=float)"
   ]
  },
  {
   "cell_type": "code",
   "execution_count": 34,
   "id": "9c12aa81",
   "metadata": {},
   "outputs": [
    {
     "data": {
      "text/plain": [
       "array([0, 0, 0, 0, 0, 0, 0, 0, 0, 0])"
      ]
     },
     "execution_count": 34,
     "metadata": {},
     "output_type": "execute_result"
    }
   ],
   "source": [
    "np.zeros(10, dtype=int)"
   ]
  },
  {
   "cell_type": "markdown",
   "id": "f491eefa",
   "metadata": {},
   "source": [
    "* 모든 요소가 1인 배열 생성 : np.ones(shape, dtype=none)"
   ]
  },
  {
   "cell_type": "code",
   "execution_count": 35,
   "id": "3760939e",
   "metadata": {},
   "outputs": [
    {
     "data": {
      "text/plain": [
       "array([1., 1., 1., 1., 1., 1., 1., 1., 1., 1.])"
      ]
     },
     "execution_count": 35,
     "metadata": {},
     "output_type": "execute_result"
    }
   ],
   "source": [
    "np.ones(10)"
   ]
  },
  {
   "cell_type": "code",
   "execution_count": 36,
   "id": "9f227f55",
   "metadata": {},
   "outputs": [
    {
     "data": {
      "text/plain": [
       "array([[1, 1, 1, 1, 1],\n",
       "       [1, 1, 1, 1, 1],\n",
       "       [1, 1, 1, 1, 1]])"
      ]
     },
     "execution_count": 36,
     "metadata": {},
     "output_type": "execute_result"
    }
   ],
   "source": [
    "np.ones((3,5),dtype=int)"
   ]
  },
  {
   "cell_type": "markdown",
   "id": "64189fc6",
   "metadata": {},
   "source": [
    "* 대각요소가 1인 배열 생성 1 ; np.eye(n,m,k=K,dtype=none)"
   ]
  },
  {
   "cell_type": "code",
   "execution_count": 37,
   "id": "e3ff3505",
   "metadata": {},
   "outputs": [
    {
     "data": {
      "text/plain": [
       "array([[1., 0., 0.],\n",
       "       [0., 1., 0.],\n",
       "       [0., 0., 1.]])"
      ]
     },
     "execution_count": 37,
     "metadata": {},
     "output_type": "execute_result"
    }
   ],
   "source": [
    "# 3행 3열의 대각요소가 1인 행렬. 타입이 '' 이면 기본값은 float\n",
    "np.eye(3)"
   ]
  },
  {
   "cell_type": "code",
   "execution_count": 38,
   "id": "9b1b21e2",
   "metadata": {},
   "outputs": [
    {
     "data": {
      "text/plain": [
       "array([[1., 0., 0., 0.],\n",
       "       [0., 1., 0., 0.],\n",
       "       [0., 0., 1., 0.]])"
      ]
     },
     "execution_count": 38,
     "metadata": {},
     "output_type": "execute_result"
    }
   ],
   "source": [
    "# 3행 4열의 대각요소가 1인 행렬 생성. \n",
    "np.eye(3,4)"
   ]
  },
  {
   "cell_type": "code",
   "execution_count": 39,
   "id": "c2250906",
   "metadata": {},
   "outputs": [
    {
     "data": {
      "text/plain": [
       "array([[0, 1, 0, 0],\n",
       "       [0, 0, 1, 0],\n",
       "       [0, 0, 0, 1]])"
      ]
     },
     "execution_count": 39,
     "metadata": {},
     "output_type": "execute_result"
    }
   ],
   "source": [
    "# k는 열의 인덱스 위치를 의미함.\n",
    "np.eye(3,4,k=1,dtype=int)"
   ]
  },
  {
   "cell_type": "code",
   "execution_count": 40,
   "id": "598358f0",
   "metadata": {},
   "outputs": [
    {
     "data": {
      "text/plain": [
       "array([[0., 0., 1., 0.],\n",
       "       [0., 0., 0., 1.],\n",
       "       [0., 0., 0., 0.]])"
      ]
     },
     "execution_count": 40,
     "metadata": {},
     "output_type": "execute_result"
    }
   ],
   "source": [
    "np.eye(3,4,k=2)"
   ]
  },
  {
   "cell_type": "markdown",
   "id": "a4f80241",
   "metadata": {},
   "source": [
    "* 대각요소가 1인 배열 생성 2 : np.identity(n,dtype=none)"
   ]
  },
  {
   "cell_type": "code",
   "execution_count": 41,
   "id": "05948e62",
   "metadata": {},
   "outputs": [
    {
     "data": {
      "text/plain": [
       "array([[1., 0., 0., 0., 0.],\n",
       "       [0., 1., 0., 0., 0.],\n",
       "       [0., 0., 1., 0., 0.],\n",
       "       [0., 0., 0., 1., 0.],\n",
       "       [0., 0., 0., 0., 1.]])"
      ]
     },
     "execution_count": 41,
     "metadata": {},
     "output_type": "execute_result"
    }
   ],
   "source": [
    "# n*n 크기의 단위행렬 생성\n",
    "np.identity(5)  # 5행 5열"
   ]
  },
  {
   "cell_type": "markdown",
   "id": "ec8f5a7b",
   "metadata": {},
   "source": [
    "* 초기화되지 않은 배열 생성 : np.empty(shape, dtype=float)"
   ]
  },
  {
   "cell_type": "code",
   "execution_count": 42,
   "id": "3c701d7c",
   "metadata": {},
   "outputs": [
    {
     "data": {
      "text/plain": [
       "array([6.44448339e+247, 9.08367203e+223, 2.31647114e-152, 2.64685961e+180])"
      ]
     },
     "execution_count": 42,
     "metadata": {},
     "output_type": "execute_result"
    }
   ],
   "source": [
    "np.empty(4)"
   ]
  },
  {
   "cell_type": "markdown",
   "id": "5c23da2c",
   "metadata": {},
   "source": [
    "* 배열의 데이터 타입 변환"
   ]
  },
  {
   "cell_type": "markdown",
   "id": "90aff789",
   "metadata": {},
   "source": [
    "    * 문자열 배열을 숫자형 배열로 변환"
   ]
  },
  {
   "cell_type": "code",
   "execution_count": 44,
   "id": "cbcc7a36",
   "metadata": {},
   "outputs": [
    {
     "data": {
      "text/plain": [
       "array(['1.5', '0.62', '2', '3.14', '3.141592'], dtype='<U8')"
      ]
     },
     "execution_count": 44,
     "metadata": {},
     "output_type": "execute_result"
    }
   ],
   "source": [
    "np.array(['1.5','0.62','2','3.14','3.141592'])"
   ]
  },
  {
   "cell_type": "code",
   "execution_count": 46,
   "id": "470577ef",
   "metadata": {},
   "outputs": [
    {
     "data": {
      "text/plain": [
       "array([1.5     , 0.62    , 2.      , 3.14    , 3.141592])"
      ]
     },
     "execution_count": 46,
     "metadata": {},
     "output_type": "execute_result"
    }
   ],
   "source": [
    "# 문자열인 str_a1을 float형식으로 바꾸는 것\n",
    "str_a1 = np.array(['1.5','0.62','2','3.14','3.141592'])\n",
    "num_a1 = str_a1.astype(float)\n",
    "num_a1"
   ]
  },
  {
   "cell_type": "code",
   "execution_count": 47,
   "id": "c8f76eaa",
   "metadata": {},
   "outputs": [
    {
     "data": {
      "text/plain": [
       "dtype('<U8')"
      ]
     },
     "execution_count": 47,
     "metadata": {},
     "output_type": "execute_result"
    }
   ],
   "source": [
    "str_a1.dtype"
   ]
  },
  {
   "cell_type": "code",
   "execution_count": 48,
   "id": "06330cd2",
   "metadata": {},
   "outputs": [
    {
     "data": {
      "text/plain": [
       "dtype('float64')"
      ]
     },
     "execution_count": 48,
     "metadata": {},
     "output_type": "execute_result"
    }
   ],
   "source": [
    "num_a1.dtype"
   ]
  },
  {
   "cell_type": "code",
   "execution_count": 52,
   "id": "34cf7a07",
   "metadata": {},
   "outputs": [
    {
     "data": {
      "text/plain": [
       "array([1.5     , 0.62    , 2.      , 3.14    , 3.141592], dtype=float32)"
      ]
     },
     "execution_count": 52,
     "metadata": {},
     "output_type": "execute_result"
    }
   ],
   "source": [
    "num_a2 = str_a1.astype(float).astype('float32')\n",
    "num_a2"
   ]
  },
  {
   "cell_type": "code",
   "execution_count": 54,
   "id": "abd6e0f1",
   "metadata": {},
   "outputs": [
    {
     "data": {
      "text/plain": [
       "array([1, 3, 5, 7, 9])"
      ]
     },
     "execution_count": 54,
     "metadata": {},
     "output_type": "execute_result"
    }
   ],
   "source": [
    "str_a2 = np.array(['1','3','5','7','9'])\n",
    "num_a2 = str_a2.astype(int)\n",
    "num_a2"
   ]
  },
  {
   "cell_type": "markdown",
   "id": "193239e4",
   "metadata": {},
   "source": [
    "* 실수형 배열을 정수형 배열로 변환"
   ]
  },
  {
   "cell_type": "code",
   "execution_count": 16,
   "id": "2a43d72c",
   "metadata": {},
   "outputs": [
    {
     "data": {
      "text/plain": [
       "array([10.   , 21.   ,  0.549,  4.75 ,  5.98 ])"
      ]
     },
     "execution_count": 16,
     "metadata": {},
     "output_type": "execute_result"
    }
   ],
   "source": [
    "num_f1 = np.array([10, 21, 0.549, 4.75, 5.98])\n",
    "num_f1"
   ]
  },
  {
   "cell_type": "code",
   "execution_count": 56,
   "id": "48a44c82",
   "metadata": {},
   "outputs": [
    {
     "data": {
      "text/plain": [
       "array([10, 21,  0,  4,  5])"
      ]
     },
     "execution_count": 56,
     "metadata": {},
     "output_type": "execute_result"
    }
   ],
   "source": [
    "num_i1 = num_f1.astype(int)\n",
    "num_i1"
   ]
  },
  {
   "cell_type": "code",
   "execution_count": 57,
   "id": "9db9b23d",
   "metadata": {},
   "outputs": [
    {
     "data": {
      "text/plain": [
       "dtype('float64')"
      ]
     },
     "execution_count": 57,
     "metadata": {},
     "output_type": "execute_result"
    }
   ],
   "source": [
    "num_f1.dtype"
   ]
  },
  {
   "cell_type": "code",
   "execution_count": 60,
   "id": "8aca7213",
   "metadata": {},
   "outputs": [
    {
     "data": {
      "text/plain": [
       "dtype('int32')"
      ]
     },
     "execution_count": 60,
     "metadata": {},
     "output_type": "execute_result"
    }
   ],
   "source": [
    "num_i1.dtype"
   ]
  },
  {
   "cell_type": "markdown",
   "id": "618a2d24",
   "metadata": {},
   "source": [
    "* 숫자형 배열을 문자열 배열로 변환"
   ]
  },
  {
   "cell_type": "code",
   "execution_count": 17,
   "id": "c7081725",
   "metadata": {},
   "outputs": [
    {
     "data": {
      "text/plain": [
       "array([10., 21.,  1.,  5.,  6.])"
      ]
     },
     "execution_count": 17,
     "metadata": {},
     "output_type": "execute_result"
    }
   ],
   "source": [
    "# 반올림하기\n",
    "np.around(num_f1)"
   ]
  },
  {
   "cell_type": "code",
   "execution_count": 62,
   "id": "86068a03",
   "metadata": {},
   "outputs": [
    {
     "data": {
      "text/plain": [
       "array(['10.0', '21.0', '0.549', '4.75', '5.98'], dtype='<U32')"
      ]
     },
     "execution_count": 62,
     "metadata": {},
     "output_type": "execute_result"
    }
   ],
   "source": [
    "num_f1.astype('U')"
   ]
  },
  {
   "cell_type": "code",
   "execution_count": 64,
   "id": "5f21343f",
   "metadata": {},
   "outputs": [
    {
     "data": {
      "text/plain": [
       "array([b'10.0', b'21.0', b'0.549', b'4.75', b'5.98'], dtype='|S32')"
      ]
     },
     "execution_count": 64,
     "metadata": {},
     "output_type": "execute_result"
    }
   ],
   "source": [
    "num_f1.astype('S')"
   ]
  },
  {
   "cell_type": "markdown",
   "id": "052ebaef",
   "metadata": {},
   "source": [
    "## 3. 난수 배열 생성"
   ]
  },
  {
   "cell_type": "markdown",
   "id": "175e6952",
   "metadata": {},
   "source": [
    "### random.rand(), random.randint()"
   ]
  },
  {
   "cell_type": "markdown",
   "id": "9eab7ae7",
   "metadata": {},
   "source": [
    "#### random.rand(d0,d1,...,dn)\n",
    "* 0과1사이의 실수난수를 갖는 numpy배열 생성"
   ]
  },
  {
   "cell_type": "code",
   "execution_count": 65,
   "id": "93005ed4",
   "metadata": {},
   "outputs": [
    {
     "data": {
      "text/plain": [
       "0.04320281129230619"
      ]
     },
     "execution_count": 65,
     "metadata": {},
     "output_type": "execute_result"
    }
   ],
   "source": [
    "np.random.rand()"
   ]
  },
  {
   "cell_type": "code",
   "execution_count": 20,
   "id": "26744d7b",
   "metadata": {},
   "outputs": [
    {
     "data": {
      "text/plain": [
       "array([[[0.65755866, 0.15300237, 0.53043597, 0.12584811],\n",
       "        [0.54012753, 0.51569213, 0.1514582 , 0.92918854],\n",
       "        [0.09437641, 0.77587796, 0.09828656, 0.3586348 ]],\n",
       "\n",
       "       [[0.2817147 , 0.42996793, 0.37273942, 0.3849081 ],\n",
       "        [0.09935783, 0.79466575, 0.90434421, 0.6238419 ],\n",
       "        [0.79659191, 0.38823539, 0.7843929 , 0.11214486]],\n",
       "\n",
       "       [[0.69158787, 0.12614538, 0.13309486, 0.40452338],\n",
       "        [0.6391867 , 0.50532374, 0.59220646, 0.2596032 ],\n",
       "        [0.53009733, 0.55589761, 0.30172354, 0.02727078]]])"
      ]
     },
     "execution_count": 20,
     "metadata": {},
     "output_type": "execute_result"
    }
   ],
   "source": [
    "np.random.rand(3,3,4)"
   ]
  },
  {
   "cell_type": "markdown",
   "id": "587836c2",
   "metadata": {},
   "source": [
    "#### random.randint(low,high,size)\n",
    "* [low,high]사이의 정수 난수를 갖는 numpy배열을 생성"
   ]
  },
  {
   "cell_type": "code",
   "execution_count": 68,
   "id": "d9ec961c",
   "metadata": {},
   "outputs": [
    {
     "data": {
      "text/plain": [
       "1"
      ]
     },
     "execution_count": 68,
     "metadata": {},
     "output_type": "execute_result"
    }
   ],
   "source": [
    "np.random.randint(10)"
   ]
  },
  {
   "cell_type": "code",
   "execution_count": 69,
   "id": "37e1fc3a",
   "metadata": {},
   "outputs": [
    {
     "data": {
      "text/plain": [
       "18"
      ]
     },
     "execution_count": 69,
     "metadata": {},
     "output_type": "execute_result"
    }
   ],
   "source": [
    "np.random.randint(10,20)"
   ]
  },
  {
   "cell_type": "code",
   "execution_count": 72,
   "id": "71e49d07",
   "metadata": {},
   "outputs": [
    {
     "data": {
      "text/plain": [
       "array([[12, 19, 18, 13, 17],\n",
       "       [14, 10, 14, 11, 18],\n",
       "       [17, 15, 11, 19, 10]])"
      ]
     },
     "execution_count": 72,
     "metadata": {},
     "output_type": "execute_result"
    }
   ],
   "source": [
    "np.random.randint(10,20,(3,5))"
   ]
  },
  {
   "cell_type": "markdown",
   "id": "a8b8c30b",
   "metadata": {},
   "source": [
    "## 4. 기본 연산(합, 차, 곱, 나눗셈 등)\n",
    ": 기본적으로 동일한 크기의 array간 연산 수행"
   ]
  },
  {
   "cell_type": "code",
   "execution_count": 7,
   "id": "9259a448",
   "metadata": {},
   "outputs": [
    {
     "data": {
      "text/plain": [
       "array([[1, 3, 4],\n",
       "       [4, 3, 6]])"
      ]
     },
     "execution_count": 7,
     "metadata": {},
     "output_type": "execute_result"
    }
   ],
   "source": [
    "arr1 = np.array([[1,3,4],[4,3,6]])\n",
    "arr1"
   ]
  },
  {
   "cell_type": "code",
   "execution_count": 77,
   "id": "470e0c37",
   "metadata": {},
   "outputs": [
    {
     "data": {
      "text/plain": [
       "array([[10, 11, 12],\n",
       "       [13, 14, 15]])"
      ]
     },
     "execution_count": 77,
     "metadata": {},
     "output_type": "execute_result"
    }
   ],
   "source": [
    "arr2 = np.arange(10,16).reshape(2,3)\n",
    "arr2"
   ]
  },
  {
   "cell_type": "code",
   "execution_count": 78,
   "id": "ff4ae49e",
   "metadata": {},
   "outputs": [
    {
     "name": "stdout",
     "output_type": "stream",
     "text": [
      "(2, 3) (2, 3)\n"
     ]
    }
   ],
   "source": [
    "print(arr1.shape, arr2.shape)"
   ]
  },
  {
   "cell_type": "markdown",
   "id": "e141f214",
   "metadata": {},
   "source": [
    "### 4-1. 배열의 합"
   ]
  },
  {
   "cell_type": "code",
   "execution_count": 80,
   "id": "2f0a508b",
   "metadata": {},
   "outputs": [
    {
     "data": {
      "text/plain": [
       "array([[11, 14, 16],\n",
       "       [17, 17, 21]])"
      ]
     },
     "execution_count": 80,
     "metadata": {},
     "output_type": "execute_result"
    }
   ],
   "source": [
    "arr1 + arr2"
   ]
  },
  {
   "cell_type": "markdown",
   "id": "439666cb",
   "metadata": {},
   "source": [
    "### 4-2. 배열의 차"
   ]
  },
  {
   "cell_type": "code",
   "execution_count": 81,
   "id": "d157d39d",
   "metadata": {},
   "outputs": [
    {
     "data": {
      "text/plain": [
       "array([[ -9,  -8,  -8],\n",
       "       [ -9, -11,  -9]])"
      ]
     },
     "execution_count": 81,
     "metadata": {},
     "output_type": "execute_result"
    }
   ],
   "source": [
    "arr1 - arr2"
   ]
  },
  {
   "cell_type": "markdown",
   "id": "d5a24bd3",
   "metadata": {},
   "source": [
    "### 4-3. 배열의 곱"
   ]
  },
  {
   "cell_type": "code",
   "execution_count": 82,
   "id": "6efdb28b",
   "metadata": {},
   "outputs": [
    {
     "data": {
      "text/plain": [
       "array([[10, 33, 48],\n",
       "       [52, 42, 90]])"
      ]
     },
     "execution_count": 82,
     "metadata": {},
     "output_type": "execute_result"
    }
   ],
   "source": [
    "arr1 * arr2"
   ]
  },
  {
   "cell_type": "markdown",
   "id": "c4823415",
   "metadata": {},
   "source": [
    "### 4-4. 배열의 나눗셈"
   ]
  },
  {
   "cell_type": "code",
   "execution_count": 83,
   "id": "b19bc0c1",
   "metadata": {},
   "outputs": [
    {
     "data": {
      "text/plain": [
       "array([[0.1       , 0.27272727, 0.33333333],\n",
       "       [0.30769231, 0.21428571, 0.4       ]])"
      ]
     },
     "execution_count": 83,
     "metadata": {},
     "output_type": "execute_result"
    }
   ],
   "source": [
    "arr1 / arr2"
   ]
  },
  {
   "cell_type": "markdown",
   "id": "c7363868",
   "metadata": {},
   "source": [
    "### 4-5. 배열의 비교 연산"
   ]
  },
  {
   "cell_type": "code",
   "execution_count": 84,
   "id": "2b5be28f",
   "metadata": {},
   "outputs": [
    {
     "data": {
      "text/plain": [
       "array([[False,  True,  True],\n",
       "       [ True,  True,  True]])"
      ]
     },
     "execution_count": 84,
     "metadata": {},
     "output_type": "execute_result"
    }
   ],
   "source": [
    "arr2 > 10"
   ]
  },
  {
   "cell_type": "markdown",
   "id": "d88ed0e0",
   "metadata": {},
   "source": [
    "## 5. 배열의 Broadcasting\n",
    "* 서로 크기가 다른 array들의 연산이 가능하도록 배열을 자동적으로 변환하여 연산 수행"
   ]
  },
  {
   "cell_type": "code",
   "execution_count": 8,
   "id": "2cf4c73b",
   "metadata": {},
   "outputs": [
    {
     "data": {
      "text/plain": [
       "array([[1, 3, 4],\n",
       "       [4, 3, 6]])"
      ]
     },
     "execution_count": 8,
     "metadata": {},
     "output_type": "execute_result"
    }
   ],
   "source": [
    "arr1"
   ]
  },
  {
   "cell_type": "code",
   "execution_count": 88,
   "id": "6033d9c2",
   "metadata": {},
   "outputs": [
    {
     "data": {
      "text/plain": [
       "array([10, 11, 12])"
      ]
     },
     "execution_count": 88,
     "metadata": {},
     "output_type": "execute_result"
    }
   ],
   "source": [
    "arr3 = np.array([10,11,12])\n",
    "arr3"
   ]
  },
  {
   "cell_type": "code",
   "execution_count": 89,
   "id": "39e4e047",
   "metadata": {},
   "outputs": [
    {
     "data": {
      "text/plain": [
       "((2, 3), (3,))"
      ]
     },
     "execution_count": 89,
     "metadata": {},
     "output_type": "execute_result"
    }
   ],
   "source": [
    "(arr1.shape, arr3.shape)"
   ]
  },
  {
   "cell_type": "code",
   "execution_count": 90,
   "id": "68e46e05",
   "metadata": {},
   "outputs": [
    {
     "data": {
      "text/plain": [
       "array([[11, 14, 16],\n",
       "       [14, 14, 18]])"
      ]
     },
     "execution_count": 90,
     "metadata": {},
     "output_type": "execute_result"
    }
   ],
   "source": [
    "arr1 + arr3"
   ]
  },
  {
   "cell_type": "code",
   "execution_count": 10,
   "id": "3b429f8d",
   "metadata": {},
   "outputs": [
    {
     "data": {
      "text/plain": [
       "array([[ 1,  9, 16],\n",
       "       [16,  9, 36]], dtype=int32)"
      ]
     },
     "execution_count": 10,
     "metadata": {},
     "output_type": "execute_result"
    }
   ],
   "source": [
    "arr1 **2"
   ]
  },
  {
   "cell_type": "markdown",
   "id": "719887d6",
   "metadata": {},
   "source": [
    "## 6. 통계를 위한 연산   ( 2022.01.07)\n",
    "* 배열의 합, 평균, 표준편차, 분산, 최소값, 최대값, 누적합, 누적곱 등"
   ]
  },
  {
   "cell_type": "code",
   "execution_count": 12,
   "id": "1666538f",
   "metadata": {},
   "outputs": [
    {
     "data": {
      "text/plain": [
       "array([0, 1, 2, 3, 4])"
      ]
     },
     "execution_count": 12,
     "metadata": {},
     "output_type": "execute_result"
    }
   ],
   "source": [
    "arr1 = np.arange(5)\n",
    "arr1"
   ]
  },
  {
   "cell_type": "code",
   "execution_count": 17,
   "id": "2007a403",
   "metadata": {},
   "outputs": [
    {
     "data": {
      "text/plain": [
       "[10, 2.0]"
      ]
     },
     "execution_count": 17,
     "metadata": {},
     "output_type": "execute_result"
    }
   ],
   "source": [
    "# 합과 (산술)평균 :  sum(), mean()\n",
    "[arr1.sum(), arr1.mean()]"
   ]
  },
  {
   "cell_type": "code",
   "execution_count": 18,
   "id": "bd240b4f",
   "metadata": {},
   "outputs": [
    {
     "data": {
      "text/plain": [
       "[1.4142135623730951, 2.0]"
      ]
     },
     "execution_count": 18,
     "metadata": {},
     "output_type": "execute_result"
    }
   ],
   "source": [
    "# 표준 편차와 분산 : std(), var()\n",
    "[arr1.std(), arr1.var()]"
   ]
  },
  {
   "cell_type": "code",
   "execution_count": 21,
   "id": "65b491e5",
   "metadata": {},
   "outputs": [
    {
     "data": {
      "text/plain": [
       "(0, 4)"
      ]
     },
     "execution_count": 21,
     "metadata": {},
     "output_type": "execute_result"
    }
   ],
   "source": [
    "# 최소값과 최대값 : min(), max()\n",
    "arr1.min(), arr1.max()"
   ]
  },
  {
   "cell_type": "code",
   "execution_count": 22,
   "id": "691aa48c",
   "metadata": {},
   "outputs": [
    {
     "data": {
      "text/plain": [
       "array([1, 2, 3, 4])"
      ]
     },
     "execution_count": 22,
     "metadata": {},
     "output_type": "execute_result"
    }
   ],
   "source": [
    "# 누적합과 누적곱 : cumsum(), cumprod()\n",
    "arr2 = np.arange(1,5)\n",
    "arr2"
   ]
  },
  {
   "cell_type": "code",
   "execution_count": 24,
   "id": "958a8ee4",
   "metadata": {},
   "outputs": [
    {
     "data": {
      "text/plain": [
       "array([ 1,  3,  6, 10], dtype=int32)"
      ]
     },
     "execution_count": 24,
     "metadata": {},
     "output_type": "execute_result"
    }
   ],
   "source": [
    "# 누적합\n",
    "arr2.cumsum()"
   ]
  },
  {
   "cell_type": "code",
   "execution_count": 25,
   "id": "1c955a49",
   "metadata": {},
   "outputs": [
    {
     "data": {
      "text/plain": [
       "array([ 1,  2,  6, 24], dtype=int32)"
      ]
     },
     "execution_count": 25,
     "metadata": {},
     "output_type": "execute_result"
    }
   ],
   "source": [
    "# 누적곱\n",
    "arr2.cumprod()"
   ]
  },
  {
   "cell_type": "markdown",
   "id": "a5690418",
   "metadata": {},
   "source": [
    "## 7. 행렬 연산\n",
    "* 선형 대수를 위한 행렬연산\n",
    "* 행렬 곱, 전치 행렬, 역행렬, 행렬식 등\n",
    "    * 행렬곱(matrix product) : a.dot(B) or np.dot(A,B)\n",
    "    * 전치행렬 : A.transpose() or np.transpose(A)\n",
    "    * 역행렬 : np.linalg.inv(A)\n",
    "    * 행렬식 : np.linalg.det(A)"
   ]
  },
  {
   "cell_type": "code",
   "execution_count": 26,
   "id": "9371583e",
   "metadata": {},
   "outputs": [
    {
     "data": {
      "text/plain": [
       "array([[1, 2],\n",
       "       [3, 4]])"
      ]
     },
     "execution_count": 26,
     "metadata": {},
     "output_type": "execute_result"
    }
   ],
   "source": [
    "A = np.arange(1,5).reshape(2,2)\n",
    "# A = np.array([[1,2],[3,4]])\n",
    "A"
   ]
  },
  {
   "cell_type": "code",
   "execution_count": 28,
   "id": "106b22a2",
   "metadata": {},
   "outputs": [
    {
     "data": {
      "text/plain": [
       "array([[3, 2],\n",
       "       [0, 1]])"
      ]
     },
     "execution_count": 28,
     "metadata": {},
     "output_type": "execute_result"
    }
   ],
   "source": [
    "B = np.array([3,2,0,1]).reshape(2,2)\n",
    "B"
   ]
  },
  {
   "cell_type": "markdown",
   "id": "f5d7727a",
   "metadata": {},
   "source": [
    "### 7-1. 행렬의 곱"
   ]
  },
  {
   "cell_type": "code",
   "execution_count": 31,
   "id": "7024a586",
   "metadata": {},
   "outputs": [
    {
     "data": {
      "text/plain": [
       "array([[ 3,  4],\n",
       "       [ 9, 10]])"
      ]
     },
     "execution_count": 31,
     "metadata": {},
     "output_type": "execute_result"
    }
   ],
   "source": [
    "A.dot(B)"
   ]
  },
  {
   "cell_type": "code",
   "execution_count": 32,
   "id": "c0fa8575",
   "metadata": {},
   "outputs": [
    {
     "data": {
      "text/plain": [
       "array([[ 3,  4],\n",
       "       [ 9, 10]])"
      ]
     },
     "execution_count": 32,
     "metadata": {},
     "output_type": "execute_result"
    }
   ],
   "source": [
    "np.dot(A,B)"
   ]
  },
  {
   "cell_type": "markdown",
   "id": "74823d4a",
   "metadata": {},
   "source": [
    "### 7-2. 전치행렬"
   ]
  },
  {
   "cell_type": "code",
   "execution_count": 40,
   "id": "ff76a13b",
   "metadata": {},
   "outputs": [
    {
     "data": {
      "text/plain": [
       "array([[1, 3],\n",
       "       [2, 4]])"
      ]
     },
     "execution_count": 40,
     "metadata": {},
     "output_type": "execute_result"
    }
   ],
   "source": [
    "A.transpose()     # 차원을 바꾸는 것. ex. 2행3열을 3행2열로 바꾸는 것"
   ]
  },
  {
   "cell_type": "code",
   "execution_count": 35,
   "id": "ddfc2a8b",
   "metadata": {},
   "outputs": [
    {
     "data": {
      "text/plain": [
       "array([[3, 0],\n",
       "       [2, 1]])"
      ]
     },
     "execution_count": 35,
     "metadata": {},
     "output_type": "execute_result"
    }
   ],
   "source": [
    "np.transpose(B)"
   ]
  },
  {
   "cell_type": "markdown",
   "id": "fef09ccd",
   "metadata": {},
   "source": [
    "### 7-3. 역행렬"
   ]
  },
  {
   "cell_type": "code",
   "execution_count": 36,
   "id": "f1db2261",
   "metadata": {},
   "outputs": [
    {
     "data": {
      "text/plain": [
       "array([[-2. ,  1. ],\n",
       "       [ 1.5, -0.5]])"
      ]
     },
     "execution_count": 36,
     "metadata": {},
     "output_type": "execute_result"
    }
   ],
   "source": [
    "np.linalg.inv(A)"
   ]
  },
  {
   "cell_type": "markdown",
   "id": "0292cc3b",
   "metadata": {},
   "source": [
    "### 7-4. 행렬식"
   ]
  },
  {
   "cell_type": "code",
   "execution_count": 37,
   "id": "ba520081",
   "metadata": {},
   "outputs": [
    {
     "data": {
      "text/plain": [
       "-2.0000000000000004"
      ]
     },
     "execution_count": 37,
     "metadata": {},
     "output_type": "execute_result"
    }
   ],
   "source": [
    "np.linalg.det(A)"
   ]
  },
  {
   "cell_type": "code",
   "execution_count": 39,
   "id": "22caba31",
   "metadata": {},
   "outputs": [
    {
     "data": {
      "text/plain": [
       "array([[1.00000000e+00, 1.11022302e-16],\n",
       "       [0.00000000e+00, 1.00000000e+00]])"
      ]
     },
     "execution_count": 39,
     "metadata": {},
     "output_type": "execute_result"
    }
   ],
   "source": [
    "np.dot(A, np.linalg.inv(A))"
   ]
  },
  {
   "cell_type": "markdown",
   "id": "7321719f",
   "metadata": {},
   "source": [
    "## 8. Array 인덱싱과 슬라이싱\n",
    "* 인덱싱 : 배열의 위치나 조건을 지정해 배열의 원소를 선택하는 것\n",
    "* 슬라이싱 : 범위를 지정해 배열의 원소를 선택하는 것"
   ]
  },
  {
   "cell_type": "markdown",
   "id": "1c039e5c",
   "metadata": {},
   "source": [
    "### 8-1. 1차원 배열의 인덱싱\n",
    "#### 배열명[위치]\n",
    "* 파이썬의 인덱싱과 동일\n",
    "* 0번째로 시작함"
   ]
  },
  {
   "cell_type": "code",
   "execution_count": 41,
   "id": "a2e05f10",
   "metadata": {},
   "outputs": [
    {
     "data": {
      "text/plain": [
       "0"
      ]
     },
     "execution_count": 41,
     "metadata": {},
     "output_type": "execute_result"
    }
   ],
   "source": [
    "arr1[0]"
   ]
  },
  {
   "cell_type": "code",
   "execution_count": 42,
   "id": "88771c8b",
   "metadata": {},
   "outputs": [
    {
     "data": {
      "text/plain": [
       "3"
      ]
     },
     "execution_count": 42,
     "metadata": {},
     "output_type": "execute_result"
    }
   ],
   "source": [
    "arr1[3]"
   ]
  },
  {
   "cell_type": "code",
   "execution_count": 43,
   "id": "df6c57c9",
   "metadata": {},
   "outputs": [
    {
     "data": {
      "text/plain": [
       "array([1, 3, 4])"
      ]
     },
     "execution_count": 43,
     "metadata": {},
     "output_type": "execute_result"
    }
   ],
   "source": [
    "# shape : (m, )=>1차원, (m,n)=>2차원, (m,n,p)=>3차원\n",
    "# 인덱스 [] : [m] => 1차원, [m,n]=>2차원, [mn,n,p]=>3차원\n",
    "# arr1([1,3,4]) => 3차원 배열의 위치, 1면 3행 4열\n",
    "# 여러 인덱스의 요소들을 지정할 때는 리스트로 주어야 한다.\n",
    "arr1[[1,3,4]]"
   ]
  },
  {
   "cell_type": "code",
   "execution_count": 44,
   "id": "f5dec370",
   "metadata": {},
   "outputs": [
    {
     "data": {
      "text/plain": [
       "array([[ 1,  2,  3,  4],\n",
       "       [ 5,  6,  7,  8],\n",
       "       [ 9, 10, 11, 12]])"
      ]
     },
     "execution_count": 44,
     "metadata": {},
     "output_type": "execute_result"
    }
   ],
   "source": [
    "arr2 = np.arange(1,13).reshape(3,4)\n",
    "arr2"
   ]
  },
  {
   "cell_type": "code",
   "execution_count": 45,
   "id": "334398e7",
   "metadata": {},
   "outputs": [
    {
     "data": {
      "text/plain": [
       "12"
      ]
     },
     "execution_count": 45,
     "metadata": {},
     "output_type": "execute_result"
    }
   ],
   "source": [
    "# 2차원의 array에서 인덱싱을 하기 위해선 2개의 인자를 입력해야 한다.\n",
    "arr2[2,3]    # 인덱스는 0부터 시작하기 때문에 인덱스값을 3을 주면 오류가 나옴"
   ]
  },
  {
   "cell_type": "code",
   "execution_count": 47,
   "id": "abc71bbf",
   "metadata": {},
   "outputs": [
    {
     "data": {
      "text/plain": [
       "array([[90,  2,  3,  4],\n",
       "       [ 5,  6,  7,  8],\n",
       "       [ 9, 10, 11, 12]])"
      ]
     },
     "execution_count": 47,
     "metadata": {},
     "output_type": "execute_result"
    }
   ],
   "source": [
    "# 값 변경\n",
    "arr2[0,0] = 90\n",
    "arr2"
   ]
  },
  {
   "cell_type": "markdown",
   "id": "e1ff9a2d",
   "metadata": {},
   "source": [
    "#### 8-1-2. 2차원 배열명[행위치]\n",
    ": 2차원 배열에서 지정한 행 전체가 선택됨"
   ]
  },
  {
   "cell_type": "code",
   "execution_count": 48,
   "id": "eaa21241",
   "metadata": {},
   "outputs": [
    {
     "data": {
      "text/plain": [
       "array([5, 6, 7, 8])"
      ]
     },
     "execution_count": 48,
     "metadata": {},
     "output_type": "execute_result"
    }
   ],
   "source": [
    "# 두번째 행 (1행) 선택\n",
    "arr2[1]"
   ]
  },
  {
   "cell_type": "markdown",
   "id": "6608ab97",
   "metadata": {},
   "source": [
    "#### 8-1-3 2차원 배열명[:, 열위치]\n",
    ":2차원 배열에서 지정한 열 전체 선택"
   ]
  },
  {
   "cell_type": "code",
   "execution_count": 51,
   "id": "12145f3a",
   "metadata": {},
   "outputs": [
    {
     "data": {
      "text/plain": [
       "array([ 2,  6, 10])"
      ]
     },
     "execution_count": 51,
     "metadata": {},
     "output_type": "execute_result"
    }
   ],
   "source": [
    "# 1열 선택\n",
    "arr2[:,1]"
   ]
  },
  {
   "cell_type": "markdown",
   "id": "75a386f1",
   "metadata": {},
   "source": [
    "#### 8-1-4. 2차원 배열의 특정 행을 지정해서 행 전체를 변경"
   ]
  },
  {
   "cell_type": "code",
   "execution_count": 53,
   "id": "509d7cd7",
   "metadata": {},
   "outputs": [],
   "source": [
    "# 두번째 행 변경\n",
    "arr2[1] = np.array([-5, 1, 10, 9])"
   ]
  },
  {
   "cell_type": "code",
   "execution_count": 54,
   "id": "795d661b",
   "metadata": {},
   "outputs": [
    {
     "data": {
      "text/plain": [
       "array([[90,  2,  3,  4],\n",
       "       [-5,  1, 10,  9],\n",
       "       [ 9, 10, 11, 12]])"
      ]
     },
     "execution_count": 54,
     "metadata": {},
     "output_type": "execute_result"
    }
   ],
   "source": [
    "# 변경된 배열 확인\n",
    "arr2"
   ]
  },
  {
   "cell_type": "markdown",
   "id": "3a8cc54f",
   "metadata": {},
   "source": [
    "#### 8-1-5. 배열명\n",
    ": 지정한 인덱스의 원소를 가져옴"
   ]
  },
  {
   "cell_type": "code",
   "execution_count": 67,
   "id": "78bccbe4",
   "metadata": {},
   "outputs": [
    {
     "data": {
      "text/plain": [
       "array([90, 11])"
      ]
     },
     "execution_count": 67,
     "metadata": {},
     "output_type": "execute_result"
    }
   ],
   "source": [
    "arr2[[0,2],[0,2]]"
   ]
  },
  {
   "cell_type": "markdown",
   "id": "7950bfb3",
   "metadata": {},
   "source": [
    "#### 8-1-6. 배열명[조건]\n",
    ": 배열에서 조건을 만족하는 원소만 선택"
   ]
  },
  {
   "cell_type": "code",
   "execution_count": 56,
   "id": "c63b1e40",
   "metadata": {},
   "outputs": [
    {
     "data": {
      "text/plain": [
       "array([[ True, False, False, False],\n",
       "       [False, False, False, False],\n",
       "       [False, False,  True,  True]])"
      ]
     },
     "execution_count": 56,
     "metadata": {},
     "output_type": "execute_result"
    }
   ],
   "source": [
    "# 10이상인 원소 선택\n",
    "arr2 > 10"
   ]
  },
  {
   "cell_type": "code",
   "execution_count": 57,
   "id": "54d552ae",
   "metadata": {},
   "outputs": [
    {
     "data": {
      "text/plain": [
       "array([90, 11, 12])"
      ]
     },
     "execution_count": 57,
     "metadata": {},
     "output_type": "execute_result"
    }
   ],
   "source": [
    "arr2[arr2>10]"
   ]
  },
  {
   "cell_type": "code",
   "execution_count": 59,
   "id": "69bb5584",
   "metadata": {},
   "outputs": [
    {
     "data": {
      "text/plain": [
       "array([90,  2,  4, 10, 10, 12])"
      ]
     },
     "execution_count": 59,
     "metadata": {},
     "output_type": "execute_result"
    }
   ],
   "source": [
    "arr2[arr2%2==0]"
   ]
  },
  {
   "cell_type": "markdown",
   "id": "6debe547",
   "metadata": {},
   "source": [
    "### 8-2. 1차원 배열의 슬라이싱\n",
    "* 배열[시작위치:끝위치] : 시작위치에서 끝위치-1에 해당하는 배열의 원소를 반환"
   ]
  },
  {
   "cell_type": "code",
   "execution_count": 60,
   "id": "7fe6fdb9",
   "metadata": {},
   "outputs": [
    {
     "data": {
      "text/plain": [
       "array([0, 1, 2, 3, 4])"
      ]
     },
     "execution_count": 60,
     "metadata": {},
     "output_type": "execute_result"
    }
   ],
   "source": [
    "arr1"
   ]
  },
  {
   "cell_type": "code",
   "execution_count": 61,
   "id": "217bcb40",
   "metadata": {},
   "outputs": [
    {
     "data": {
      "text/plain": [
       "array([1, 2])"
      ]
     },
     "execution_count": 61,
     "metadata": {},
     "output_type": "execute_result"
    }
   ],
   "source": [
    "arr1[1:3]"
   ]
  },
  {
   "cell_type": "code",
   "execution_count": 62,
   "id": "d13619b6",
   "metadata": {},
   "outputs": [
    {
     "data": {
      "text/plain": [
       "array([1, 3])"
      ]
     },
     "execution_count": 62,
     "metadata": {},
     "output_type": "execute_result"
    }
   ],
   "source": [
    "arr1[1:5:2]"
   ]
  },
  {
   "cell_type": "code",
   "execution_count": 66,
   "id": "af972709",
   "metadata": {},
   "outputs": [
    {
     "data": {
      "text/plain": [
       "array([0, 2, 4])"
      ]
     },
     "execution_count": 66,
     "metadata": {},
     "output_type": "execute_result"
    }
   ],
   "source": [
    "arr1[:5:2]   # 처음 인덱스 값이 비어있는 경우"
   ]
  },
  {
   "cell_type": "code",
   "execution_count": 68,
   "id": "7e393f00",
   "metadata": {},
   "outputs": [
    {
     "data": {
      "text/plain": [
       "array([1, 3])"
      ]
     },
     "execution_count": 68,
     "metadata": {},
     "output_type": "execute_result"
    }
   ],
   "source": [
    "arr1[1::2]   # 중간에 인덱스 값이 비어있는 경우"
   ]
  },
  {
   "cell_type": "code",
   "execution_count": 69,
   "id": "a18e1f31",
   "metadata": {},
   "outputs": [
    {
     "data": {
      "text/plain": [
       "array([0, 2, 4])"
      ]
     },
     "execution_count": 69,
     "metadata": {},
     "output_type": "execute_result"
    }
   ],
   "source": [
    "arr1[::2]    # 처음, 중간 값이 비어있는 경우"
   ]
  },
  {
   "cell_type": "code",
   "execution_count": 70,
   "id": "5c2cd445",
   "metadata": {},
   "outputs": [
    {
     "data": {
      "text/plain": [
       "array([4, 3, 2, 1, 0])"
      ]
     },
     "execution_count": 70,
     "metadata": {},
     "output_type": "execute_result"
    }
   ],
   "source": [
    "arr1[::-1]   # 끝 값부터 가져오는 경우"
   ]
  },
  {
   "cell_type": "code",
   "execution_count": 72,
   "id": "c115ae3f",
   "metadata": {},
   "outputs": [
    {
     "data": {
      "text/plain": [
       "array([4, 2, 0])"
      ]
     },
     "execution_count": 72,
     "metadata": {},
     "output_type": "execute_result"
    }
   ],
   "source": [
    "arr1[::-2]   # 끝 값부터 2차이로 가져오는 경우"
   ]
  },
  {
   "cell_type": "markdown",
   "id": "be3defd8",
   "metadata": {},
   "source": [
    "### 8-3. 2차원 배열의 슬라이싱"
   ]
  },
  {
   "cell_type": "code",
   "execution_count": 73,
   "id": "281f9717",
   "metadata": {},
   "outputs": [
    {
     "data": {
      "text/plain": [
       "array([[90,  2,  3,  4],\n",
       "       [-5,  1, 10,  9],\n",
       "       [ 9, 10, 11, 12]])"
      ]
     },
     "execution_count": 73,
     "metadata": {},
     "output_type": "execute_result"
    }
   ],
   "source": [
    "arr2"
   ]
  },
  {
   "cell_type": "code",
   "execution_count": 74,
   "id": "039bf948",
   "metadata": {},
   "outputs": [
    {
     "data": {
      "text/plain": [
       "array([ 9, 10, 11, 12])"
      ]
     },
     "execution_count": 74,
     "metadata": {},
     "output_type": "execute_result"
    }
   ],
   "source": [
    "# 인덱스값 2의 모든 요소 꺼내기\n",
    "arr2[2]"
   ]
  },
  {
   "cell_type": "code",
   "execution_count": 76,
   "id": "babc1cf2",
   "metadata": {},
   "outputs": [
    {
     "data": {
      "text/plain": [
       "array([ 4,  9, 12])"
      ]
     },
     "execution_count": 76,
     "metadata": {},
     "output_type": "execute_result"
    }
   ],
   "source": [
    "# 3열의 모든 요소 꺼내기\n",
    "arr2[:,3]"
   ]
  },
  {
   "cell_type": "code",
   "execution_count": 78,
   "id": "24fbe4ee",
   "metadata": {},
   "outputs": [
    {
     "data": {
      "text/plain": [
       "array([[ 1, 10],\n",
       "       [10, 11]])"
      ]
     },
     "execution_count": 78,
     "metadata": {},
     "output_type": "execute_result"
    }
   ],
   "source": [
    "# 인덱스 범위가 교차하는 값 산출\n",
    "arr2[1:3,1:3]"
   ]
  },
  {
   "cell_type": "code",
   "execution_count": 82,
   "id": "458163bf",
   "metadata": {},
   "outputs": [
    {
     "data": {
      "text/plain": [
       "array([[10, 20, 30],\n",
       "       [40, 50, 60],\n",
       "       [70, 80, 90]])"
      ]
     },
     "execution_count": 82,
     "metadata": {},
     "output_type": "execute_result"
    }
   ],
   "source": [
    "arr3 = np.arange(10,100,10).reshape(3,3)\n",
    "arr3"
   ]
  },
  {
   "cell_type": "code",
   "execution_count": 84,
   "id": "2150faee",
   "metadata": {},
   "outputs": [
    {
     "data": {
      "text/plain": [
       "array([40, 50])"
      ]
     },
     "execution_count": 84,
     "metadata": {},
     "output_type": "execute_result"
    }
   ],
   "source": [
    "# 1행의 0열과 1열 요소 선택\n",
    "arr3[1,:2]\n",
    "arr3[1][:2]"
   ]
  },
  {
   "cell_type": "code",
   "execution_count": 86,
   "id": "be55ae62",
   "metadata": {},
   "outputs": [
    {
     "data": {
      "text/plain": [
       "array([[10,  1,  3],\n",
       "       [40,  4,  1],\n",
       "       [70, 80, 90]])"
      ]
     },
     "execution_count": 86,
     "metadata": {},
     "output_type": "execute_result"
    }
   ],
   "source": [
    "arr3[:2,1:3]=np.array([[1,3],[4,1]])\n",
    "arr3"
   ]
  },
  {
   "cell_type": "code",
   "execution_count": 85,
   "id": "18d05ae6",
   "metadata": {
    "scrolled": true
   },
   "outputs": [
    {
     "data": {
      "text/plain": [
       "80"
      ]
     },
     "execution_count": 85,
     "metadata": {},
     "output_type": "execute_result"
    }
   ],
   "source": [
    "arr3[2][1]"
   ]
  },
  {
   "cell_type": "markdown",
   "id": "b99afcb2",
   "metadata": {},
   "source": [
    "## 9. Array boolean 인덱싱 (Mask)\n",
    "* 다차원의 인덱싱을 응용하여 boolean 인덱싱\n",
    "* boolean 인덱싱을 통해 만들어낸 array를 통해 원하는 행 또는 열 값만 뽑아냄\n",
    "* 가리고 싶은 부분은 가리고, 원하는 요소만 꺼냄"
   ]
  },
  {
   "cell_type": "code",
   "execution_count": 87,
   "id": "d962162f",
   "metadata": {},
   "outputs": [
    {
     "data": {
      "text/plain": [
       "array(['Beomwoo', 'Beomwoo', 'Kim', 'Joan', 'Lee', 'Beomwoo', 'Park',\n",
       "       'Beomwoo'], dtype='<U7')"
      ]
     },
     "execution_count": 87,
     "metadata": {},
     "output_type": "execute_result"
    }
   ],
   "source": [
    "names = np.array(['Beomwoo','Beomwoo','Kim','Joan','Lee','Beomwoo',\n",
    "                  'Park','Beomwoo'])\n",
    "names"
   ]
  },
  {
   "cell_type": "code",
   "execution_count": 88,
   "id": "1d584786",
   "metadata": {},
   "outputs": [
    {
     "data": {
      "text/plain": [
       "(8,)"
      ]
     },
     "execution_count": 88,
     "metadata": {},
     "output_type": "execute_result"
    }
   ],
   "source": [
    "names.shape"
   ]
  },
  {
   "cell_type": "code",
   "execution_count": 89,
   "id": "9d99a7f9",
   "metadata": {},
   "outputs": [
    {
     "data": {
      "text/plain": [
       "array([[-0.62466037,  0.26174321, -0.28761517,  1.41579874],\n",
       "       [-0.6680825 ,  0.78301641, -0.07915627, -0.22042899],\n",
       "       [ 0.53928883,  0.03082658,  0.70469791, -0.06932154],\n",
       "       [-0.3468292 , -0.91641437,  1.44543026,  0.92032372],\n",
       "       [ 1.25716357, -0.25116615, -0.37348871, -0.57321228],\n",
       "       [ 2.06147554,  1.32861291,  0.05478093, -0.81569653],\n",
       "       [ 1.01571947, -0.55669504,  0.03063272, -0.77734374],\n",
       "       [-1.65665259,  0.48649632, -1.82105813,  0.85631752]])"
      ]
     },
     "execution_count": 89,
     "metadata": {},
     "output_type": "execute_result"
    }
   ],
   "source": [
    "# 8행 4열의 실수 난수 배열 생성\n",
    "data = np.random.randn(8,4)\n",
    "data"
   ]
  },
  {
   "cell_type": "code",
   "execution_count": 90,
   "id": "2c794d40",
   "metadata": {},
   "outputs": [
    {
     "data": {
      "text/plain": [
       "(8, 4)"
      ]
     },
     "execution_count": 90,
     "metadata": {},
     "output_type": "execute_result"
    }
   ],
   "source": [
    "data.shape"
   ]
  },
  {
   "cell_type": "code",
   "execution_count": 92,
   "id": "02aefca9",
   "metadata": {},
   "outputs": [
    {
     "data": {
      "text/plain": [
       "array([ True,  True, False, False, False,  True, False,  True])"
      ]
     },
     "execution_count": 92,
     "metadata": {},
     "output_type": "execute_result"
    }
   ],
   "source": [
    "# 요소가 Beomwoo인 항목에 대한 mask 생성\n",
    "names_mask_Beomwoo = (names == 'Beomwoo')\n",
    "names_mask_Beomwoo"
   ]
  },
  {
   "cell_type": "code",
   "execution_count": 95,
   "id": "722bb817",
   "metadata": {},
   "outputs": [
    {
     "data": {
      "text/plain": [
       "array([[-0.62466037,  0.26174321, -0.28761517,  1.41579874],\n",
       "       [-0.6680825 ,  0.78301641, -0.07915627, -0.22042899],\n",
       "       [ 2.06147554,  1.32861291,  0.05478093, -0.81569653],\n",
       "       [-1.65665259,  0.48649632, -1.82105813,  0.85631752]])"
      ]
     },
     "execution_count": 95,
     "metadata": {},
     "output_type": "execute_result"
    }
   ],
   "source": [
    "data[names_mask_Beomwoo]"
   ]
  },
  {
   "cell_type": "code",
   "execution_count": 97,
   "id": "5c512436",
   "metadata": {},
   "outputs": [
    {
     "data": {
      "text/plain": [
       "array([[ 0.53928883,  0.03082658,  0.70469791, -0.06932154]])"
      ]
     },
     "execution_count": 97,
     "metadata": {},
     "output_type": "execute_result"
    }
   ],
   "source": [
    "# 요소가 Kim인 행의 데이터만 꺼내기\n",
    "names_mask_Kim = (names == 'Kim')\n",
    "names_mask_Kim\n",
    "data[names_mask_Kim]"
   ]
  },
  {
   "cell_type": "code",
   "execution_count": 98,
   "id": "e1e92b02",
   "metadata": {},
   "outputs": [
    {
     "data": {
      "text/plain": [
       "array([False, False,  True, False, False, False,  True, False])"
      ]
     },
     "execution_count": 98,
     "metadata": {},
     "output_type": "execute_result"
    }
   ],
   "source": [
    "# 논리 연산을 응용하여, 요소가 Kim 또는 Park인 행의 데이터만 꺼내기\n",
    "(names == 'Kim')|(names =='Park')"
   ]
  },
  {
   "cell_type": "markdown",
   "id": "25bf75db",
   "metadata": {},
   "source": [
    "### 9-1. 마스크 인덱싱 문제\n",
    "* 문제1. 0번째 열이 0보다 작은 행데이터를 추출하기"
   ]
  },
  {
   "cell_type": "code",
   "execution_count": 101,
   "id": "4bd31b9b",
   "metadata": {},
   "outputs": [
    {
     "data": {
      "text/plain": [
       "array([ True,  True, False,  True, False, False, False,  True])"
      ]
     },
     "execution_count": 101,
     "metadata": {},
     "output_type": "execute_result"
    }
   ],
   "source": [
    "data[:,0]<0"
   ]
  },
  {
   "cell_type": "code",
   "execution_count": 103,
   "id": "7c69aeeb",
   "metadata": {},
   "outputs": [
    {
     "data": {
      "text/plain": [
       "array([[-0.3468292 , -0.91641437,  1.44543026,  0.92032372],\n",
       "       [-1.65665259,  0.48649632, -1.82105813,  0.85631752]])"
      ]
     },
     "execution_count": 103,
     "metadata": {},
     "output_type": "execute_result"
    }
   ],
   "source": [
    "data[data[:,0]<0][2:4]"
   ]
  },
  {
   "cell_type": "markdown",
   "id": "18553d35",
   "metadata": {},
   "source": [
    "## 10. 수학 관련 함수\n",
    "* 제곱근, 절대값, 삼각함수, 지수로그함수, 반올림함수 등"
   ]
  },
  {
   "cell_type": "code",
   "execution_count": 104,
   "id": "0671f614",
   "metadata": {},
   "outputs": [
    {
     "data": {
      "text/plain": [
       "array([[0.62466037, 0.26174321, 0.28761517, 1.41579874],\n",
       "       [0.6680825 , 0.78301641, 0.07915627, 0.22042899],\n",
       "       [0.53928883, 0.03082658, 0.70469791, 0.06932154],\n",
       "       [0.3468292 , 0.91641437, 1.44543026, 0.92032372],\n",
       "       [1.25716357, 0.25116615, 0.37348871, 0.57321228],\n",
       "       [2.06147554, 1.32861291, 0.05478093, 0.81569653],\n",
       "       [1.01571947, 0.55669504, 0.03063272, 0.77734374],\n",
       "       [1.65665259, 0.48649632, 1.82105813, 0.85631752]])"
      ]
     },
     "execution_count": 104,
     "metadata": {},
     "output_type": "execute_result"
    }
   ],
   "source": [
    "# 각 성분의 절대값 계산하기\n",
    "np.abs(data)"
   ]
  },
  {
   "cell_type": "code",
   "execution_count": 106,
   "id": "6de888ef",
   "metadata": {},
   "outputs": [
    {
     "data": {
      "text/plain": [
       "array([[0.79035459, 0.51160845, 0.53629765, 1.18987341],\n",
       "       [0.81736314, 0.88488215, 0.28134725, 0.46949866],\n",
       "       [0.73436287, 0.175575  , 0.83946287, 0.26328983],\n",
       "       [0.58892206, 0.95729534, 1.20226048, 0.95933504],\n",
       "       [1.12123306, 0.50116479, 0.61113723, 0.75710784],\n",
       "       [1.43578395, 1.15265472, 0.23405327, 0.9031592 ],\n",
       "       [1.00782909, 0.74611999, 0.17502207, 0.88167099],\n",
       "       [1.28711017, 0.69749288, 1.34946587, 0.92537426]])"
      ]
     },
     "execution_count": 106,
     "metadata": {},
     "output_type": "execute_result"
    }
   ],
   "source": [
    "# 각 성분의 제곱근 계산하기\n",
    "np.sqrt(np.abs(data))"
   ]
  },
  {
   "cell_type": "markdown",
   "id": "6baae928",
   "metadata": {},
   "source": [
    "### 10-1. 지수함수"
   ]
  },
  {
   "cell_type": "code",
   "execution_count": 107,
   "id": "0d70702e",
   "metadata": {},
   "outputs": [
    {
     "data": {
      "text/plain": [
       "array([[0.53544325, 1.29919288, 0.75005018, 4.11977578],\n",
       "       [0.51269072, 2.18806242, 0.92389553, 0.8021746 ],\n",
       "       [1.71478692, 1.03130664, 2.0232354 , 0.93302663],\n",
       "       [0.70692606, 0.39995055, 4.24367761, 2.51010283],\n",
       "       [3.51543606, 0.77789312, 0.68832875, 0.56371173],\n",
       "       [7.85755541, 3.77580239, 1.05630919, 0.44233112],\n",
       "       [2.76134938, 0.57310001, 1.03110673, 0.45962528],\n",
       "       [0.19077652, 1.62660711, 0.1618544 , 2.35447441]])"
      ]
     },
     "execution_count": 107,
     "metadata": {},
     "output_type": "execute_result"
    }
   ],
   "source": [
    "# 각 성분을 자연대수 e의 지수로 삼은 값을 계산하기\n",
    "np.exp(data)"
   ]
  },
  {
   "cell_type": "markdown",
   "id": "65cde382",
   "metadata": {},
   "source": [
    "### 10-2. 로그함수\n",
    "* 자연로그 : log()\n",
    "* 상용로그 : log10()\n",
    "* 밑이 2인 로그 : log2()"
   ]
  },
  {
   "cell_type": "code",
   "execution_count": 109,
   "id": "e2cc832f",
   "metadata": {},
   "outputs": [
    {
     "data": {
      "text/plain": [
       "array([[-0.47054718, -1.34039137, -1.2461319 ,  0.34769385],\n",
       "       [-0.40334361, -0.24460162, -2.53633123, -1.51217969],\n",
       "       [-0.61750399, -3.47937791, -0.34998606, -2.66899965],\n",
       "       [-1.05892284, -0.08728664,  0.36840703, -0.0830298 ],\n",
       "       [ 0.22885805, -1.38164063, -0.98486749, -0.55649916],\n",
       "       [ 0.72342201,  0.28413548, -2.90441308, -0.20371289],\n",
       "       [ 0.0155972 , -0.58573769, -3.4856864 , -0.25187263],\n",
       "       [ 0.50479906, -0.72052594,  0.59941772, -0.15511403]])"
      ]
     },
     "execution_count": 109,
     "metadata": {},
     "output_type": "execute_result"
    }
   ],
   "source": [
    "# 자연로그\n",
    "np.log(abs(data))"
   ]
  },
  {
   "cell_type": "code",
   "execution_count": 110,
   "id": "b4c1f33e",
   "metadata": {},
   "outputs": [
    {
     "data": {
      "text/plain": [
       "array([[-0.20435605, -0.58212457, -0.54118821,  0.15100152],\n",
       "       [-0.1751699 , -0.10622914, -1.10151466, -0.65673129],\n",
       "       [-0.26817857, -1.51107463, -0.15199702, -1.15913182],\n",
       "       [-0.45988435, -0.03790811,  0.15999714, -0.03605938],\n",
       "       [ 0.09939179, -0.6000389 , -0.42772252, -0.24168451],\n",
       "       [ 0.31417819,  0.12339847, -1.26137057, -0.08847138],\n",
       "       [ 0.00677378, -0.25438265, -1.51381437, -0.10938689],\n",
       "       [ 0.21923144, -0.31292044,  0.26032381, -0.06736517]])"
      ]
     },
     "execution_count": 110,
     "metadata": {},
     "output_type": "execute_result"
    }
   ],
   "source": [
    "# 상용로그\n",
    "np.log10(abs(data))"
   ]
  },
  {
   "cell_type": "code",
   "execution_count": 111,
   "id": "47893cfe",
   "metadata": {},
   "outputs": [
    {
     "data": {
      "text/plain": [
       "array([[-0.67885609, -1.93377598, -1.79778831,  0.5016162 ],\n",
       "       [-0.58190182, -0.35288555, -3.65915249, -2.18161414],\n",
       "       [-0.89086994, -5.01968125, -0.50492316, -3.85055255],\n",
       "       [-1.52770274, -0.12592801,  0.531499  , -0.11978668],\n",
       "       [ 0.33017238, -1.99328608, -1.42086344, -0.80285858],\n",
       "       [ 1.04367734,  0.40992084, -4.19018234, -0.29389557],\n",
       "       [ 0.022502  , -0.84504086, -5.02878249, -0.3633754 ],\n",
       "       [ 0.72827109, -1.0394992 ,  0.86477697, -0.22378225]])"
      ]
     },
     "execution_count": 111,
     "metadata": {},
     "output_type": "execute_result"
    }
   ],
   "source": [
    "# 밑이 2인 로그\n",
    "np.log2(abs(data))"
   ]
  },
  {
   "cell_type": "markdown",
   "id": "a578e9fd",
   "metadata": {},
   "source": [
    "### 10-3. 기타 수학 함수"
   ]
  },
  {
   "cell_type": "code",
   "execution_count": 112,
   "id": "8851f817",
   "metadata": {},
   "outputs": [
    {
     "data": {
      "text/plain": [
       "array([[-1.,  1., -1.,  1.],\n",
       "       [-1.,  1., -1., -1.],\n",
       "       [ 1.,  1.,  1., -1.],\n",
       "       [-1., -1.,  1.,  1.],\n",
       "       [ 1., -1., -1., -1.],\n",
       "       [ 1.,  1.,  1., -1.],\n",
       "       [ 1., -1.,  1., -1.],\n",
       "       [-1.,  1., -1.,  1.]])"
      ]
     },
     "execution_count": 112,
     "metadata": {},
     "output_type": "execute_result"
    }
   ],
   "source": [
    "# 각 성분의 부호 계산 : sign()\n",
    "np.sign(data)"
   ]
  },
  {
   "cell_type": "code",
   "execution_count": 113,
   "id": "9a4fbe92",
   "metadata": {},
   "outputs": [
    {
     "data": {
      "text/plain": [
       "3.154503067360295"
      ]
     },
     "execution_count": 113,
     "metadata": {},
     "output_type": "execute_result"
    }
   ],
   "source": [
    "# 전체 성분의 합을 계산\n",
    "np.sum(data)"
   ]
  },
  {
   "cell_type": "code",
   "execution_count": 114,
   "id": "6475cf68",
   "metadata": {},
   "outputs": [
    {
     "data": {
      "text/plain": [
       "array([ 1.57742275,  1.16641988, -0.32577646,  0.7364369 ])"
      ]
     },
     "execution_count": 114,
     "metadata": {},
     "output_type": "execute_result"
    }
   ],
   "source": [
    "# 같은 열을 갖는 행의 요소들을 합한 결과 ( axis = 0 )\n",
    "np.sum(data, axis=0)"
   ]
  },
  {
   "cell_type": "code",
   "execution_count": 115,
   "id": "e3d251ab",
   "metadata": {},
   "outputs": [
    {
     "data": {
      "text/plain": [
       "array([ 0.76526641, -0.18465135,  1.20549179,  1.1025104 ,  0.05929643,\n",
       "        2.62917286, -0.28768659, -2.13489688])"
      ]
     },
     "execution_count": 115,
     "metadata": {},
     "output_type": "execute_result"
    }
   ],
   "source": [
    "# 같은 행을 갖는 열의 요소들을 합한 결과 ( axis = 1 )\n",
    "np.sum(data, axis=1)"
   ]
  },
  {
   "cell_type": "code",
   "execution_count": 116,
   "id": "1ee0cfb4",
   "metadata": {},
   "outputs": [
    {
     "data": {
      "text/plain": [
       "0.09857822085500922"
      ]
     },
     "execution_count": 116,
     "metadata": {},
     "output_type": "execute_result"
    }
   ],
   "source": [
    "# 전체 성분의 평균 계산\n",
    "np.mean(data)"
   ]
  },
  {
   "cell_type": "code",
   "execution_count": 117,
   "id": "96aa734d",
   "metadata": {},
   "outputs": [
    {
     "data": {
      "text/plain": [
       "0.8981088929844412"
      ]
     },
     "execution_count": 117,
     "metadata": {},
     "output_type": "execute_result"
    }
   ],
   "source": [
    "# 전체 성분의 표준편차 계산\n",
    "np.std(data)"
   ]
  },
  {
   "cell_type": "code",
   "execution_count": 118,
   "id": "08b5c07a",
   "metadata": {},
   "outputs": [
    {
     "data": {
      "text/plain": [
       "20"
      ]
     },
     "execution_count": 118,
     "metadata": {},
     "output_type": "execute_result"
    }
   ],
   "source": [
    "# 전체 성분의 최소값, 최대값이 위치한 인덱스를 반환\n",
    "np.argmax(data)"
   ]
  },
  {
   "cell_type": "code",
   "execution_count": 121,
   "id": "b7743bb3",
   "metadata": {},
   "outputs": [
    {
     "data": {
      "text/plain": [
       "[20, 0]"
      ]
     },
     "execution_count": 121,
     "metadata": {},
     "output_type": "execute_result"
    }
   ],
   "source": [
    "# 최대값, 최소값의 위치 인덱스 : argmax(), argmin()\n",
    "[np.argmax(data), np.argmax(min)]"
   ]
  },
  {
   "cell_type": "code",
   "execution_count": 122,
   "id": "60716e19",
   "metadata": {},
   "outputs": [
    {
     "data": {
      "text/plain": [
       "array([3, 1, 2, 2, 0, 0, 0, 3], dtype=int64)"
      ]
     },
     "execution_count": 122,
     "metadata": {},
     "output_type": "execute_result"
    }
   ],
   "source": [
    "# 행방향으로 최대값이 위치한 인덱스 반환\n",
    "np.argmax(data, axis=1)"
   ]
  },
  {
   "cell_type": "code",
   "execution_count": 123,
   "id": "7cb2862f",
   "metadata": {},
   "outputs": [
    {
     "data": {
      "text/plain": [
       "array([-0.62466037, -0.36291716, -0.65053233,  0.76526641,  0.0971839 ,\n",
       "        0.88020032,  0.80104404,  0.58061505,  1.11990389,  1.15073047,\n",
       "        1.85542838,  1.78610684,  1.43927764,  0.52286327,  1.96829352,\n",
       "        2.88861725,  4.14578082,  3.89461467,  3.52112596,  2.94791368,\n",
       "        5.00938922,  6.33800214,  6.39278307,  5.57708653,  6.592806  ,\n",
       "        6.03611096,  6.06674368,  5.28939994,  3.63274735,  4.11924367,\n",
       "        2.29818554,  3.15450307])"
      ]
     },
     "execution_count": 123,
     "metadata": {},
     "output_type": "execute_result"
    }
   ],
   "source": [
    "# 누적합\n",
    "np.cumsum(data)"
   ]
  },
  {
   "cell_type": "code",
   "execution_count": 124,
   "id": "98da4d99",
   "metadata": {},
   "outputs": [
    {
     "data": {
      "text/plain": [
       "array([-6.24660371e-01, -1.63500611e-01,  4.70252566e-02,  6.65782989e-02,\n",
       "       -4.44797965e-02, -3.48284106e-02,  2.75688720e-03, -6.07697853e-04,\n",
       "       -3.27724664e-04, -1.01026313e-05, -7.11930315e-06,  4.93521035e-07,\n",
       "       -1.71167505e-07,  1.56860362e-07,  2.26730713e-07,  2.08665654e-07,\n",
       "        2.62326859e-07, -6.58876259e-08,  2.46082847e-08, -1.41057710e-08,\n",
       "       -2.90787019e-08, -3.86343389e-08, -2.11642515e-09,  1.72636066e-09,\n",
       "        1.75349813e-09, -9.76163712e-10, -2.99025544e-11,  2.32445635e-11,\n",
       "       -3.85081664e-11, -1.87340812e-11,  3.41158508e-11,  2.92140009e-11])"
      ]
     },
     "execution_count": 124,
     "metadata": {},
     "output_type": "execute_result"
    }
   ],
   "source": [
    "# 누적곱\n",
    "np.cumprod(data)"
   ]
  },
  {
   "cell_type": "code",
   "execution_count": 125,
   "id": "8f79e8af",
   "metadata": {},
   "outputs": [
    {
     "data": {
      "text/plain": [
       "array([[-0.62466037, -0.28761517,  0.26174321,  1.41579874],\n",
       "       [-0.6680825 , -0.22042899, -0.07915627,  0.78301641],\n",
       "       [-0.06932154,  0.03082658,  0.53928883,  0.70469791],\n",
       "       [-0.91641437, -0.3468292 ,  0.92032372,  1.44543026],\n",
       "       [-0.57321228, -0.37348871, -0.25116615,  1.25716357],\n",
       "       [-0.81569653,  0.05478093,  1.32861291,  2.06147554],\n",
       "       [-0.77734374, -0.55669504,  0.03063272,  1.01571947],\n",
       "       [-1.82105813, -1.65665259,  0.48649632,  0.85631752]])"
      ]
     },
     "execution_count": 125,
     "metadata": {},
     "output_type": "execute_result"
    }
   ],
   "source": [
    "# 전체 성분에 대해서 행 기준 오름차순으로 정렬\n",
    "np.sort(data)"
   ]
  },
  {
   "cell_type": "code",
   "execution_count": 126,
   "id": "222c06f0",
   "metadata": {},
   "outputs": [
    {
     "data": {
      "text/plain": [
       "array([[-1.82105813, -1.65665259,  0.48649632,  0.85631752],\n",
       "       [-0.77734374, -0.55669504,  0.03063272,  1.01571947],\n",
       "       [-0.81569653,  0.05478093,  1.32861291,  2.06147554],\n",
       "       [-0.57321228, -0.37348871, -0.25116615,  1.25716357],\n",
       "       [-0.91641437, -0.3468292 ,  0.92032372,  1.44543026],\n",
       "       [-0.06932154,  0.03082658,  0.53928883,  0.70469791],\n",
       "       [-0.6680825 , -0.22042899, -0.07915627,  0.78301641],\n",
       "       [-0.62466037, -0.28761517,  0.26174321,  1.41579874]])"
      ]
     },
     "execution_count": 126,
     "metadata": {},
     "output_type": "execute_result"
    }
   ],
   "source": [
    "# np.sort(data)를 데칼코마니 한 것\n",
    "np.sort(data)[::-1]"
   ]
  },
  {
   "cell_type": "markdown",
   "id": "374bb328",
   "metadata": {},
   "source": [
    "## 11. 두 개의 array에 적용되는 함수"
   ]
  },
  {
   "cell_type": "markdown",
   "id": "09b838ab",
   "metadata": {},
   "source": [
    "* add(), subtract(), multiply(), divide()"
   ]
  },
  {
   "cell_type": "code",
   "execution_count": 129,
   "id": "5fff85dd",
   "metadata": {},
   "outputs": [],
   "source": [
    "data1 = np.random.randn(5,3)\n",
    "data2 = np.random.randn(5,3)"
   ]
  },
  {
   "cell_type": "code",
   "execution_count": 130,
   "id": "8e220040",
   "metadata": {},
   "outputs": [
    {
     "name": "stdout",
     "output_type": "stream",
     "text": [
      "[[ 3.44099149e-04  3.10473254e-01  3.86332598e-01]\n",
      " [-2.24194245e-01 -1.61957586e-01  5.39891139e-01]\n",
      " [ 1.33482098e+00  1.46184246e+00 -5.93723449e-01]\n",
      " [ 6.56671382e-01 -1.89079190e+00  9.25565081e-01]\n",
      " [ 1.02810579e+00 -9.03628214e-01  9.47871879e-01]]\n",
      "[[ 0.54557525  2.23386824  0.02116786]\n",
      " [ 0.24338916 -0.10294189 -0.7408525 ]\n",
      " [-1.35556482  0.49975754 -0.03390486]\n",
      " [ 0.4136539  -0.69470825 -1.63612494]\n",
      " [ 2.54189417 -0.25753643 -0.7404461 ]]\n"
     ]
    }
   ],
   "source": [
    "print(data1)\n",
    "print(data2)"
   ]
  },
  {
   "cell_type": "code",
   "execution_count": 132,
   "id": "06ddd174",
   "metadata": {},
   "outputs": [
    {
     "data": {
      "text/plain": [
       "array([[ 0.54591935,  2.54434149,  0.40750045],\n",
       "       [ 0.01919491, -0.26489948, -0.20096136],\n",
       "       [-0.02074384,  1.9616    , -0.62762831],\n",
       "       [ 1.07032528, -2.58550015, -0.71055986],\n",
       "       [ 3.56999996, -1.16116464,  0.20742578]])"
      ]
     },
     "execution_count": 132,
     "metadata": {},
     "output_type": "execute_result"
    }
   ],
   "source": [
    "np.add(data1,data2)"
   ]
  },
  {
   "cell_type": "markdown",
   "id": "15d49639",
   "metadata": {},
   "source": [
    "* 최대, 최소값 계산하기 : np.maximum(), np.minimum()"
   ]
  }
 ],
 "metadata": {
  "kernelspec": {
   "display_name": "Python 3 (ipykernel)",
   "language": "python",
   "name": "python3"
  },
  "language_info": {
   "codemirror_mode": {
    "name": "ipython",
    "version": 3
   },
   "file_extension": ".py",
   "mimetype": "text/x-python",
   "name": "python",
   "nbconvert_exporter": "python",
   "pygments_lexer": "ipython3",
   "version": "3.9.7"
  }
 },
 "nbformat": 4,
 "nbformat_minor": 5
}
