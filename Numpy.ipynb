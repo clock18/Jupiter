{
 "cells": [
  {
   "cell_type": "markdown",
   "id": "9b9fc390",
   "metadata": {},
   "source": [
    "# Numpy\n",
    "\n",
    "* numpy 모듈 선언\n",
    "* 홈페이지 : https://numpy.org/"
   ]
  },
  {
   "cell_type": "code",
   "execution_count": 12,
   "id": "46f268a5",
   "metadata": {},
   "outputs": [],
   "source": [
    "import numpy as np"
   ]
  },
  {
   "cell_type": "code",
   "execution_count": 13,
   "id": "9efe8681",
   "metadata": {},
   "outputs": [
    {
     "data": {
      "text/plain": [
       "'1.20.3'"
      ]
     },
     "execution_count": 13,
     "metadata": {},
     "output_type": "execute_result"
    }
   ],
   "source": [
    "np.__version__"
   ]
  },
  {
   "cell_type": "markdown",
   "id": "991995ca",
   "metadata": {},
   "source": [
    "## Array 정의 및 사용\n",
    "* 시퀀스 데이터 ( 리스트, 튜플 등 ) 로부터 배열 생성\n",
    "* https://numpy.org/doc/stable/reference/arrays.html"
   ]
  },
  {
   "cell_type": "code",
   "execution_count": 6,
   "id": "6f438b0d",
   "metadata": {},
   "outputs": [
    {
     "data": {
      "text/plain": [
       "[1, 2, 3]"
      ]
     },
     "execution_count": 6,
     "metadata": {},
     "output_type": "execute_result"
    }
   ],
   "source": [
    "data1 = [1,2,3]\n",
    "data1"
   ]
  },
  {
   "cell_type": "code",
   "execution_count": 7,
   "id": "092b69b9",
   "metadata": {},
   "outputs": [
    {
     "data": {
      "text/plain": [
       "[1, 2, 3, 3.5, 5]"
      ]
     },
     "execution_count": 7,
     "metadata": {},
     "output_type": "execute_result"
    }
   ],
   "source": [
    "data2 = [1,2,3,3.5,5]\n",
    "data2"
   ]
  },
  {
   "cell_type": "markdown",
   "id": "02895de0",
   "metadata": {},
   "source": [
    "### 리스트 객체를 이용하여 array생성"
   ]
  },
  {
   "cell_type": "code",
   "execution_count": 8,
   "id": "8d5ea294",
   "metadata": {},
   "outputs": [
    {
     "data": {
      "text/plain": [
       "array([1, 2, 3])"
      ]
     },
     "execution_count": 8,
     "metadata": {},
     "output_type": "execute_result"
    }
   ],
   "source": [
    "arr1 = np.array(data1)\n",
    "arr1"
   ]
  },
  {
   "cell_type": "markdown",
   "id": "61bdea1b",
   "metadata": {},
   "source": [
    "#### array 크기 확인"
   ]
  },
  {
   "cell_type": "code",
   "execution_count": 10,
   "id": "1cb09433",
   "metadata": {},
   "outputs": [
    {
     "data": {
      "text/plain": [
       "(3,)"
      ]
     },
     "execution_count": 10,
     "metadata": {},
     "output_type": "execute_result"
    }
   ],
   "source": [
    "arr1.shape"
   ]
  },
  {
   "cell_type": "markdown",
   "id": "a294bffb",
   "metadata": {},
   "source": [
    "#### 리스트를 직접 입력하여 array 생성"
   ]
  },
  {
   "cell_type": "code",
   "execution_count": 11,
   "id": "7549f585",
   "metadata": {},
   "outputs": [
    {
     "data": {
      "text/plain": [
       "array([1, 2, 3, 4, 5])"
      ]
     },
     "execution_count": 11,
     "metadata": {},
     "output_type": "execute_result"
    }
   ],
   "source": [
    "arr2 = np.array([1,2,3,4,5])\n",
    "arr2"
   ]
  },
  {
   "cell_type": "code",
   "execution_count": 12,
   "id": "d101b784",
   "metadata": {},
   "outputs": [
    {
     "data": {
      "text/plain": [
       "(5,)"
      ]
     },
     "execution_count": 12,
     "metadata": {},
     "output_type": "execute_result"
    }
   ],
   "source": [
    "arr2.shape"
   ]
  },
  {
   "cell_type": "markdown",
   "id": "5635f449",
   "metadata": {},
   "source": [
    "#### array의 자료형 확인"
   ]
  },
  {
   "cell_type": "code",
   "execution_count": 14,
   "id": "d7c37dc3",
   "metadata": {},
   "outputs": [
    {
     "data": {
      "text/plain": [
       "dtype('int32')"
      ]
     },
     "execution_count": 14,
     "metadata": {},
     "output_type": "execute_result"
    }
   ],
   "source": [
    "arr2.dtype     # c언어 기반이기 때문에 데이터 형식이 세분화되어있어서 int32가 뜸"
   ]
  },
  {
   "cell_type": "code",
   "execution_count": 15,
   "id": "c241a729",
   "metadata": {},
   "outputs": [
    {
     "data": {
      "text/plain": [
       "array([1. , 2. , 3. , 3.5, 4. ])"
      ]
     },
     "execution_count": 15,
     "metadata": {},
     "output_type": "execute_result"
    }
   ],
   "source": [
    "arr3 = np.array([1,2,3,3.5,4])       # 실수가 더 큰 범위이므로 실수가 하나라도 \n",
    "arr3                                 # 들어가면 소수점 처리해버림"
   ]
  },
  {
   "cell_type": "code",
   "execution_count": 16,
   "id": "f1849187",
   "metadata": {},
   "outputs": [
    {
     "data": {
      "text/plain": [
       "dtype('float64')"
      ]
     },
     "execution_count": 16,
     "metadata": {},
     "output_type": "execute_result"
    }
   ],
   "source": [
    "arr3.dtype     # dtype = data type"
   ]
  },
  {
   "cell_type": "code",
   "execution_count": 17,
   "id": "c9e1b898",
   "metadata": {},
   "outputs": [
    {
     "data": {
      "text/plain": [
       "(5,)"
      ]
     },
     "execution_count": 17,
     "metadata": {},
     "output_type": "execute_result"
    }
   ],
   "source": [
    "arr3.shape"
   ]
  },
  {
   "cell_type": "code",
   "execution_count": 22,
   "id": "d856ee3a",
   "metadata": {},
   "outputs": [
    {
     "data": {
      "text/plain": [
       "array([[1, 2, 3],\n",
       "       [4, 5, 6],\n",
       "       [7, 8, 9]])"
      ]
     },
     "execution_count": 22,
     "metadata": {},
     "output_type": "execute_result"
    }
   ],
   "source": [
    "arr4 = np.array([[1,2,3],[4,5,6],[7,8,9]])\n",
    "arr4"
   ]
  },
  {
   "cell_type": "code",
   "execution_count": 21,
   "id": "0738809d",
   "metadata": {},
   "outputs": [
    {
     "data": {
      "text/plain": [
       "(3, 3)"
      ]
     },
     "execution_count": 21,
     "metadata": {},
     "output_type": "execute_result"
    }
   ],
   "source": [
    "arr4.shape"
   ]
  },
  {
   "cell_type": "code",
   "execution_count": 25,
   "id": "0b303531",
   "metadata": {},
   "outputs": [
    {
     "data": {
      "text/plain": [
       "array([0, 1, 2, 3, 4, 5, 6, 7, 8, 9])"
      ]
     },
     "execution_count": 25,
     "metadata": {},
     "output_type": "execute_result"
    }
   ],
   "source": [
    "np.arange(10)"
   ]
  },
  {
   "cell_type": "code",
   "execution_count": 26,
   "id": "c9b9232a",
   "metadata": {},
   "outputs": [
    {
     "data": {
      "text/plain": [
       "array([1, 2, 3, 4])"
      ]
     },
     "execution_count": 26,
     "metadata": {},
     "output_type": "execute_result"
    }
   ],
   "source": [
    "np.arange(1,5)"
   ]
  },
  {
   "cell_type": "code",
   "execution_count": 27,
   "id": "8bfa2387",
   "metadata": {},
   "outputs": [
    {
     "data": {
      "text/plain": [
       "array([1, 3, 5, 7, 9])"
      ]
     },
     "execution_count": 27,
     "metadata": {},
     "output_type": "execute_result"
    }
   ],
   "source": [
    "np.arange(1,10,2)"
   ]
  },
  {
   "cell_type": "code",
   "execution_count": 28,
   "id": "6789cc31",
   "metadata": {},
   "outputs": [
    {
     "data": {
      "text/plain": [
       "array([[ 0,  1,  2,  3],\n",
       "       [ 4,  5,  6,  7],\n",
       "       [ 8,  9, 10, 11]])"
      ]
     },
     "execution_count": 28,
     "metadata": {},
     "output_type": "execute_result"
    }
   ],
   "source": [
    "np.arange(12).reshape(3,4)      # reshape(행,열)"
   ]
  },
  {
   "cell_type": "code",
   "execution_count": 29,
   "id": "42a838ea",
   "metadata": {},
   "outputs": [
    {
     "data": {
      "text/plain": [
       "(3, 4)"
      ]
     },
     "execution_count": 29,
     "metadata": {},
     "output_type": "execute_result"
    }
   ],
   "source": [
    "b1 = np.arange(12).reshape(3,4)\n",
    "b1.shape"
   ]
  },
  {
   "cell_type": "markdown",
   "id": "43b4a654",
   "metadata": {},
   "source": [
    "## 범위를 지정해 배열생성2 : linspace()함수\n",
    "> 형식 : arr.obj = np.linspace(start, stop,[num=50])"
   ]
  },
  {
   "cell_type": "code",
   "execution_count": 30,
   "id": "10d101f5",
   "metadata": {},
   "outputs": [
    {
     "data": {
      "text/plain": [
       "array([ 1.,  2.,  3.,  4.,  5.,  6.,  7.,  8.,  9., 10.])"
      ]
     },
     "execution_count": 30,
     "metadata": {},
     "output_type": "execute_result"
    }
   ],
   "source": [
    "# 1부터 10사이에 10개의 숫자를 넣는것\n",
    "np.linspace(1,10,10)"
   ]
  },
  {
   "cell_type": "code",
   "execution_count": 31,
   "id": "72b044f6",
   "metadata": {},
   "outputs": [
    {
     "data": {
      "text/plain": [
       "array([0.        , 0.16534698, 0.33069396, 0.49604095, 0.66138793,\n",
       "       0.82673491, 0.99208189, 1.15742887, 1.32277585, 1.48812284,\n",
       "       1.65346982, 1.8188168 , 1.98416378, 2.14951076, 2.31485774,\n",
       "       2.48020473, 2.64555171, 2.81089869, 2.97624567, 3.14159265])"
      ]
     },
     "execution_count": 31,
     "metadata": {},
     "output_type": "execute_result"
    }
   ],
   "source": [
    "np.linspace(0,np.pi, 20)"
   ]
  },
  {
   "cell_type": "code",
   "execution_count": 33,
   "id": "b473e307",
   "metadata": {},
   "outputs": [
    {
     "data": {
      "text/plain": [
       "(50,)"
      ]
     },
     "execution_count": 33,
     "metadata": {},
     "output_type": "execute_result"
    }
   ],
   "source": [
    "np.linspace(1,10).shape"
   ]
  },
  {
   "cell_type": "markdown",
   "id": "936171de",
   "metadata": {},
   "source": [
    "## 특별한 형태의 배열생성\n",
    "> np.zeros(), np.ones(), np.eye()\n",
    "\n",
    "* 모든 요소가 0인 배열 생성 : np.zeros(shape, dtype=float)"
   ]
  },
  {
   "cell_type": "code",
   "execution_count": 34,
   "id": "9c12aa81",
   "metadata": {},
   "outputs": [
    {
     "data": {
      "text/plain": [
       "array([0, 0, 0, 0, 0, 0, 0, 0, 0, 0])"
      ]
     },
     "execution_count": 34,
     "metadata": {},
     "output_type": "execute_result"
    }
   ],
   "source": [
    "np.zeros(10, dtype=int)"
   ]
  },
  {
   "cell_type": "markdown",
   "id": "f491eefa",
   "metadata": {},
   "source": [
    "* 모든 요소가 1인 배열 생성 : np.ones(shape, dtype=none)"
   ]
  },
  {
   "cell_type": "code",
   "execution_count": 35,
   "id": "3760939e",
   "metadata": {},
   "outputs": [
    {
     "data": {
      "text/plain": [
       "array([1., 1., 1., 1., 1., 1., 1., 1., 1., 1.])"
      ]
     },
     "execution_count": 35,
     "metadata": {},
     "output_type": "execute_result"
    }
   ],
   "source": [
    "np.ones(10)"
   ]
  },
  {
   "cell_type": "code",
   "execution_count": 36,
   "id": "9f227f55",
   "metadata": {},
   "outputs": [
    {
     "data": {
      "text/plain": [
       "array([[1, 1, 1, 1, 1],\n",
       "       [1, 1, 1, 1, 1],\n",
       "       [1, 1, 1, 1, 1]])"
      ]
     },
     "execution_count": 36,
     "metadata": {},
     "output_type": "execute_result"
    }
   ],
   "source": [
    "np.ones((3,5),dtype=int)"
   ]
  },
  {
   "cell_type": "markdown",
   "id": "64189fc6",
   "metadata": {},
   "source": [
    "* 대각요소가 1인 배열 생성 1 ; np.eye(n,m,k=K,dtype=none)"
   ]
  },
  {
   "cell_type": "code",
   "execution_count": 37,
   "id": "e3ff3505",
   "metadata": {},
   "outputs": [
    {
     "data": {
      "text/plain": [
       "array([[1., 0., 0.],\n",
       "       [0., 1., 0.],\n",
       "       [0., 0., 1.]])"
      ]
     },
     "execution_count": 37,
     "metadata": {},
     "output_type": "execute_result"
    }
   ],
   "source": [
    "# 3행 3열의 대각요소가 1인 행렬. 타입이 '' 이면 기본값은 float\n",
    "np.eye(3)"
   ]
  },
  {
   "cell_type": "code",
   "execution_count": 38,
   "id": "9b1b21e2",
   "metadata": {},
   "outputs": [
    {
     "data": {
      "text/plain": [
       "array([[1., 0., 0., 0.],\n",
       "       [0., 1., 0., 0.],\n",
       "       [0., 0., 1., 0.]])"
      ]
     },
     "execution_count": 38,
     "metadata": {},
     "output_type": "execute_result"
    }
   ],
   "source": [
    "# 3행 4열의 대각요소가 1인 행렬 생성. \n",
    "np.eye(3,4)"
   ]
  },
  {
   "cell_type": "code",
   "execution_count": 39,
   "id": "c2250906",
   "metadata": {},
   "outputs": [
    {
     "data": {
      "text/plain": [
       "array([[0, 1, 0, 0],\n",
       "       [0, 0, 1, 0],\n",
       "       [0, 0, 0, 1]])"
      ]
     },
     "execution_count": 39,
     "metadata": {},
     "output_type": "execute_result"
    }
   ],
   "source": [
    "# k는 열의 인덱스 위치를 의미함.\n",
    "np.eye(3,4,k=1,dtype=int)"
   ]
  },
  {
   "cell_type": "code",
   "execution_count": 40,
   "id": "598358f0",
   "metadata": {},
   "outputs": [
    {
     "data": {
      "text/plain": [
       "array([[0., 0., 1., 0.],\n",
       "       [0., 0., 0., 1.],\n",
       "       [0., 0., 0., 0.]])"
      ]
     },
     "execution_count": 40,
     "metadata": {},
     "output_type": "execute_result"
    }
   ],
   "source": [
    "np.eye(3,4,k=2)"
   ]
  },
  {
   "cell_type": "markdown",
   "id": "a4f80241",
   "metadata": {},
   "source": [
    "* 대각요소가 1인 배열 생성 2 : np.identity(n,dtype=none)"
   ]
  },
  {
   "cell_type": "code",
   "execution_count": 41,
   "id": "05948e62",
   "metadata": {},
   "outputs": [
    {
     "data": {
      "text/plain": [
       "array([[1., 0., 0., 0., 0.],\n",
       "       [0., 1., 0., 0., 0.],\n",
       "       [0., 0., 1., 0., 0.],\n",
       "       [0., 0., 0., 1., 0.],\n",
       "       [0., 0., 0., 0., 1.]])"
      ]
     },
     "execution_count": 41,
     "metadata": {},
     "output_type": "execute_result"
    }
   ],
   "source": [
    "# n*n 크기의 단위행렬 생성\n",
    "np.identity(5)  # 5행 5열"
   ]
  },
  {
   "cell_type": "markdown",
   "id": "ec8f5a7b",
   "metadata": {},
   "source": [
    "* 초기화되지 않은 배열 생성 : np.empty(shape, dtype=float)"
   ]
  },
  {
   "cell_type": "code",
   "execution_count": 42,
   "id": "3c701d7c",
   "metadata": {},
   "outputs": [
    {
     "data": {
      "text/plain": [
       "array([6.44448339e+247, 9.08367203e+223, 2.31647114e-152, 2.64685961e+180])"
      ]
     },
     "execution_count": 42,
     "metadata": {},
     "output_type": "execute_result"
    }
   ],
   "source": [
    "np.empty(4)"
   ]
  },
  {
   "cell_type": "markdown",
   "id": "5c23da2c",
   "metadata": {},
   "source": [
    "* 배열의 데이터 타입 변환"
   ]
  },
  {
   "cell_type": "markdown",
   "id": "90aff789",
   "metadata": {},
   "source": [
    "    * 문자열 배열을 숫자형 배열로 변환"
   ]
  },
  {
   "cell_type": "code",
   "execution_count": 44,
   "id": "cbcc7a36",
   "metadata": {},
   "outputs": [
    {
     "data": {
      "text/plain": [
       "array(['1.5', '0.62', '2', '3.14', '3.141592'], dtype='<U8')"
      ]
     },
     "execution_count": 44,
     "metadata": {},
     "output_type": "execute_result"
    }
   ],
   "source": [
    "np.array(['1.5','0.62','2','3.14','3.141592'])"
   ]
  },
  {
   "cell_type": "code",
   "execution_count": 46,
   "id": "470577ef",
   "metadata": {},
   "outputs": [
    {
     "data": {
      "text/plain": [
       "array([1.5     , 0.62    , 2.      , 3.14    , 3.141592])"
      ]
     },
     "execution_count": 46,
     "metadata": {},
     "output_type": "execute_result"
    }
   ],
   "source": [
    "# 문자열인 str_a1을 float형식으로 바꾸는 것\n",
    "str_a1 = np.array(['1.5','0.62','2','3.14','3.141592'])\n",
    "num_a1 = str_a1.astype(float)\n",
    "num_a1"
   ]
  },
  {
   "cell_type": "code",
   "execution_count": 47,
   "id": "c8f76eaa",
   "metadata": {},
   "outputs": [
    {
     "data": {
      "text/plain": [
       "dtype('<U8')"
      ]
     },
     "execution_count": 47,
     "metadata": {},
     "output_type": "execute_result"
    }
   ],
   "source": [
    "str_a1.dtype"
   ]
  },
  {
   "cell_type": "code",
   "execution_count": 48,
   "id": "06330cd2",
   "metadata": {},
   "outputs": [
    {
     "data": {
      "text/plain": [
       "dtype('float64')"
      ]
     },
     "execution_count": 48,
     "metadata": {},
     "output_type": "execute_result"
    }
   ],
   "source": [
    "num_a1.dtype"
   ]
  },
  {
   "cell_type": "code",
   "execution_count": 52,
   "id": "34cf7a07",
   "metadata": {},
   "outputs": [
    {
     "data": {
      "text/plain": [
       "array([1.5     , 0.62    , 2.      , 3.14    , 3.141592], dtype=float32)"
      ]
     },
     "execution_count": 52,
     "metadata": {},
     "output_type": "execute_result"
    }
   ],
   "source": [
    "num_a2 = str_a1.astype(float).astype('float32')\n",
    "num_a2"
   ]
  },
  {
   "cell_type": "code",
   "execution_count": 54,
   "id": "abd6e0f1",
   "metadata": {},
   "outputs": [
    {
     "data": {
      "text/plain": [
       "array([1, 3, 5, 7, 9])"
      ]
     },
     "execution_count": 54,
     "metadata": {},
     "output_type": "execute_result"
    }
   ],
   "source": [
    "str_a2 = np.array(['1','3','5','7','9'])\n",
    "num_a2 = str_a2.astype(int)\n",
    "num_a2"
   ]
  },
  {
   "cell_type": "markdown",
   "id": "193239e4",
   "metadata": {},
   "source": [
    "* 실수형 배열을 정수형 배열로 변환"
   ]
  },
  {
   "cell_type": "code",
   "execution_count": 16,
   "id": "2a43d72c",
   "metadata": {},
   "outputs": [
    {
     "data": {
      "text/plain": [
       "array([10.   , 21.   ,  0.549,  4.75 ,  5.98 ])"
      ]
     },
     "execution_count": 16,
     "metadata": {},
     "output_type": "execute_result"
    }
   ],
   "source": [
    "num_f1 = np.array([10, 21, 0.549, 4.75, 5.98])\n",
    "num_f1"
   ]
  },
  {
   "cell_type": "code",
   "execution_count": 56,
   "id": "48a44c82",
   "metadata": {},
   "outputs": [
    {
     "data": {
      "text/plain": [
       "array([10, 21,  0,  4,  5])"
      ]
     },
     "execution_count": 56,
     "metadata": {},
     "output_type": "execute_result"
    }
   ],
   "source": [
    "num_i1 = num_f1.astype(int)\n",
    "num_i1"
   ]
  },
  {
   "cell_type": "code",
   "execution_count": 57,
   "id": "9db9b23d",
   "metadata": {},
   "outputs": [
    {
     "data": {
      "text/plain": [
       "dtype('float64')"
      ]
     },
     "execution_count": 57,
     "metadata": {},
     "output_type": "execute_result"
    }
   ],
   "source": [
    "num_f1.dtype"
   ]
  },
  {
   "cell_type": "code",
   "execution_count": 60,
   "id": "8aca7213",
   "metadata": {},
   "outputs": [
    {
     "data": {
      "text/plain": [
       "dtype('int32')"
      ]
     },
     "execution_count": 60,
     "metadata": {},
     "output_type": "execute_result"
    }
   ],
   "source": [
    "num_i1.dtype"
   ]
  },
  {
   "cell_type": "markdown",
   "id": "618a2d24",
   "metadata": {},
   "source": [
    "* 숫자형 배열을 문자열 배열로 변환"
   ]
  },
  {
   "cell_type": "code",
   "execution_count": 17,
   "id": "c7081725",
   "metadata": {},
   "outputs": [
    {
     "data": {
      "text/plain": [
       "array([10., 21.,  1.,  5.,  6.])"
      ]
     },
     "execution_count": 17,
     "metadata": {},
     "output_type": "execute_result"
    }
   ],
   "source": [
    "# 반올림하기\n",
    "np.around(num_f1)"
   ]
  },
  {
   "cell_type": "code",
   "execution_count": 62,
   "id": "86068a03",
   "metadata": {},
   "outputs": [
    {
     "data": {
      "text/plain": [
       "array(['10.0', '21.0', '0.549', '4.75', '5.98'], dtype='<U32')"
      ]
     },
     "execution_count": 62,
     "metadata": {},
     "output_type": "execute_result"
    }
   ],
   "source": [
    "num_f1.astype('U')"
   ]
  },
  {
   "cell_type": "code",
   "execution_count": 64,
   "id": "5f21343f",
   "metadata": {},
   "outputs": [
    {
     "data": {
      "text/plain": [
       "array([b'10.0', b'21.0', b'0.549', b'4.75', b'5.98'], dtype='|S32')"
      ]
     },
     "execution_count": 64,
     "metadata": {},
     "output_type": "execute_result"
    }
   ],
   "source": [
    "num_f1.astype('S')"
   ]
  },
  {
   "cell_type": "markdown",
   "id": "052ebaef",
   "metadata": {},
   "source": [
    "## 난수 배열 생성"
   ]
  },
  {
   "cell_type": "markdown",
   "id": "175e6952",
   "metadata": {},
   "source": [
    "### random.rand(), random.randint()"
   ]
  },
  {
   "cell_type": "markdown",
   "id": "9eab7ae7",
   "metadata": {},
   "source": [
    "#### random.rand(d0,d1,...,dn)\n",
    "* 0과1사이의 실수난수를 갖는 numpy배열 생성"
   ]
  },
  {
   "cell_type": "code",
   "execution_count": 65,
   "id": "93005ed4",
   "metadata": {},
   "outputs": [
    {
     "data": {
      "text/plain": [
       "0.04320281129230619"
      ]
     },
     "execution_count": 65,
     "metadata": {},
     "output_type": "execute_result"
    }
   ],
   "source": [
    "np.random.rand()"
   ]
  },
  {
   "cell_type": "code",
   "execution_count": 20,
   "id": "26744d7b",
   "metadata": {},
   "outputs": [
    {
     "data": {
      "text/plain": [
       "array([[[0.65755866, 0.15300237, 0.53043597, 0.12584811],\n",
       "        [0.54012753, 0.51569213, 0.1514582 , 0.92918854],\n",
       "        [0.09437641, 0.77587796, 0.09828656, 0.3586348 ]],\n",
       "\n",
       "       [[0.2817147 , 0.42996793, 0.37273942, 0.3849081 ],\n",
       "        [0.09935783, 0.79466575, 0.90434421, 0.6238419 ],\n",
       "        [0.79659191, 0.38823539, 0.7843929 , 0.11214486]],\n",
       "\n",
       "       [[0.69158787, 0.12614538, 0.13309486, 0.40452338],\n",
       "        [0.6391867 , 0.50532374, 0.59220646, 0.2596032 ],\n",
       "        [0.53009733, 0.55589761, 0.30172354, 0.02727078]]])"
      ]
     },
     "execution_count": 20,
     "metadata": {},
     "output_type": "execute_result"
    }
   ],
   "source": [
    "np.random.rand(3,3,4)"
   ]
  },
  {
   "cell_type": "markdown",
   "id": "587836c2",
   "metadata": {},
   "source": [
    "#### random.randint(low,high,size)\n",
    "* [low,high]사이의 정수 난수를 갖는 numpy배열을 생성"
   ]
  },
  {
   "cell_type": "code",
   "execution_count": 68,
   "id": "d9ec961c",
   "metadata": {},
   "outputs": [
    {
     "data": {
      "text/plain": [
       "1"
      ]
     },
     "execution_count": 68,
     "metadata": {},
     "output_type": "execute_result"
    }
   ],
   "source": [
    "np.random.randint(10)"
   ]
  },
  {
   "cell_type": "code",
   "execution_count": 69,
   "id": "37e1fc3a",
   "metadata": {},
   "outputs": [
    {
     "data": {
      "text/plain": [
       "18"
      ]
     },
     "execution_count": 69,
     "metadata": {},
     "output_type": "execute_result"
    }
   ],
   "source": [
    "np.random.randint(10,20)"
   ]
  },
  {
   "cell_type": "code",
   "execution_count": 72,
   "id": "71e49d07",
   "metadata": {},
   "outputs": [
    {
     "data": {
      "text/plain": [
       "array([[12, 19, 18, 13, 17],\n",
       "       [14, 10, 14, 11, 18],\n",
       "       [17, 15, 11, 19, 10]])"
      ]
     },
     "execution_count": 72,
     "metadata": {},
     "output_type": "execute_result"
    }
   ],
   "source": [
    "np.random.randint(10,20,(3,5))"
   ]
  },
  {
   "cell_type": "markdown",
   "id": "a8b8c30b",
   "metadata": {},
   "source": [
    "## 기본 연산(합, 차, 곱, 나눗셈 등)\n",
    ": 기본적으로 동일한 크기의 array간 연산 수행"
   ]
  },
  {
   "cell_type": "code",
   "execution_count": 74,
   "id": "9259a448",
   "metadata": {},
   "outputs": [
    {
     "data": {
      "text/plain": [
       "array([[1, 3, 4],\n",
       "       [4, 3, 6]])"
      ]
     },
     "execution_count": 74,
     "metadata": {},
     "output_type": "execute_result"
    }
   ],
   "source": [
    "arr1 = np.array([[1,3,4],[4,3,6]])\n",
    "arr1"
   ]
  },
  {
   "cell_type": "code",
   "execution_count": 77,
   "id": "470e0c37",
   "metadata": {},
   "outputs": [
    {
     "data": {
      "text/plain": [
       "array([[10, 11, 12],\n",
       "       [13, 14, 15]])"
      ]
     },
     "execution_count": 77,
     "metadata": {},
     "output_type": "execute_result"
    }
   ],
   "source": [
    "arr2 = np.arange(10,16).reshape(2,3)\n",
    "arr2"
   ]
  },
  {
   "cell_type": "code",
   "execution_count": 78,
   "id": "ff4ae49e",
   "metadata": {},
   "outputs": [
    {
     "name": "stdout",
     "output_type": "stream",
     "text": [
      "(2, 3) (2, 3)\n"
     ]
    }
   ],
   "source": [
    "print(arr1.shape, arr2.shape)"
   ]
  },
  {
   "cell_type": "markdown",
   "id": "e141f214",
   "metadata": {},
   "source": [
    "### 배열의 합"
   ]
  },
  {
   "cell_type": "code",
   "execution_count": 80,
   "id": "2f0a508b",
   "metadata": {},
   "outputs": [
    {
     "data": {
      "text/plain": [
       "array([[11, 14, 16],\n",
       "       [17, 17, 21]])"
      ]
     },
     "execution_count": 80,
     "metadata": {},
     "output_type": "execute_result"
    }
   ],
   "source": [
    "arr1 + arr2"
   ]
  },
  {
   "cell_type": "markdown",
   "id": "439666cb",
   "metadata": {},
   "source": [
    "### 배열의 차"
   ]
  },
  {
   "cell_type": "code",
   "execution_count": 81,
   "id": "d157d39d",
   "metadata": {},
   "outputs": [
    {
     "data": {
      "text/plain": [
       "array([[ -9,  -8,  -8],\n",
       "       [ -9, -11,  -9]])"
      ]
     },
     "execution_count": 81,
     "metadata": {},
     "output_type": "execute_result"
    }
   ],
   "source": [
    "arr1 - arr2"
   ]
  },
  {
   "cell_type": "markdown",
   "id": "d5a24bd3",
   "metadata": {},
   "source": [
    "### 배열의 곱"
   ]
  },
  {
   "cell_type": "code",
   "execution_count": 82,
   "id": "6efdb28b",
   "metadata": {},
   "outputs": [
    {
     "data": {
      "text/plain": [
       "array([[10, 33, 48],\n",
       "       [52, 42, 90]])"
      ]
     },
     "execution_count": 82,
     "metadata": {},
     "output_type": "execute_result"
    }
   ],
   "source": [
    "arr1 * arr2"
   ]
  },
  {
   "cell_type": "markdown",
   "id": "c4823415",
   "metadata": {},
   "source": [
    "### 배열의 나눗셈"
   ]
  },
  {
   "cell_type": "code",
   "execution_count": 83,
   "id": "b19bc0c1",
   "metadata": {},
   "outputs": [
    {
     "data": {
      "text/plain": [
       "array([[0.1       , 0.27272727, 0.33333333],\n",
       "       [0.30769231, 0.21428571, 0.4       ]])"
      ]
     },
     "execution_count": 83,
     "metadata": {},
     "output_type": "execute_result"
    }
   ],
   "source": [
    "arr1 / arr2"
   ]
  },
  {
   "cell_type": "markdown",
   "id": "c7363868",
   "metadata": {},
   "source": [
    "### 배열의 비교 연산"
   ]
  },
  {
   "cell_type": "code",
   "execution_count": 84,
   "id": "2b5be28f",
   "metadata": {},
   "outputs": [
    {
     "data": {
      "text/plain": [
       "array([[False,  True,  True],\n",
       "       [ True,  True,  True]])"
      ]
     },
     "execution_count": 84,
     "metadata": {},
     "output_type": "execute_result"
    }
   ],
   "source": [
    "arr2 > 10"
   ]
  },
  {
   "cell_type": "markdown",
   "id": "d88ed0e0",
   "metadata": {},
   "source": [
    "## 배열의 Broadcasting\n",
    "* 서로 크기가 다른 array들의 연산이 가능하도록 배열을 자동적으로 변환하여 연산 수행"
   ]
  },
  {
   "cell_type": "code",
   "execution_count": 85,
   "id": "2cf4c73b",
   "metadata": {},
   "outputs": [
    {
     "data": {
      "text/plain": [
       "array([[1, 3, 4],\n",
       "       [4, 3, 6]])"
      ]
     },
     "execution_count": 85,
     "metadata": {},
     "output_type": "execute_result"
    }
   ],
   "source": [
    "arr1"
   ]
  },
  {
   "cell_type": "code",
   "execution_count": 88,
   "id": "6033d9c2",
   "metadata": {},
   "outputs": [
    {
     "data": {
      "text/plain": [
       "array([10, 11, 12])"
      ]
     },
     "execution_count": 88,
     "metadata": {},
     "output_type": "execute_result"
    }
   ],
   "source": [
    "arr3 = np.array([10,11,12])\n",
    "arr3"
   ]
  },
  {
   "cell_type": "code",
   "execution_count": 89,
   "id": "39e4e047",
   "metadata": {},
   "outputs": [
    {
     "data": {
      "text/plain": [
       "((2, 3), (3,))"
      ]
     },
     "execution_count": 89,
     "metadata": {},
     "output_type": "execute_result"
    }
   ],
   "source": [
    "(arr1.shape, arr3.shape)"
   ]
  },
  {
   "cell_type": "code",
   "execution_count": 90,
   "id": "68e46e05",
   "metadata": {},
   "outputs": [
    {
     "data": {
      "text/plain": [
       "array([[11, 14, 16],\n",
       "       [14, 14, 18]])"
      ]
     },
     "execution_count": 90,
     "metadata": {},
     "output_type": "execute_result"
    }
   ],
   "source": [
    "arr1 + arr3"
   ]
  },
  {
   "cell_type": "code",
   "execution_count": 91,
   "id": "3b429f8d",
   "metadata": {},
   "outputs": [
    {
     "data": {
      "text/plain": [
       "array([[ 1,  9, 16],\n",
       "       [16,  9, 36]], dtype=int32)"
      ]
     },
     "execution_count": 91,
     "metadata": {},
     "output_type": "execute_result"
    }
   ],
   "source": [
    "arr1 **2"
   ]
  }
 ],
 "metadata": {
  "kernelspec": {
   "display_name": "Python 3 (ipykernel)",
   "language": "python",
   "name": "python3"
  },
  "language_info": {
   "codemirror_mode": {
    "name": "ipython",
    "version": 3
   },
   "file_extension": ".py",
   "mimetype": "text/x-python",
   "name": "python",
   "nbconvert_exporter": "python",
   "pygments_lexer": "ipython3",
   "version": "3.9.7"
  }
 },
 "nbformat": 4,
 "nbformat_minor": 5
}
