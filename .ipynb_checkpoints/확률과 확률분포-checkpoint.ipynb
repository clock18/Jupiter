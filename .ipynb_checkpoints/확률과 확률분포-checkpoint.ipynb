{
 "cells": [
  {
   "cell_type": "markdown",
   "id": "921c259b",
   "metadata": {},
   "source": [
    "# 🎈 추론 통계"
   ]
  },
  {
   "cell_type": "markdown",
   "id": "0df02f0d",
   "metadata": {},
   "source": [
    "* 일부의 데이터로부터 전체의 통계적 성질을 추측"
   ]
  },
  {
   "cell_type": "code",
   "execution_count": null,
   "id": "d572a090",
   "metadata": {},
   "outputs": [],
   "source": []
  },
  {
   "cell_type": "code",
   "execution_count": null,
   "id": "0dcdd361",
   "metadata": {},
   "outputs": [],
   "source": []
  },
  {
   "cell_type": "code",
   "execution_count": null,
   "id": "5ff8c6ca",
   "metadata": {},
   "outputs": [],
   "source": []
  },
  {
   "cell_type": "code",
   "execution_count": null,
   "id": "ea7baf39",
   "metadata": {},
   "outputs": [],
   "source": []
  },
  {
   "cell_type": "code",
   "execution_count": null,
   "id": "71a8b259",
   "metadata": {},
   "outputs": [],
   "source": []
  }
 ],
 "metadata": {
  "kernelspec": {
   "display_name": "Python 3 (ipykernel)",
   "language": "python",
   "name": "python3"
  },
  "language_info": {
   "codemirror_mode": {
    "name": "ipython",
    "version": 3
   },
   "file_extension": ".py",
   "mimetype": "text/x-python",
   "name": "python",
   "nbconvert_exporter": "python",
   "pygments_lexer": "ipython3",
   "version": "3.9.7"
  }
 },
 "nbformat": 4,
 "nbformat_minor": 5
}
