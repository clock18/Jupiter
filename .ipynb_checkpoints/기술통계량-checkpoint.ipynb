{
 "cells": [
  {
   "cell_type": "markdown",
   "id": "a062bd7e",
   "metadata": {},
   "source": [
    "# 🎈 기술통계량 강의"
   ]
  },
  {
   "cell_type": "code",
   "execution_count": 2,
   "id": "dbda30be",
   "metadata": {},
   "outputs": [],
   "source": [
    "import numpy as np\n",
    "import pandas as pd\n",
    "import math\n",
    "from scipy.stats import *\n",
    "import scipy as sp\n",
    "\n",
    "# Jupyter Notebook의 출력을 소수점 이하 3자리로 제한\n",
    "%precision 3\n",
    "\n",
    "# Dataframe의 출력을 소수점 이하 3자리로 제한\n",
    "pd.set_option('precision', 3)\n"
   ]
  },
  {
   "cell_type": "code",
   "execution_count": 3,
   "id": "e22015ce",
   "metadata": {},
   "outputs": [],
   "source": [
    "from IPython.core.interactiveshell import InteractiveShell\n",
    "InteractiveShell.ast_node_interactivity=\"all\"\n"
   ]
  },
  {
   "cell_type": "markdown",
   "id": "e72f5a61",
   "metadata": {},
   "source": [
    "✏ scipy stats\n",
    "https://docs.scipy.org/doc/scipy/reference/stats.html"
   ]
  },
  {
   "cell_type": "markdown",
   "id": "0a0e6feb",
   "metadata": {},
   "source": [
    "✏ numpy의 statistic https://numpy.org/doc/stable/reference/routines.statistics.html"
   ]
  },
  {
   "cell_type": "markdown",
   "id": "4f72218e",
   "metadata": {},
   "source": [
    "✏ math https://docs.python.org/ko/3/library/math.html#number-theoretic-and-representation-functions"
   ]
  },
  {
   "cell_type": "markdown",
   "id": "2ad58af9",
   "metadata": {},
   "source": [
    "## ✔ 평균"
   ]
  },
  {
   "cell_type": "code",
   "execution_count": 4,
   "id": "0bb7721b",
   "metadata": {},
   "outputs": [
    {
     "data": {
      "text/plain": [
       "3.0"
      ]
     },
     "execution_count": 4,
     "metadata": {},
     "output_type": "execute_result"
    }
   ],
   "source": [
    "x = [1,2,3,4,5]\n",
    "np.mean(x)"
   ]
  },
  {
   "cell_type": "code",
   "execution_count": 5,
   "id": "9bdf84a1",
   "metadata": {},
   "outputs": [
    {
     "data": {
      "text/plain": [
       "array([1, 2, 3, 4, 5])"
      ]
     },
     "execution_count": 5,
     "metadata": {},
     "output_type": "execute_result"
    },
    {
     "data": {
      "text/plain": [
       "3.0"
      ]
     },
     "execution_count": 5,
     "metadata": {},
     "output_type": "execute_result"
    },
    {
     "data": {
      "text/plain": [
       "0    1\n",
       "1    2\n",
       "2    3\n",
       "3    4\n",
       "4    5\n",
       "dtype: int64"
      ]
     },
     "execution_count": 5,
     "metadata": {},
     "output_type": "execute_result"
    },
    {
     "data": {
      "text/plain": [
       "3.000"
      ]
     },
     "execution_count": 5,
     "metadata": {},
     "output_type": "execute_result"
    }
   ],
   "source": [
    "np.array(x)\n",
    "np.array(x).mean()\n",
    "\n",
    "pd.Series(x)\n",
    "pd.Series(x).mean()"
   ]
  },
  {
   "cell_type": "markdown",
   "id": "81911f18",
   "metadata": {},
   "source": [
    "### ✔ 교재 31쪽 예제"
   ]
  },
  {
   "cell_type": "code",
   "execution_count": 6,
   "id": "ece3e51f",
   "metadata": {},
   "outputs": [
    {
     "data": {
      "text/html": [
       "<div>\n",
       "<style scoped>\n",
       "    .dataframe tbody tr th:only-of-type {\n",
       "        vertical-align: middle;\n",
       "    }\n",
       "\n",
       "    .dataframe tbody tr th {\n",
       "        vertical-align: top;\n",
       "    }\n",
       "\n",
       "    .dataframe thead th {\n",
       "        text-align: right;\n",
       "    }\n",
       "</style>\n",
       "<table border=\"1\" class=\"dataframe\">\n",
       "  <thead>\n",
       "    <tr style=\"text-align: right;\">\n",
       "      <th></th>\n",
       "      <th>english</th>\n",
       "      <th>mathematics</th>\n",
       "    </tr>\n",
       "    <tr>\n",
       "      <th>student number</th>\n",
       "      <th></th>\n",
       "      <th></th>\n",
       "    </tr>\n",
       "  </thead>\n",
       "  <tbody>\n",
       "    <tr>\n",
       "      <th>1</th>\n",
       "      <td>42</td>\n",
       "      <td>65</td>\n",
       "    </tr>\n",
       "    <tr>\n",
       "      <th>2</th>\n",
       "      <td>69</td>\n",
       "      <td>80</td>\n",
       "    </tr>\n",
       "    <tr>\n",
       "      <th>3</th>\n",
       "      <td>56</td>\n",
       "      <td>63</td>\n",
       "    </tr>\n",
       "    <tr>\n",
       "      <th>4</th>\n",
       "      <td>41</td>\n",
       "      <td>63</td>\n",
       "    </tr>\n",
       "    <tr>\n",
       "      <th>5</th>\n",
       "      <td>57</td>\n",
       "      <td>76</td>\n",
       "    </tr>\n",
       "  </tbody>\n",
       "</table>\n",
       "</div>"
      ],
      "text/plain": [
       "                english  mathematics\n",
       "student number                      \n",
       "1                    42           65\n",
       "2                    69           80\n",
       "3                    56           63\n",
       "4                    41           63\n",
       "5                    57           76"
      ]
     },
     "execution_count": 6,
     "metadata": {},
     "output_type": "execute_result"
    },
    {
     "data": {
      "text/html": [
       "<div>\n",
       "<style scoped>\n",
       "    .dataframe tbody tr th:only-of-type {\n",
       "        vertical-align: middle;\n",
       "    }\n",
       "\n",
       "    .dataframe tbody tr th {\n",
       "        vertical-align: top;\n",
       "    }\n",
       "\n",
       "    .dataframe thead th {\n",
       "        text-align: right;\n",
       "    }\n",
       "</style>\n",
       "<table border=\"1\" class=\"dataframe\">\n",
       "  <thead>\n",
       "    <tr style=\"text-align: right;\">\n",
       "      <th></th>\n",
       "      <th>english</th>\n",
       "      <th>mathematics</th>\n",
       "    </tr>\n",
       "    <tr>\n",
       "      <th>student number</th>\n",
       "      <th></th>\n",
       "      <th></th>\n",
       "    </tr>\n",
       "  </thead>\n",
       "  <tbody>\n",
       "    <tr>\n",
       "      <th>46</th>\n",
       "      <td>45</td>\n",
       "      <td>71</td>\n",
       "    </tr>\n",
       "    <tr>\n",
       "      <th>47</th>\n",
       "      <td>66</td>\n",
       "      <td>80</td>\n",
       "    </tr>\n",
       "    <tr>\n",
       "      <th>48</th>\n",
       "      <td>55</td>\n",
       "      <td>77</td>\n",
       "    </tr>\n",
       "    <tr>\n",
       "      <th>49</th>\n",
       "      <td>64</td>\n",
       "      <td>83</td>\n",
       "    </tr>\n",
       "    <tr>\n",
       "      <th>50</th>\n",
       "      <td>66</td>\n",
       "      <td>88</td>\n",
       "    </tr>\n",
       "  </tbody>\n",
       "</table>\n",
       "</div>"
      ],
      "text/plain": [
       "                english  mathematics\n",
       "student number                      \n",
       "46                   45           71\n",
       "47                   66           80\n",
       "48                   55           77\n",
       "49                   64           83\n",
       "50                   66           88"
      ]
     },
     "execution_count": 6,
     "metadata": {},
     "output_type": "execute_result"
    }
   ],
   "source": [
    "df = pd.read_csv('c:/data/ch2_scores_em.csv',index_col='student number')\n",
    "\n",
    "df.head()\n",
    "df.tail()"
   ]
  },
  {
   "cell_type": "markdown",
   "id": "6a6ebc38",
   "metadata": {},
   "source": [
    "#### ✏ 산술평균"
   ]
  },
  {
   "cell_type": "code",
   "execution_count": 15,
   "id": "63b53cf9",
   "metadata": {},
   "outputs": [
    {
     "data": {
      "text/plain": [
       "(50, 2)"
      ]
     },
     "execution_count": 15,
     "metadata": {},
     "output_type": "execute_result"
    }
   ],
   "source": [
    "df.shape"
   ]
  },
  {
   "cell_type": "code",
   "execution_count": 17,
   "id": "e3342982",
   "metadata": {},
   "outputs": [
    {
     "data": {
      "text/plain": [
       "58.380"
      ]
     },
     "execution_count": 17,
     "metadata": {},
     "output_type": "execute_result"
    }
   ],
   "source": [
    "sum(df['english'])/len(df['english'])"
   ]
  },
  {
   "cell_type": "code",
   "execution_count": 18,
   "id": "b9744131",
   "metadata": {},
   "outputs": [
    {
     "data": {
      "text/plain": [
       "58.380"
      ]
     },
     "execution_count": 18,
     "metadata": {},
     "output_type": "execute_result"
    }
   ],
   "source": [
    "np.mean(df['english'])"
   ]
  },
  {
   "cell_type": "code",
   "execution_count": 19,
   "id": "f6710d26",
   "metadata": {},
   "outputs": [
    {
     "data": {
      "text/plain": [
       "58.380"
      ]
     },
     "execution_count": 19,
     "metadata": {},
     "output_type": "execute_result"
    }
   ],
   "source": [
    "df['english'].mean()"
   ]
  },
  {
   "cell_type": "code",
   "execution_count": 22,
   "id": "e9c2b6a8",
   "metadata": {},
   "outputs": [
    {
     "name": "stderr",
     "output_type": "stream",
     "text": [
      "C:\\Users\\user\\AppData\\Local\\Temp/ipykernel_8284/2012453220.py:1: DeprecationWarning: scipy.mean is deprecated and will be removed in SciPy 2.0.0, use numpy.mean instead\n",
      "  sp.mean(df['english'])\n"
     ]
    },
    {
     "data": {
      "text/plain": [
       "58.380"
      ]
     },
     "execution_count": 22,
     "metadata": {},
     "output_type": "execute_result"
    }
   ],
   "source": [
    "sp.mean(df['english'])"
   ]
  },
  {
   "cell_type": "markdown",
   "id": "4560ae1e",
   "metadata": {},
   "source": [
    "#### ✏ 기하평균"
   ]
  },
  {
   "cell_type": "code",
   "execution_count": 25,
   "id": "1875ea89",
   "metadata": {},
   "outputs": [
    {
     "data": {
      "text/plain": [
       "363.424"
      ]
     },
     "execution_count": 25,
     "metadata": {},
     "output_type": "execute_result"
    },
    {
     "data": {
      "text/plain": [
       "363.42411856642775"
      ]
     },
     "execution_count": 25,
     "metadata": {},
     "output_type": "execute_result"
    }
   ],
   "source": [
    "# ex1.회사의 연평균 매출 증가율\n",
    "# 1차년도에 200%, 2차년도에 800%, 3차년도에 300% 성장을 했다면 3개년도의 연평균 성장율은?\n",
    "\n",
    "data = [200,800,300]\n",
    "\n",
    "# 1번\n",
    "math.prod(data)**(1/len(data))\n",
    "\n",
    "# 2번\n",
    "gmean(data)"
   ]
  },
  {
   "cell_type": "markdown",
   "id": "20b877dd",
   "metadata": {},
   "source": [
    "#### ✏ 조화평균"
   ]
  },
  {
   "cell_type": "code",
   "execution_count": 29,
   "id": "9db7df42",
   "metadata": {},
   "outputs": [
    {
     "data": {
      "text/plain": [
       "95.99999999999999"
      ]
     },
     "execution_count": 29,
     "metadata": {},
     "output_type": "execute_result"
    },
    {
     "data": {
      "text/plain": [
       "95.99999999999999"
      ]
     },
     "execution_count": 29,
     "metadata": {},
     "output_type": "execute_result"
    }
   ],
   "source": [
    "# ex2. 100km 떨어진 도시까지 차로 다녀오면서 가는 길에는 시속 80km, 오는 길에는 시속 120km로\n",
    "# 달렸을 때, 평균 속력은 얼마나 되는가?\n",
    "\n",
    "# 움직인 거리 = 200km\n",
    "\n",
    "data = np.array([80,120])\n",
    "\n",
    "# 1/data = data의 역수\n",
    "\n",
    "len(data)/np.sum(1/data)\n",
    "hmean(data)"
   ]
  },
  {
   "cell_type": "markdown",
   "id": "6f5ca388",
   "metadata": {},
   "source": [
    "#### ✏ 가중평균"
   ]
  },
  {
   "cell_type": "code",
   "execution_count": 36,
   "id": "ad5bd186",
   "metadata": {},
   "outputs": [
    {
     "data": {
      "text/plain": [
       "2.5"
      ]
     },
     "execution_count": 36,
     "metadata": {},
     "output_type": "execute_result"
    },
    {
     "data": {
      "text/plain": [
       "4.0"
      ]
     },
     "execution_count": 36,
     "metadata": {},
     "output_type": "execute_result"
    }
   ],
   "source": [
    "np.average(np.arange(1,5))\n",
    "np.average(np.arange(1,11),weights = np.arange(10,0,-1))"
   ]
  },
  {
   "cell_type": "markdown",
   "id": "785400a1",
   "metadata": {},
   "source": [
    "## ✔ 중앙값(median)"
   ]
  },
  {
   "cell_type": "code",
   "execution_count": 38,
   "id": "e32a7a69",
   "metadata": {},
   "outputs": [
    {
     "data": {
      "text/plain": [
       "array([42, 69, 56, 41, 57, 48, 65, 49, 65, 58, 70, 47, 51, 64, 62, 70, 71,\n",
       "       68, 73, 37, 65, 65, 61, 52, 57, 57, 75, 61, 47, 54, 66, 54, 54, 42,\n",
       "       37, 79, 56, 62, 62, 55, 63, 57, 57, 67, 55, 45, 66, 55, 64, 66],\n",
       "      dtype=int64)"
      ]
     },
     "execution_count": 38,
     "metadata": {},
     "output_type": "execute_result"
    }
   ],
   "source": [
    "scores = np.array(df['english'])\n",
    "scores"
   ]
  },
  {
   "cell_type": "code",
   "execution_count": 39,
   "id": "bfd8fa85",
   "metadata": {},
   "outputs": [
    {
     "data": {
      "text/plain": [
       "array([37, 37, 41, 42, 42, 45, 47, 47, 48, 49, 51, 52, 54, 54, 54, 55, 55,\n",
       "       55, 56, 56, 57, 57, 57, 57, 57, 58, 61, 61, 62, 62, 62, 63, 64, 64,\n",
       "       65, 65, 65, 65, 66, 66, 66, 67, 68, 69, 70, 70, 71, 73, 75, 79],\n",
       "      dtype=int64)"
      ]
     },
     "execution_count": 39,
     "metadata": {},
     "output_type": "execute_result"
    }
   ],
   "source": [
    "# 순서통계량\n",
    "sorted_scores = np.sort(scores)\n",
    "sorted_scores"
   ]
  },
  {
   "cell_type": "code",
   "execution_count": 41,
   "id": "8a876ebf",
   "metadata": {},
   "outputs": [
    {
     "data": {
      "text/plain": [
       "57.5"
      ]
     },
     "execution_count": 41,
     "metadata": {},
     "output_type": "execute_result"
    }
   ],
   "source": [
    "# median 계산식\n",
    "n = len(sorted_scores)\n",
    "if n%2 == 0:\n",
    "    x1 = sorted_scores[n//2-1]    # 0부터 시작하므로 -1해줌\n",
    "    x2 = sorted_scores[n//2]\n",
    "    median = (x1+x2)/2\n",
    "else :\n",
    "    median = sorted_scores[(n+1)//2-1]\n",
    "    \n",
    "median"
   ]
  },
  {
   "cell_type": "code",
   "execution_count": 42,
   "id": "50cc2ee5",
   "metadata": {},
   "outputs": [
    {
     "data": {
      "text/plain": [
       "(57, 58)"
      ]
     },
     "execution_count": 42,
     "metadata": {},
     "output_type": "execute_result"
    }
   ],
   "source": [
    "sorted_scores[24], sorted_scores[25]"
   ]
  },
  {
   "cell_type": "code",
   "execution_count": 43,
   "id": "ff3f8ae4",
   "metadata": {},
   "outputs": [
    {
     "data": {
      "text/plain": [
       "57.5"
      ]
     },
     "execution_count": 43,
     "metadata": {},
     "output_type": "execute_result"
    }
   ],
   "source": [
    "# numpy에서 median 쓰기\n",
    "np.median(scores)"
   ]
  },
  {
   "cell_type": "code",
   "execution_count": null,
   "id": "3a1e85af",
   "metadata": {},
   "outputs": [],
   "source": [
    "# pandas 에서 median 쓰기\n",
    "df['english'].median()"
   ]
  },
  {
   "cell_type": "markdown",
   "id": "4671aea6",
   "metadata": {},
   "source": [
    "## ✔ 절사평균 ( trimmed mean) "
   ]
  },
  {
   "cell_type": "code",
   "execution_count": 47,
   "id": "b4940059",
   "metadata": {},
   "outputs": [
    {
     "data": {
      "text/plain": [
       "array([2894314.237, 2218254.925, 2048248.734, 1068253.648, 1861305.899,\n",
       "       1822620.51 , 1958629.259, 1686499.662, 1978090.916, 1761390.985])"
      ]
     },
     "execution_count": 47,
     "metadata": {},
     "output_type": "execute_result"
    }
   ],
   "source": [
    "import random\n",
    "\n",
    "np.random.seed(3)\n",
    "income = np.random.normal(2000000, 500000, 100)  # normal(평균, 표준편차, 데이터갯수)\n",
    "income[:10]"
   ]
  },
  {
   "cell_type": "code",
   "execution_count": 48,
   "id": "4ff341e0",
   "metadata": {},
   "outputs": [
    {
     "data": {
      "text/plain": [
       "1945681.4627969689"
      ]
     },
     "execution_count": 48,
     "metadata": {},
     "output_type": "execute_result"
    }
   ],
   "source": [
    "# 평균 소득\n",
    "np.mean(income)"
   ]
  },
  {
   "cell_type": "code",
   "execution_count": 53,
   "id": "1958f261",
   "metadata": {},
   "outputs": [
    {
     "data": {
      "text/plain": [
       "21306487.730870843"
      ]
     },
     "execution_count": 53,
     "metadata": {},
     "output_type": "execute_result"
    }
   ],
   "source": [
    "# 소득이 10억인 사람추가\n",
    "income = np.append(income, 10**9)\n",
    "\n",
    "np.mean(income)"
   ]
  },
  {
   "cell_type": "code",
   "execution_count": 55,
   "id": "c3b00caf",
   "metadata": {},
   "outputs": [
    {
     "data": {
      "text/plain": [
       "1919743.318406538"
      ]
     },
     "execution_count": 55,
     "metadata": {},
     "output_type": "execute_result"
    }
   ],
   "source": [
    "# 중앙값\n",
    "np.median(income)"
   ]
  },
  {
   "cell_type": "code",
   "execution_count": 56,
   "id": "b5c9db8b",
   "metadata": {},
   "outputs": [
    {
     "data": {
      "text/plain": [
       "1942341.4699518385"
      ]
     },
     "execution_count": 56,
     "metadata": {},
     "output_type": "execute_result"
    }
   ],
   "source": [
    "trim_mean(income, 0.2)"
   ]
  },
  {
   "cell_type": "markdown",
   "id": "1e53c981",
   "metadata": {},
   "source": [
    "## ✔ 최빈값(mode)"
   ]
  },
  {
   "cell_type": "markdown",
   "id": "27edc4e3",
   "metadata": {},
   "source": [
    "* 자료 중 가장 자주 나타나는(빈도가 가장 많은) 관측치\n",
    "* 존재하지 않을 수도 있고, 유일하지 않을 수도 있음"
   ]
  },
  {
   "cell_type": "code",
   "execution_count": 57,
   "id": "b8516678",
   "metadata": {},
   "outputs": [
    {
     "data": {
      "text/plain": [
       "array(['C', 'A', 'B', 'A', 'A', 'A', 'B', 'B', 'C', 'B'], dtype='<U1')"
      ]
     },
     "execution_count": 57,
     "metadata": {},
     "output_type": "execute_result"
    },
    {
     "data": {
      "text/plain": [
       "1000"
      ]
     },
     "execution_count": 57,
     "metadata": {},
     "output_type": "execute_result"
    }
   ],
   "source": [
    "# 최빈값 계산\n",
    "np.random.seed(3)\n",
    "\n",
    "# A,B,C 요소로 이루어진 데이터\n",
    "data = np.random.choice(['A','B','C'], 1000)\n",
    "\n",
    "data[:10]\n",
    "\n",
    "len(data)"
   ]
  },
  {
   "cell_type": "code",
   "execution_count": 59,
   "id": "8c5ea577",
   "metadata": {},
   "outputs": [
    {
     "data": {
      "text/plain": [
       "ModeResult(mode=array(['A'], dtype='<U1'), count=array([350]))"
      ]
     },
     "execution_count": 59,
     "metadata": {},
     "output_type": "execute_result"
    },
    {
     "data": {
      "text/plain": [
       "array(['A'], dtype='<U1')"
      ]
     },
     "execution_count": 59,
     "metadata": {},
     "output_type": "execute_result"
    },
    {
     "data": {
      "text/plain": [
       "array([350])"
      ]
     },
     "execution_count": 59,
     "metadata": {},
     "output_type": "execute_result"
    }
   ],
   "source": [
    "# 최빈값과 빈도 반환\n",
    "mode(data)\n",
    "\n",
    "# 최빈값\n",
    "mode(data).mode\n",
    "\n",
    "# 빈도\n",
    "mode(data).count"
   ]
  },
  {
   "cell_type": "code",
   "execution_count": 61,
   "id": "59150163",
   "metadata": {},
   "outputs": [
    {
     "data": {
      "text/plain": [
       "A    350\n",
       "B    328\n",
       "C    322\n",
       "dtype: int64"
      ]
     },
     "execution_count": 61,
     "metadata": {},
     "output_type": "execute_result"
    },
    {
     "data": {
      "text/plain": [
       "'A'"
      ]
     },
     "execution_count": 61,
     "metadata": {},
     "output_type": "execute_result"
    },
    {
     "data": {
      "text/plain": [
       "350"
      ]
     },
     "execution_count": 61,
     "metadata": {},
     "output_type": "execute_result"
    }
   ],
   "source": [
    "pd.Series(data).value_counts()\n",
    "\n",
    "pd.Series(data).value_counts().index[0]\n",
    "\n",
    "pd.Series(data).value_counts()[0]"
   ]
  },
  {
   "cell_type": "code",
   "execution_count": 65,
   "id": "57686789",
   "metadata": {},
   "outputs": [
    {
     "data": {
      "text/plain": [
       "array([ 78.287, 119.947, 105.66 ,  69.874,  88.428, 133.029,  51.466,\n",
       "        91.422, 125.319,  82.665])"
      ]
     },
     "execution_count": 65,
     "metadata": {},
     "output_type": "execute_result"
    }
   ],
   "source": [
    "np.random.seed(123)\n",
    "data = np.random.normal(100, 20, 1000)\n",
    "data[:10]"
   ]
  },
  {
   "cell_type": "markdown",
   "id": "c973f975",
   "metadata": {},
   "source": [
    "## ✔ 최소값, 최대값"
   ]
  },
  {
   "cell_type": "code",
   "execution_count": 66,
   "id": "c19098ab",
   "metadata": {},
   "outputs": [
    {
     "data": {
      "text/plain": [
       "(35.37889984161376, 171.43158436052622)"
      ]
     },
     "execution_count": 66,
     "metadata": {},
     "output_type": "execute_result"
    }
   ],
   "source": [
    "sorted(data)[0], sorted(data)[-1]"
   ]
  },
  {
   "cell_type": "code",
   "execution_count": 67,
   "id": "255b9a04",
   "metadata": {},
   "outputs": [
    {
     "data": {
      "text/plain": [
       "35.37889984161376"
      ]
     },
     "execution_count": 67,
     "metadata": {},
     "output_type": "execute_result"
    },
    {
     "data": {
      "text/plain": [
       "171.43158436052622"
      ]
     },
     "execution_count": 67,
     "metadata": {},
     "output_type": "execute_result"
    }
   ],
   "source": [
    "# numpy의 min(), max() 함수 이용\n",
    "\n",
    "np.min(data)\n",
    "np.max(data)"
   ]
  },
  {
   "cell_type": "markdown",
   "id": "e8a7a38a",
   "metadata": {},
   "source": [
    "## ✔ 백분위수"
   ]
  },
  {
   "cell_type": "code",
   "execution_count": 69,
   "id": "0ea4d85c",
   "metadata": {},
   "outputs": [
    {
     "data": {
      "text/plain": [
       "86.30886819268538"
      ]
     },
     "execution_count": 69,
     "metadata": {},
     "output_type": "execute_result"
    }
   ],
   "source": [
    "# 제 1사분위수(하사분위수, Q1)\n",
    "\n",
    "np.percentile(data, 25)"
   ]
  },
  {
   "cell_type": "code",
   "execution_count": 72,
   "id": "0b95abfe",
   "metadata": {},
   "outputs": [
    {
     "data": {
      "text/plain": [
       "99.17628889574436"
      ]
     },
     "execution_count": 72,
     "metadata": {},
     "output_type": "execute_result"
    }
   ],
   "source": [
    "# 제 2사분위수(중위수, Q2)\n",
    "\n",
    "np.percentile(data, 50)"
   ]
  },
  {
   "cell_type": "code",
   "execution_count": 70,
   "id": "5ab292cc",
   "metadata": {},
   "outputs": [
    {
     "data": {
      "text/plain": [
       "113.37731495435875"
      ]
     },
     "execution_count": 70,
     "metadata": {},
     "output_type": "execute_result"
    }
   ],
   "source": [
    "# 제 3사분위수(상사분위수, Q3)\n",
    "\n",
    "np.percentile(data, 75)"
   ]
  },
  {
   "cell_type": "markdown",
   "id": "4b444cf3",
   "metadata": {},
   "source": [
    "## ✔ Box"
   ]
  },
  {
   "cell_type": "code",
   "execution_count": 73,
   "id": "3c041faa",
   "metadata": {},
   "outputs": [
    {
     "data": {
      "text/plain": [
       "{'whiskers': [<matplotlib.lines.Line2D at 0x21eb4a4dfd0>,\n",
       "  <matplotlib.lines.Line2D at 0x21eb4a6a2e0>],\n",
       " 'caps': [<matplotlib.lines.Line2D at 0x21eb4a6a670>,\n",
       "  <matplotlib.lines.Line2D at 0x21eb4a6aa00>],\n",
       " 'boxes': [<matplotlib.lines.Line2D at 0x21eb4a4db80>],\n",
       " 'medians': [<matplotlib.lines.Line2D at 0x21eb4a6ad90>],\n",
       " 'fliers': [<matplotlib.lines.Line2D at 0x21eb4a79160>],\n",
       " 'means': []}"
      ]
     },
     "execution_count": 73,
     "metadata": {},
     "output_type": "execute_result"
    },
    {
     "data": {
      "image/png": "[encoded data removed]",
      "text/plain": [
       "<Figure size 432x288 with 1 Axes>"
      ]
     },
     "metadata": {
      "needs_background": "light"
     },
     "output_type": "display_data"
    }
   ],
   "source": [
    "import matplotlib.pyplot as plt\n",
    "\n",
    "plt.boxplot(data)"
   ]
  },
  {
   "cell_type": "markdown",
   "id": "0f568ba8",
   "metadata": {},
   "source": [
    "## ✔ 기술통계량 계산 함수 : describe()"
   ]
  },
  {
   "cell_type": "code",
   "execution_count": 78,
   "id": "fdd62d6f",
   "metadata": {},
   "outputs": [
    {
     "data": {
      "text/plain": [
       "DescribeResult(nobs=1000, minmax=(35.37889984161376, 171.43158436052622), mean=99.20871727838417, variance=401.03130940853094, skewness=-0.029040113501245676, kurtosis=-0.02543852877769215)"
      ]
     },
     "execution_count": 78,
     "metadata": {},
     "output_type": "execute_result"
    },
    {
     "data": {
      "text/plain": [
       "DescribeResult(nobs=50, minmax=(37, 79), mean=58.38, variance=96.03632653061224, skewness=-0.31679325324962426, kurtosis=-0.38870454364589113)"
      ]
     },
     "execution_count": 78,
     "metadata": {},
     "output_type": "execute_result"
    },
    {
     "data": {
      "text/plain": [
       "DescribeResult(nobs=50, minmax=(37, 79), mean=58.38, variance=94.1156, skewness=-0.31679325324962426, kurtosis=-0.38870454364589113)"
      ]
     },
     "execution_count": 78,
     "metadata": {},
     "output_type": "execute_result"
    }
   ],
   "source": [
    "describe(data)\n",
    "\n",
    "# 표본 데이터의 기술 통계량\n",
    "describe(df['english'])\n",
    "\n",
    "\n",
    "# 모집단 데이터에 대한 기술통계량\n",
    "describe(df['english'], ddof=0)"
   ]
  },
  {
   "cell_type": "code",
   "execution_count": 76,
   "id": "81353609",
   "metadata": {},
   "outputs": [
    {
     "data": {
      "text/plain": [
       "count    50.00\n",
       "mean     58.38\n",
       "std       9.80\n",
       "min      37.00\n",
       "25%      54.00\n",
       "50%      57.50\n",
       "75%      65.00\n",
       "max      79.00\n",
       "Name: english, dtype: float64"
      ]
     },
     "execution_count": 76,
     "metadata": {},
     "output_type": "execute_result"
    }
   ],
   "source": [
    "df['english'].describe()"
   ]
  }
 ],
 "metadata": {
  "kernelspec": {
   "display_name": "Python 3 (ipykernel)",
   "language": "python",
   "name": "python3"
  },
  "language_info": {
   "codemirror_mode": {
    "name": "ipython",
    "version": 3
   },
   "file_extension": ".py",
   "mimetype": "text/x-python",
   "name": "python",
   "nbconvert_exporter": "python",
   "pygments_lexer": "ipython3",
   "version": "3.9.7"
  }
 },
 "nbformat": 4,
 "nbformat_minor": 5
}
