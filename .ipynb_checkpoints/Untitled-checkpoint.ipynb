{
 "cells": [
  {
   "cell_type": "markdown",
   "id": "1841472a",
   "metadata": {},
   "source": [
    "# ❤ Pandas        (2022.01.07)\n",
    "* Python Data Analysis library\n",
    "* 데이터 분석 및 가공을 위한 파이썬 라이브러리\n",
    "* series, DataFrame 등의 자료구조를 활용\n",
    "* R의 데이터프레임을 모방\n",
    "* 데이터를 수정하고 목적에 맞게 변경시키기 위해 사용\n",
    "* 데이터 프레임을 엑셀과 유사        "
   ]
  },
  {
   "cell_type": "markdown",
   "id": "fb3fc735",
   "metadata": {},
   "source": [
    "## 🎈 판다스의 목적\n",
    "* 서로 다른 유형의 데이터를 공통된 포맷으로 정리하는 것\n",
    "* 행과 열로 이루어진 2차원 데이터프레임을 처리할 수 있는 함수제공 목적\n",
    "* 실무 사용 형태 : 데이터 프레임"
   ]
  },
  {
   "cell_type": "code",
   "execution_count": 13,
   "id": "211b28f2",
   "metadata": {},
   "outputs": [],
   "source": [
    "import pandas as pd\n",
    "import numpy as np"
   ]
  },
  {
   "cell_type": "code",
   "execution_count": 5,
   "id": "1d2e810a",
   "metadata": {},
   "outputs": [
    {
     "data": {
      "text/plain": [
       "'1.3.4'"
      ]
     },
     "execution_count": 5,
     "metadata": {},
     "output_type": "execute_result"
    }
   ],
   "source": [
    "pd.__version__"
   ]
  },
  {
   "cell_type": "markdown",
   "id": "eb4839e1",
   "metadata": {},
   "source": [
    "## 🎈 pandas의 데이터 구조\n",
    "> 1. Series 데이터\n",
    "2.데이터프레임"
   ]
  },
  {
   "cell_type": "markdown",
   "id": "6f8cf937",
   "metadata": {},
   "source": [
    "### 1. Series 데이터\n",
    "* pandas의 기본 객체 중 하나\n",
    "* numpy의 ndarray를 기반으로 인덱싱 기능을 추가하여 1차원 배열을 나타냄\n",
    "* index를 지정하지 않을 시, 기본적으로 ndarray와 같이 0-based 인덱스 생성\n",
    "* 지정할 경우 지정된 index사용\n",
    "* 같은 타입의 0개 이상의 데이터를 가질 수 있음"
   ]
  },
  {
   "cell_type": "markdown",
   "id": "0bd62d45",
   "metadata": {},
   "source": [
    "#### 1-1 Series 생성하기\n",
    "* pd.Series(seq_data)함수 이용"
   ]
  },
  {
   "cell_type": "code",
   "execution_count": 7,
   "id": "37507667",
   "metadata": {},
   "outputs": [
    {
     "data": {
      "text/plain": [
       "0    1\n",
       "1    2\n",
       "2    3\n",
       "dtype: int64"
      ]
     },
     "execution_count": 7,
     "metadata": {},
     "output_type": "execute_result"
    }
   ],
   "source": [
    "# seq_data를 이용하여 Series 생성하기\n",
    "s = pd.Series([1,2,3])\n",
    "s"
   ]
  },
  {
   "cell_type": "code",
   "execution_count": 8,
   "id": "46a8adaf",
   "metadata": {},
   "outputs": [
    {
     "data": {
      "text/plain": [
       "0    10\n",
       "1    20\n",
       "2    30\n",
       "3    40\n",
       "4    50\n",
       "dtype: int64"
      ]
     },
     "execution_count": 8,
     "metadata": {},
     "output_type": "execute_result"
    }
   ],
   "source": [
    "s1 = pd.Series([10,20,30,40,50])\n",
    "s1"
   ]
  },
  {
   "cell_type": "code",
   "execution_count": 9,
   "id": "522e6be9",
   "metadata": {},
   "outputs": [
    {
     "data": {
      "text/plain": [
       "0    A\n",
       "1    B\n",
       "2    C\n",
       "dtype: object"
      ]
     },
     "execution_count": 9,
     "metadata": {},
     "output_type": "execute_result"
    }
   ],
   "source": [
    "# 문자열을 갖는 리스트로 시리즈 생성\n",
    "s2 = pd.Series(['A','B','C'])\n",
    "s2"
   ]
  },
  {
   "cell_type": "code",
   "execution_count": 10,
   "id": "987ad5ff",
   "metadata": {},
   "outputs": [
    {
     "data": {
      "text/plain": [
       "0    A\n",
       "1    B\n",
       "2    C\n",
       "dtype: object"
      ]
     },
     "execution_count": 10,
     "metadata": {},
     "output_type": "execute_result"
    }
   ],
   "source": [
    "# 문자열을 갖는 리스트로 시리즈 생성\n",
    "s2 = pd.Series('A B C'.split())   # A B C 사이에 띄워쓰기 필수\n",
    "s2"
   ]
  },
  {
   "cell_type": "markdown",
   "id": "d51a4465",
   "metadata": {},
   "source": [
    "#### 1-2. 범위를 시리즈의 value 생성하는 데 사용하기\n",
    "* range() / np.arange() 함수 사용"
   ]
  },
  {
   "cell_type": "code",
   "execution_count": 12,
   "id": "f688240d",
   "metadata": {},
   "outputs": [
    {
     "data": {
      "text/plain": [
       "0    10\n",
       "1    11\n",
       "2    12\n",
       "3    13\n",
       "dtype: int64"
      ]
     },
     "execution_count": 12,
     "metadata": {},
     "output_type": "execute_result"
    }
   ],
   "source": [
    "# range() 를 이용하여 정수범위 자료를 시리즈로 생성\n",
    "s = pd.Series(range(10,14))\n",
    "s"
   ]
  },
  {
   "cell_type": "code",
   "execution_count": 17,
   "id": "07dad129",
   "metadata": {},
   "outputs": [
    {
     "data": {
      "text/plain": [
       "0        0\n",
       "1        1\n",
       "2        2\n",
       "3        3\n",
       "4        4\n",
       "      ... \n",
       "195    195\n",
       "196    196\n",
       "197    197\n",
       "198    198\n",
       "199    199\n",
       "Length: 200, dtype: int32"
      ]
     },
     "execution_count": 17,
     "metadata": {},
     "output_type": "execute_result"
    }
   ],
   "source": [
    "# arange()를 이용하여 정수범위 자료를 시리즈로 생성\n",
    "s = pd.Series(np.arange(200))\n",
    "s"
   ]
  },
  {
   "cell_type": "markdown",
   "id": "b9943993",
   "metadata": {},
   "source": [
    "#### 1-3 결측값을 포함해서 시리즈 만들기\n",
    "* 결측값 NaN-numpy 라는 모듈에서 생성할 수 있음\n",
    "* 결측값 생성을 위해서는 numpy 모듈  import"
   ]
  },
  {
   "cell_type": "code",
   "execution_count": 19,
   "id": "90a4e8b7",
   "metadata": {},
   "outputs": [
    {
     "data": {
      "text/plain": [
       "0    1.0\n",
       "1    2.0\n",
       "2    3.0\n",
       "3    NaN\n",
       "4    6.0\n",
       "5    8.0\n",
       "dtype: float64"
      ]
     },
     "execution_count": 19,
     "metadata": {},
     "output_type": "execute_result"
    }
   ],
   "source": [
    "s = pd.Series([1,2,3,np.nan,6,8])\n",
    "s"
   ]
  },
  {
   "cell_type": "markdown",
   "id": "f9a86406",
   "metadata": {},
   "source": [
    "#### 1-4. 인덱스 명시해서 시리즈 만들기\n",
    "* 숫자 인덱스 지정"
   ]
  },
  {
   "cell_type": "code",
   "execution_count": 22,
   "id": "8c366d10",
   "metadata": {},
   "outputs": [
    {
     "data": {
      "text/plain": [
       "1    10\n",
       "2    20\n",
       "3    30\n",
       "dtype: int64"
      ]
     },
     "execution_count": 22,
     "metadata": {},
     "output_type": "execute_result"
    }
   ],
   "source": [
    "s1 = pd.Series([10,20,30],index=[1,2,3])\n",
    "s1"
   ]
  },
  {
   "cell_type": "markdown",
   "id": "203f5332",
   "metadata": {},
   "source": [
    "* 문자 인덱스 지정"
   ]
  },
  {
   "cell_type": "code",
   "execution_count": 24,
   "id": "fdf3dc4c",
   "metadata": {},
   "outputs": [
    {
     "data": {
      "text/plain": [
       "홍길동     95\n",
       "이몽룡    100\n",
       "성춘향     88\n",
       "dtype: int64"
      ]
     },
     "execution_count": 24,
     "metadata": {},
     "output_type": "execute_result"
    }
   ],
   "source": [
    "s2 = pd.Series([95,100,88], index=['홍길동','이몽룡','성춘향'])\n",
    "s2"
   ]
  },
  {
   "cell_type": "markdown",
   "id": "425850e8",
   "metadata": {},
   "source": [
    "#### 1-5 인덱스 활용\n",
    "* 시리즈의 index\n",
    "    * 시리즈의 index는 index 속성으로 접근 : 시리즈.index"
   ]
  },
  {
   "cell_type": "code",
   "execution_count": 25,
   "id": "b8074bb4",
   "metadata": {},
   "outputs": [
    {
     "data": {
      "text/plain": [
       "RangeIndex(start=0, stop=5, step=1)"
      ]
     },
     "execution_count": 25,
     "metadata": {},
     "output_type": "execute_result"
    }
   ],
   "source": [
    "s1.index"
   ]
  },
  {
   "cell_type": "code",
   "execution_count": 27,
   "id": "81b206d8",
   "metadata": {},
   "outputs": [
    {
     "data": {
      "text/plain": [
       "RangeIndex(start=0, stop=3, step=1)"
      ]
     },
     "execution_count": 27,
     "metadata": {},
     "output_type": "execute_result"
    }
   ],
   "source": [
    "s2.index"
   ]
  },
  {
   "cell_type": "code",
   "execution_count": 30,
   "id": "9aad81ff",
   "metadata": {},
   "outputs": [
    {
     "name": "stdout",
     "output_type": "stream",
     "text": [
      "Index(['서울', '부산', '인천', '대구'], dtype='object') 서울    9904312\n",
      "부산    3448737\n",
      "인천     289045\n",
      "대구    2466052\n",
      "dtype: int64\n"
     ]
    }
   ],
   "source": [
    "s = pd.Series([9904312, 3448737, 289045, 2466052],\n",
    "            index=[\"서울\",\"부산\",\"인천\",\"대구\"])\n",
    "print(s.index,s)"
   ]
  },
  {
   "cell_type": "markdown",
   "id": "154c570d",
   "metadata": {},
   "source": [
    "* 시리즈.index.name 속성\n",
    "    * 시리즈의 인덱스에 이름을 붙일 수 있음"
   ]
  },
  {
   "cell_type": "code",
   "execution_count": 32,
   "id": "3e020fc7",
   "metadata": {},
   "outputs": [
    {
     "data": {
      "text/plain": [
       "서울    9904312\n",
       "부산    3448737\n",
       "인천     289045\n",
       "대구    2466052\n",
       "dtype: int64"
      ]
     },
     "execution_count": 32,
     "metadata": {},
     "output_type": "execute_result"
    }
   ],
   "source": [
    "s.index.name\n",
    "s"
   ]
  },
  {
   "cell_type": "code",
   "execution_count": 33,
   "id": "83a9462a",
   "metadata": {},
   "outputs": [
    {
     "data": {
      "text/plain": [
       "도시\n",
       "서울    9904312\n",
       "부산    3448737\n",
       "인천     289045\n",
       "대구    2466052\n",
       "dtype: int64"
      ]
     },
     "execution_count": 33,
     "metadata": {},
     "output_type": "execute_result"
    }
   ],
   "source": [
    "s.index.name = '도시'\n",
    "s"
   ]
  },
  {
   "cell_type": "markdown",
   "id": "c43cade4",
   "metadata": {},
   "source": [
    "#### 1-6 시리즈의 값\n",
    "* numpy 자료구조 : 1차원배열"
   ]
  },
  {
   "cell_type": "code",
   "execution_count": 34,
   "id": "69c8cc9d",
   "metadata": {},
   "outputs": [
    {
     "data": {
      "text/plain": [
       "array([9904312, 3448737,  289045, 2466052], dtype=int64)"
      ]
     },
     "execution_count": 34,
     "metadata": {},
     "output_type": "execute_result"
    }
   ],
   "source": [
    "s.values"
   ]
  },
  {
   "cell_type": "markdown",
   "id": "be2d61af",
   "metadata": {},
   "source": [
    "#### 1-7 시리즈.name \n",
    "* 시리즈 데이터에 이름을 붙일 수 있음\n",
    "* name 속성은 값의 의미 전달에 사용"
   ]
  },
  {
   "cell_type": "code",
   "execution_count": 35,
   "id": "9c6860b3",
   "metadata": {},
   "outputs": [
    {
     "name": "stdout",
     "output_type": "stream",
     "text": [
      "None\n"
     ]
    }
   ],
   "source": [
    "print(s.name)"
   ]
  },
  {
   "cell_type": "code",
   "execution_count": 37,
   "id": "c8e8d9c2",
   "metadata": {},
   "outputs": [
    {
     "data": {
      "text/plain": [
       "도시\n",
       "서울    9904312\n",
       "부산    3448737\n",
       "인천     289045\n",
       "대구    2466052\n",
       "Name: 인구 수, dtype: int64"
      ]
     },
     "execution_count": 37,
     "metadata": {},
     "output_type": "execute_result"
    }
   ],
   "source": [
    "s.name = '인구 수'\n",
    "s"
   ]
  },
  {
   "cell_type": "markdown",
   "id": "9217e6ee",
   "metadata": {},
   "source": [
    "#### 1-8 시리즈 인덱싱\n",
    "* 인덱싱 : 데이터에서 특정한 데이터를 골라내는 것"
   ]
  },
  {
   "cell_type": "markdown",
   "id": "ef0ab16b",
   "metadata": {},
   "source": [
    "✔ 인덱스 이름 또는 인덱스 라벨"
   ]
  },
  {
   "cell_type": "markdown",
   "id": "3a48dca1",
   "metadata": {},
   "source": [
    "✔ 정수형 위치 인덱스"
   ]
  },
  {
   "cell_type": "markdown",
   "id": "7ab03d2b",
   "metadata": {},
   "source": [
    "* 인덱스 별도 지정하지 않으면 0부터 시작하는 정수형 인덱스가 지정됨"
   ]
  },
  {
   "cell_type": "code",
   "execution_count": 38,
   "id": "389e4b42",
   "metadata": {},
   "outputs": [
    {
     "data": {
      "text/plain": [
       "9904312"
      ]
     },
     "execution_count": 38,
     "metadata": {},
     "output_type": "execute_result"
    }
   ],
   "source": [
    "# 정수형 인덱스 접근\n",
    "s[0]a"
   ]
  },
  {
   "cell_type": "code",
   "execution_count": 39,
   "id": "ce50752b",
   "metadata": {},
   "outputs": [
    {
     "data": {
      "text/plain": [
       "9904312"
      ]
     },
     "execution_count": 39,
     "metadata": {},
     "output_type": "execute_result"
    }
   ],
   "source": [
    "# 문자형 인덱스 접근\n",
    "s['서울']"
   ]
  },
  {
   "cell_type": "markdown",
   "id": "b7ad0548",
   "metadata": {},
   "source": [
    "#### 1-9 리스트 이용 인덱싱\n",
    "* 자료의 순서를 바꾸거나 특정 자료 여러개를 선택할 수 있다.\n",
    "* 인덱스값 여러 개를 이용해 접근시 [] 안에 넣는다"
   ]
  },
  {
   "cell_type": "code",
   "execution_count": 41,
   "id": "eb577cf9",
   "metadata": {},
   "outputs": [
    {
     "data": {
      "text/plain": [
       "도시\n",
       "부산    3448737\n",
       "인천     289045\n",
       "Name: 인구 수, dtype: int64"
      ]
     },
     "execution_count": 41,
     "metadata": {},
     "output_type": "execute_result"
    }
   ],
   "source": [
    "# 여러 개 접근\n",
    "s[[1,2]]"
   ]
  },
  {
   "cell_type": "code",
   "execution_count": 42,
   "id": "ff195023",
   "metadata": {},
   "outputs": [
    {
     "data": {
      "text/plain": [
       "도시\n",
       "서울    9904312\n",
       "대구    2466052\n",
       "Name: 인구 수, dtype: int64"
      ]
     },
     "execution_count": 42,
     "metadata": {},
     "output_type": "execute_result"
    }
   ],
   "source": [
    "s[['서울','대구']]"
   ]
  },
  {
   "cell_type": "code",
   "execution_count": 43,
   "id": "e3ce4b09",
   "metadata": {},
   "outputs": [
    {
     "data": {
      "text/plain": [
       "9904312"
      ]
     },
     "execution_count": 43,
     "metadata": {},
     "output_type": "execute_result"
    }
   ],
   "source": [
    "# 인덱스를 문자값으로 지정한 시리즈\n",
    "s.서울"
   ]
  },
  {
   "cell_type": "code",
   "execution_count": 47,
   "id": "6a91fdd3",
   "metadata": {},
   "outputs": [
    {
     "data": {
      "text/plain": [
       "a    0\n",
       "b    1\n",
       "c    2\n",
       "dtype: int64"
      ]
     },
     "execution_count": 47,
     "metadata": {},
     "output_type": "execute_result"
    }
   ],
   "source": [
    "# s0의 인덱스가 a,b,c\n",
    "s1 = pd.Series(range(3),index=['a','b','c'])\n",
    "s1"
   ]
  },
  {
   "cell_type": "code",
   "execution_count": 50,
   "id": "3bcfa294",
   "metadata": {},
   "outputs": [
    {
     "data": {
      "text/plain": [
       "289045"
      ]
     },
     "execution_count": 50,
     "metadata": {},
     "output_type": "execute_result"
    }
   ],
   "source": [
    "s[2]"
   ]
  },
  {
   "cell_type": "markdown",
   "id": "092da248",
   "metadata": {},
   "source": [
    "#### 1-10 시리즈 슬라이싱"
   ]
  },
  {
   "cell_type": "code",
   "execution_count": 54,
   "id": "1f30fc6d",
   "metadata": {},
   "outputs": [
    {
     "data": {
      "text/plain": [
       "도시\n",
       "부산    3448737\n",
       "인천     289045\n",
       "Name: 인구 수, dtype: int64"
      ]
     },
     "execution_count": 54,
     "metadata": {},
     "output_type": "execute_result"
    }
   ],
   "source": [
    "s[1:3]"
   ]
  },
  {
   "cell_type": "code",
   "execution_count": 53,
   "id": "24740006",
   "metadata": {},
   "outputs": [
    {
     "data": {
      "text/plain": [
       "도시\n",
       "부산    3448737\n",
       "인천     289045\n",
       "대구    2466052\n",
       "Name: 인구 수, dtype: int64"
      ]
     },
     "execution_count": 53,
     "metadata": {},
     "output_type": "execute_result"
    }
   ],
   "source": [
    "s['부산':'대구']"
   ]
  },
  {
   "cell_type": "markdown",
   "id": "cbce9e6b",
   "metadata": {},
   "source": [
    "#### 1-11 인덱스를 통한 시리즈 데이터 업데이트"
   ]
  },
  {
   "cell_type": "code",
   "execution_count": 55,
   "id": "6df64cbe",
   "metadata": {},
   "outputs": [
    {
     "data": {
      "text/plain": [
       "도시\n",
       "서울    9904312\n",
       "부산    3448737\n",
       "인천     289045\n",
       "대구    2466052\n",
       "Name: 인구 수, dtype: int64"
      ]
     },
     "execution_count": 55,
     "metadata": {},
     "output_type": "execute_result"
    }
   ],
   "source": [
    "s"
   ]
  },
  {
   "cell_type": "code",
   "execution_count": 57,
   "id": "5ea7c53b",
   "metadata": {},
   "outputs": [
    {
     "data": {
      "text/plain": [
       "도시\n",
       "서울    1000000\n",
       "부산    3448737\n",
       "인천     289045\n",
       "대구    2466052\n",
       "Name: 인구 수, dtype: int64"
      ]
     },
     "execution_count": 57,
     "metadata": {},
     "output_type": "execute_result"
    }
   ],
   "source": [
    "# '서울' 데이터 변경\n",
    "s.서울 = 1000000      # s[0] = 100000\n",
    "s"
   ]
  },
  {
   "cell_type": "markdown",
   "id": "70ab0922",
   "metadata": {},
   "source": [
    "#### 1-12 시리즈 연산"
   ]
  },
  {
   "cell_type": "code",
   "execution_count": 58,
   "id": "613b6107",
   "metadata": {},
   "outputs": [
    {
     "data": {
      "text/plain": [
       "0    5\n",
       "1    6\n",
       "2    7\n",
       "dtype: int64"
      ]
     },
     "execution_count": 58,
     "metadata": {},
     "output_type": "execute_result"
    }
   ],
   "source": [
    "pd.Series([1,2,3])+4"
   ]
  },
  {
   "cell_type": "code",
   "execution_count": 59,
   "id": "254c5acc",
   "metadata": {},
   "outputs": [
    {
     "data": {
      "text/plain": [
       "도시\n",
       "서울    10.00000\n",
       "부산    34.48737\n",
       "인천     2.89045\n",
       "대구    24.66052\n",
       "Name: 인구 수, dtype: float64"
      ]
     },
     "execution_count": 59,
     "metadata": {},
     "output_type": "execute_result"
    }
   ],
   "source": [
    "s/100000"
   ]
  },
  {
   "cell_type": "code",
   "execution_count": 62,
   "id": "8fe0d174",
   "metadata": {},
   "outputs": [
    {
     "data": {
      "text/plain": [
       "도시\n",
       "부산    3448737\n",
       "Name: 인구 수, dtype: int64"
      ]
     },
     "execution_count": 62,
     "metadata": {},
     "output_type": "execute_result"
    }
   ],
   "source": [
    "# 벡터화 인덱싱\n",
    "s[(s > 2500000) & (s < 5000000)]     # 25e5"
   ]
  },
  {
   "cell_type": "code",
   "execution_count": 65,
   "id": "3fa7533b",
   "metadata": {},
   "outputs": [
    {
     "data": {
      "text/plain": [
       "1     0\n",
       "2     1\n",
       "3     2\n",
       "4     3\n",
       "5     4\n",
       "6     5\n",
       "7     6\n",
       "8     7\n",
       "9     8\n",
       "10    9\n",
       "dtype: int32"
      ]
     },
     "execution_count": 65,
     "metadata": {},
     "output_type": "execute_result"
    }
   ],
   "source": [
    "s0 = pd.Series(np.arange(10), np.arange(10)+1)\n",
    "s0"
   ]
  },
  {
   "cell_type": "code",
   "execution_count": 69,
   "id": "83cedd0d",
   "metadata": {},
   "outputs": [
    {
     "data": {
      "text/plain": [
       "1    0\n",
       "3    2\n",
       "5    4\n",
       "7    6\n",
       "9    8\n",
       "dtype: int32"
      ]
     },
     "execution_count": 69,
     "metadata": {},
     "output_type": "execute_result"
    }
   ],
   "source": [
    "# 짝수 호출\n",
    "s0[(s0%2==0)]"
   ]
  },
  {
   "cell_type": "code",
   "execution_count": 70,
   "id": "e10d4826",
   "metadata": {},
   "outputs": [
    {
     "data": {
      "text/plain": [
       "array([False, False, False, False, False,  True,  True,  True,  True,\n",
       "        True])"
      ]
     },
     "execution_count": 70,
     "metadata": {},
     "output_type": "execute_result"
    }
   ],
   "source": [
    "s0.index > 5"
   ]
  },
  {
   "cell_type": "code",
   "execution_count": 71,
   "id": "716db319",
   "metadata": {},
   "outputs": [
    {
     "data": {
      "text/plain": [
       "6     5\n",
       "7     6\n",
       "8     7\n",
       "9     8\n",
       "10    9\n",
       "dtype: int32"
      ]
     },
     "execution_count": 71,
     "metadata": {},
     "output_type": "execute_result"
    }
   ],
   "source": [
    "s0[(s0.index > 5)]"
   ]
  },
  {
   "cell_type": "code",
   "execution_count": 73,
   "id": "841c5c9d",
   "metadata": {},
   "outputs": [
    {
     "data": {
      "text/plain": [
       "7    6\n",
       "8    7\n",
       "dtype: int32"
      ]
     },
     "execution_count": 73,
     "metadata": {},
     "output_type": "execute_result"
    }
   ],
   "source": [
    "# 값이 5보다 크고 8보다 작은 요소 추출\n",
    "s0[(s0 > 5) & (s0 < 8)]"
   ]
  },
  {
   "cell_type": "code",
   "execution_count": 74,
   "id": "cdcb1c8d",
   "metadata": {},
   "outputs": [
    {
     "data": {
      "text/plain": [
       "24"
      ]
     },
     "execution_count": 74,
     "metadata": {},
     "output_type": "execute_result"
    }
   ],
   "source": [
    "# 값이 7이상인 수들의 합을 구하기\n",
    "s0[s0 >= 7].sum()"
   ]
  },
  {
   "cell_type": "code",
   "execution_count": 75,
   "id": "c5155b7f",
   "metadata": {},
   "outputs": [
    {
     "data": {
      "text/plain": [
       "3"
      ]
     },
     "execution_count": 75,
     "metadata": {},
     "output_type": "execute_result"
    }
   ],
   "source": [
    "(s0 >= 7).sum()      # 조건에 맞는 항목들의 갯수의 합 => 7,8,9 총 3개"
   ]
  },
  {
   "cell_type": "markdown",
   "id": "fb76405c",
   "metadata": {},
   "source": [
    "🏸 두 시리즈간의 연산"
   ]
  },
  {
   "cell_type": "code",
   "execution_count": 76,
   "id": "864a2d93",
   "metadata": {},
   "outputs": [
    {
     "data": {
      "text/plain": [
       "a    1\n",
       "b    2\n",
       "c    3\n",
       "d    4\n",
       "dtype: int64"
      ]
     },
     "execution_count": 76,
     "metadata": {},
     "output_type": "execute_result"
    }
   ],
   "source": [
    "num_s1 = pd.Series([1,2,3,4],index=['a','b','c','d'])\n",
    "num_s1"
   ]
  },
  {
   "cell_type": "code",
   "execution_count": 77,
   "id": "e1235149",
   "metadata": {},
   "outputs": [
    {
     "data": {
      "text/plain": [
       "b    5\n",
       "c    6\n",
       "d    7\n",
       "a    8\n",
       "dtype: int64"
      ]
     },
     "execution_count": 77,
     "metadata": {},
     "output_type": "execute_result"
    }
   ],
   "source": [
    "num_s2 = pd.Series([5,6,7,8],index=['b','c','d','a'])\n",
    "num_s2"
   ]
  },
  {
   "cell_type": "markdown",
   "id": "4f1e9caf",
   "metadata": {},
   "source": [
    "* 시리즈간의 연산은 같은 인덱스를 찾아 연산을 진행\n",
    "* 동일한 인덱스는 연산을 진행하고 나머지 인덱스는 연산처리가 불가 해 NaN 값 처리"
   ]
  },
  {
   "cell_type": "code",
   "execution_count": 78,
   "id": "75f3a838",
   "metadata": {},
   "outputs": [
    {
     "data": {
      "text/plain": [
       "a     9\n",
       "b     7\n",
       "c     9\n",
       "d    11\n",
       "dtype: int64"
      ]
     },
     "execution_count": 78,
     "metadata": {},
     "output_type": "execute_result"
    }
   ],
   "source": [
    "num_s1 + num_s2     # np에서는 같은 인덱스끼리 계산\n",
    "                    # pd에서는 같은 인덱스\"값\"을 찾아 계산"
   ]
  },
  {
   "cell_type": "code",
   "execution_count": 81,
   "id": "25e8f01c",
   "metadata": {},
   "outputs": [],
   "source": [
    "num_s3 = pd.Series([5,6,7,8],index=['e','b','f','g'])\n",
    "num_s4 = pd.Series([1,2,3,4],index=['a','b','c','d'])"
   ]
  },
  {
   "cell_type": "code",
   "execution_count": 82,
   "id": "07ccdd4a",
   "metadata": {},
   "outputs": [
    {
     "data": {
      "text/plain": [
       "a    NaN\n",
       "b    8.0\n",
       "c    NaN\n",
       "d    NaN\n",
       "e    NaN\n",
       "f    NaN\n",
       "g    NaN\n",
       "dtype: float64"
      ]
     },
     "execution_count": 82,
     "metadata": {},
     "output_type": "execute_result"
    }
   ],
   "source": [
    "num_s3 + num_s4"
   ]
  },
  {
   "cell_type": "code",
   "execution_count": 83,
   "id": "46a84a95",
   "metadata": {},
   "outputs": [
    {
     "data": {
      "text/plain": [
       "a    NaN\n",
       "b    4.0\n",
       "c    NaN\n",
       "d    NaN\n",
       "e    NaN\n",
       "f    NaN\n",
       "g    NaN\n",
       "dtype: float64"
      ]
     },
     "execution_count": 83,
     "metadata": {},
     "output_type": "execute_result"
    }
   ],
   "source": [
    "num_s3 - num_s4"
   ]
  },
  {
   "cell_type": "code",
   "execution_count": 84,
   "id": "aca15d81",
   "metadata": {},
   "outputs": [
    {
     "data": {
      "text/plain": [
       "array([4, 4, 4, 4], dtype=int64)"
      ]
     },
     "execution_count": 84,
     "metadata": {},
     "output_type": "execute_result"
    }
   ],
   "source": [
    "# 두 시리즈 values들 간의 연산\n",
    "num_s3.values - num_s4.values"
   ]
  },
  {
   "cell_type": "markdown",
   "id": "8fd792c4",
   "metadata": {},
   "source": [
    "#### 1-13 in연산자 / for 반복문 사용"
   ]
  },
  {
   "cell_type": "code",
   "execution_count": 85,
   "id": "0fa7529f",
   "metadata": {},
   "outputs": [
    {
     "data": {
      "text/plain": [
       "도시\n",
       "서울    1000000\n",
       "부산    3448737\n",
       "인천     289045\n",
       "대구    2466052\n",
       "Name: 인구 수, dtype: int64"
      ]
     },
     "execution_count": 85,
     "metadata": {},
     "output_type": "execute_result"
    }
   ],
   "source": [
    "s"
   ]
  },
  {
   "cell_type": "code",
   "execution_count": 86,
   "id": "e53363d1",
   "metadata": {},
   "outputs": [
    {
     "data": {
      "text/plain": [
       "True"
      ]
     },
     "execution_count": 86,
     "metadata": {},
     "output_type": "execute_result"
    }
   ],
   "source": [
    "'서울' in s"
   ]
  },
  {
   "cell_type": "code",
   "execution_count": 87,
   "id": "efa62d2f",
   "metadata": {},
   "outputs": [
    {
     "data": {
      "text/plain": [
       "True"
      ]
     },
     "execution_count": 87,
     "metadata": {},
     "output_type": "execute_result"
    }
   ],
   "source": [
    "'대전' not in s"
   ]
  },
  {
   "cell_type": "code",
   "execution_count": 89,
   "id": "8f5730ae",
   "metadata": {},
   "outputs": [
    {
     "data": {
      "text/plain": [
       "[('서울', 1000000), ('부산', 3448737), ('인천', 289045), ('대구', 2466052)]"
      ]
     },
     "execution_count": 89,
     "metadata": {},
     "output_type": "execute_result"
    }
   ],
   "source": [
    "list(s.items())"
   ]
  },
  {
   "cell_type": "code",
   "execution_count": 91,
   "id": "1f3e3dc7",
   "metadata": {},
   "outputs": [
    {
     "name": "stdout",
     "output_type": "stream",
     "text": [
      "서울=1000000\n",
      "부산=3448737\n",
      "인천=289045\n",
      "대구=2466052\n"
     ]
    }
   ],
   "source": [
    "for k, v in s.items():\n",
    "    print(f'{k}={v}')"
   ]
  },
  {
   "cell_type": "markdown",
   "id": "e743a638",
   "metadata": {},
   "source": [
    "#### 1-14 딕셔너리로 시리즈 만들기"
   ]
  },
  {
   "cell_type": "code",
   "execution_count": 92,
   "id": "226e117d",
   "metadata": {},
   "outputs": [
    {
     "data": {
      "text/plain": [
       "홍길동     96\n",
       "이몽룡    100\n",
       "성춘향     88\n",
       "dtype: int64"
      ]
     },
     "execution_count": 92,
     "metadata": {},
     "output_type": "execute_result"
    }
   ],
   "source": [
    "scores = {'홍길동' : 96, '이몽룡' : 100, '성춘향' : 88}\n",
    "s = pd.Series(scores)\n",
    "s"
   ]
  },
  {
   "cell_type": "code",
   "execution_count": 95,
   "id": "ac8733b8",
   "metadata": {},
   "outputs": [
    {
     "data": {
      "text/plain": [
       "서울    9631482\n",
       "부산    3393191\n",
       "인천    2632035\n",
       "대전    1490158\n",
       "dtype: int64"
      ]
     },
     "execution_count": 95,
     "metadata": {},
     "output_type": "execute_result"
    }
   ],
   "source": [
    "city = {'서울' : 9631482 , '부산' : 3393191, '인천' : 2632035, '대전' : 1490158}\n",
    "s = pd.Series(city)\n",
    "s"
   ]
  },
  {
   "cell_type": "code",
   "execution_count": 97,
   "id": "9ce26b1c",
   "metadata": {},
   "outputs": [
    {
     "data": {
      "text/plain": [
       "부산    3393191\n",
       "인천    2632035\n",
       "서울    9631482\n",
       "대전    1490158\n",
       "dtype: int64"
      ]
     },
     "execution_count": 97,
     "metadata": {},
     "output_type": "execute_result"
    }
   ],
   "source": [
    "s = pd.Series(city, index=['부산','인천','서울','대전'])\n",
    "s"
   ]
  },
  {
   "cell_type": "markdown",
   "id": "a3a344b1",
   "metadata": {},
   "source": [
    "#### 1-15 시리즈 데이터의 갱신, 추가, 삭제"
   ]
  },
  {
   "cell_type": "code",
   "execution_count": 98,
   "id": "fcdb6bcb",
   "metadata": {},
   "outputs": [
    {
     "data": {
      "text/plain": [
       "부산    3393191\n",
       "인천    2632035\n",
       "서울    9631482\n",
       "대전    1490158\n",
       "dtype: int64"
      ]
     },
     "execution_count": 98,
     "metadata": {},
     "output_type": "execute_result"
    }
   ],
   "source": [
    "s"
   ]
  },
  {
   "cell_type": "code",
   "execution_count": 99,
   "id": "5269f12a",
   "metadata": {},
   "outputs": [
    {
     "data": {
      "text/plain": [
       "부산    1630000\n",
       "인천    2632035\n",
       "서울    9631482\n",
       "대전    1490158\n",
       "dtype: int64"
      ]
     },
     "execution_count": 99,
     "metadata": {},
     "output_type": "execute_result"
    }
   ],
   "source": [
    "# 데이터 변경\n",
    "s.부산 = 1630000\n",
    "s"
   ]
  },
  {
   "cell_type": "code",
   "execution_count": 101,
   "id": "e2674565",
   "metadata": {},
   "outputs": [
    {
     "data": {
      "text/plain": [
       "인천    2632035\n",
       "서울    9631482\n",
       "대전    1490158\n",
       "dtype: int64"
      ]
     },
     "execution_count": 101,
     "metadata": {},
     "output_type": "execute_result"
    }
   ],
   "source": [
    "# 시리즈 데이터 삭제\n",
    "del s['부산']\n",
    "s"
   ]
  },
  {
   "cell_type": "code",
   "execution_count": 102,
   "id": "9ee858d6",
   "metadata": {},
   "outputs": [
    {
     "data": {
      "text/plain": [
       "인천    2632035\n",
       "서울    9631482\n",
       "대전    1490158\n",
       "대구     187500\n",
       "dtype: int64"
      ]
     },
     "execution_count": 102,
     "metadata": {},
     "output_type": "execute_result"
    }
   ],
   "source": [
    "# 시리즈에 새로운 값 추가\n",
    "s['대구'] = 187500\n",
    "s"
   ]
  },
  {
   "cell_type": "markdown",
   "id": "a1b7c869",
   "metadata": {},
   "source": [
    "#### 1-16 Series 함수\n",
    "* size : 시리즈 원소 개수 반환\n",
    "* shape : 튜플 형태로 shape 반환\n",
    "* unique() : 유일한 값만 ndarray로 반환\n",
    "* count() : NaN을 제외한 개수를 반환\n",
    "* mean() : NaN을 제외한 평균\n",
    "* value_counts() : NaN을 제외하고 각 값들의 빈도를 반환"
   ]
  },
  {
   "cell_type": "code",
   "execution_count": 103,
   "id": "4c094237",
   "metadata": {},
   "outputs": [
    {
     "data": {
      "text/plain": [
       "0     1.0\n",
       "1     1.0\n",
       "2     2.0\n",
       "3     1.0\n",
       "4     2.0\n",
       "5     2.0\n",
       "6     2.0\n",
       "7     1.0\n",
       "8     1.0\n",
       "9     3.0\n",
       "10    3.0\n",
       "11    4.0\n",
       "12    5.0\n",
       "13    5.0\n",
       "14    7.0\n",
       "15    NaN\n",
       "dtype: float64"
      ]
     },
     "execution_count": 103,
     "metadata": {},
     "output_type": "execute_result"
    }
   ],
   "source": [
    "s1 = pd.Series([1,1,2,1,2,2,2,1,1,3,3,4,5,5,7,np.NaN])\n",
    "s1"
   ]
  },
  {
   "cell_type": "code",
   "execution_count": 104,
   "id": "ade45951",
   "metadata": {},
   "outputs": [
    {
     "data": {
      "text/plain": [
       "16"
      ]
     },
     "execution_count": 104,
     "metadata": {},
     "output_type": "execute_result"
    }
   ],
   "source": [
    "s1.size"
   ]
  },
  {
   "cell_type": "code",
   "execution_count": 105,
   "id": "75965828",
   "metadata": {},
   "outputs": [
    {
     "data": {
      "text/plain": [
       "(16,)"
      ]
     },
     "execution_count": 105,
     "metadata": {},
     "output_type": "execute_result"
    }
   ],
   "source": [
    "s1.shape"
   ]
  },
  {
   "cell_type": "code",
   "execution_count": 108,
   "id": "39750ecb",
   "metadata": {},
   "outputs": [
    {
     "data": {
      "text/plain": [
       "array([ 1.,  2.,  3.,  4.,  5.,  7., nan])"
      ]
     },
     "execution_count": 108,
     "metadata": {},
     "output_type": "execute_result"
    }
   ],
   "source": [
    "s1.unique()"
   ]
  },
  {
   "cell_type": "code",
   "execution_count": 109,
   "id": "8cbde85a",
   "metadata": {},
   "outputs": [
    {
     "data": {
      "text/plain": [
       "15"
      ]
     },
     "execution_count": 109,
     "metadata": {},
     "output_type": "execute_result"
    }
   ],
   "source": [
    "s1.count()"
   ]
  },
  {
   "cell_type": "code",
   "execution_count": 110,
   "id": "dca4eaad",
   "metadata": {},
   "outputs": [
    {
     "data": {
      "text/plain": [
       "2.6666666666666665"
      ]
     },
     "execution_count": 110,
     "metadata": {},
     "output_type": "execute_result"
    }
   ],
   "source": [
    "s1.mean()"
   ]
  },
  {
   "cell_type": "code",
   "execution_count": 111,
   "id": "57a2b305",
   "metadata": {},
   "outputs": [
    {
     "name": "stdout",
     "output_type": "stream",
     "text": [
      "nan\n"
     ]
    }
   ],
   "source": [
    "# np는 결측치가 있으면 평균을 산출했을 때, nan이 나옴\n",
    "a = np.array([2,2,2,2,np.NaN])      \n",
    "a.mean()"
   ]
  },
  {
   "cell_type": "code",
   "execution_count": 112,
   "id": "622d6f7b",
   "metadata": {},
   "outputs": [
    {
     "data": {
      "text/plain": [
       "2.0"
      ]
     },
     "execution_count": 112,
     "metadata": {},
     "output_type": "execute_result"
    }
   ],
   "source": [
    "# 시리즈의 경우 평균은 NaN을 제외하고 계산\n",
    "b = pd.Series(a)\n",
    "b.mean()"
   ]
  },
  {
   "cell_type": "code",
   "execution_count": 113,
   "id": "55cf7b9d",
   "metadata": {},
   "outputs": [
    {
     "data": {
      "text/plain": [
       "0    2.0\n",
       "1    2.0\n",
       "2    2.0\n",
       "3    2.0\n",
       "4    NaN\n",
       "dtype: float64"
      ]
     },
     "execution_count": 113,
     "metadata": {},
     "output_type": "execute_result"
    }
   ],
   "source": [
    "b"
   ]
  },
  {
   "cell_type": "code",
   "execution_count": 115,
   "id": "5de5850a",
   "metadata": {},
   "outputs": [
    {
     "data": {
      "text/plain": [
       "1.0    5\n",
       "2.0    4\n",
       "3.0    2\n",
       "5.0    2\n",
       "4.0    1\n",
       "7.0    1\n",
       "dtype: int64"
      ]
     },
     "execution_count": 115,
     "metadata": {},
     "output_type": "execute_result"
    }
   ],
   "source": [
    "s1.value_counts()"
   ]
  },
  {
   "cell_type": "markdown",
   "id": "b0c9f50c",
   "metadata": {},
   "source": [
    "#### 1-17 날짜 인덱스를 이용하여 시리즈 생성\n",
    "* 날짜 인덱스를 이용하여 시리즈 만들기\n",
    "* 날짜 표시 : '년-월-일' 형태의 문자열로 표시\n",
    "* 날짜 생성 함수 : date_range()\n",
    "* 교재 p241"
   ]
  },
  {
   "cell_type": "code",
   "execution_count": 117,
   "id": "7751d3ac",
   "metadata": {},
   "outputs": [
    {
     "data": {
      "text/plain": [
       "DatetimeIndex(['2021-10-01', '2021-10-02', '2021-10-03', '2021-10-04',\n",
       "               '2021-10-05', '2021-10-06', '2021-10-07', '2021-10-08',\n",
       "               '2021-10-09', '2021-10-10', '2021-10-11', '2021-10-12',\n",
       "               '2021-10-13', '2021-10-14', '2021-10-15', '2021-10-16',\n",
       "               '2021-10-17', '2021-10-18', '2021-10-19', '2021-10-20'],\n",
       "              dtype='datetime64[ns]', freq='D')"
      ]
     },
     "execution_count": 117,
     "metadata": {},
     "output_type": "execute_result"
    }
   ],
   "source": [
    "# 일별 간격으로 날짜 생성\n",
    "date = pd.date_range(start='2021-10-01', end='2021-10-20')\n",
    "date"
   ]
  },
  {
   "cell_type": "code",
   "execution_count": 119,
   "id": "615f6c64",
   "metadata": {},
   "outputs": [
    {
     "data": {
      "text/plain": [
       "pandas.core.indexes.datetimes.DatetimeIndex"
      ]
     },
     "execution_count": 119,
     "metadata": {},
     "output_type": "execute_result"
    }
   ],
   "source": [
    "type(date)"
   ]
  },
  {
   "cell_type": "code",
   "execution_count": 120,
   "id": "fc8b8169",
   "metadata": {},
   "outputs": [
    {
     "data": {
      "text/plain": [
       "DatetimeIndex(['2021-10-01', '2021-10-02', '2021-10-03', '2021-10-04',\n",
       "               '2021-10-05', '2021-10-06', '2021-10-07', '2021-10-08',\n",
       "               '2021-10-09', '2021-10-10', '2021-10-11', '2021-10-12',\n",
       "               '2021-10-13', '2021-10-14', '2021-10-15', '2021-10-16',\n",
       "               '2021-10-17', '2021-10-18', '2021-10-19', '2021-10-20'],\n",
       "              dtype='datetime64[ns]', freq='D')"
      ]
     },
     "execution_count": 120,
     "metadata": {},
     "output_type": "execute_result"
    }
   ],
   "source": [
    "# 하루주기로 2021-10-01.에서 2021-10-20 사이의 일자 생성\n",
    "pd.date_range(start='2021-10-01', end='2021-10-20',freq='D')"
   ]
  },
  {
   "cell_type": "code",
   "execution_count": 121,
   "id": "711bef19",
   "metadata": {},
   "outputs": [
    {
     "data": {
      "text/plain": [
       "DatetimeIndex(['2021-10-01', '2021-10-04', '2021-10-07', '2021-10-10',\n",
       "               '2021-10-13', '2021-10-16', '2021-10-19'],\n",
       "              dtype='datetime64[ns]', freq='3D')"
      ]
     },
     "execution_count": 121,
     "metadata": {},
     "output_type": "execute_result"
    }
   ],
   "source": [
    "# 3일 주기로 2021-10-01.에서 2021-10-20 사이의 일자 생성\n",
    "pd.date_range(start='2021-10-01', end='2021-10-20',freq='3D')"
   ]
  },
  {
   "cell_type": "code",
   "execution_count": 122,
   "id": "3fc26657",
   "metadata": {},
   "outputs": [
    {
     "data": {
      "text/plain": [
       "DatetimeIndex(['2021-10-03', '2021-10-10', '2021-10-17'], dtype='datetime64[ns]', freq='W-SUN')"
      ]
     },
     "execution_count": 122,
     "metadata": {},
     "output_type": "execute_result"
    }
   ],
   "source": [
    "# 주 간격으로 날짜 생성\n",
    "# 2021-10-01일을 기준으로 1주일씩 증가하는 일자 생성 ( 일요일 )\n",
    "\n",
    "pd.date_range(start='2021-10-01', end='2021-10-20',freq='W')"
   ]
  },
  {
   "cell_type": "code",
   "execution_count": 123,
   "id": "d8533b36",
   "metadata": {},
   "outputs": [
    {
     "data": {
      "text/plain": [
       "DatetimeIndex(['2021-10-04', '2021-10-11', '2021-10-18'], dtype='datetime64[ns]', freq='W-MON')"
      ]
     },
     "execution_count": 123,
     "metadata": {},
     "output_type": "execute_result"
    }
   ],
   "source": [
    "# 주 간격으로 날짜 생성\n",
    "# 2021-10-01일을 기준으로 1주일씩 증가하는 일자 생성 ( 월요일 )\n",
    "\n",
    "pd.date_range(start='2021-10-01', end='2021-10-20',freq='W-MON')"
   ]
  },
  {
   "cell_type": "code",
   "execution_count": 125,
   "id": "4263fd8d",
   "metadata": {},
   "outputs": [
    {
     "data": {
      "text/plain": [
       "DatetimeIndex(['2021-10-11', '2021-10-18', '2021-10-25', '2021-11-01'], dtype='datetime64[ns]', freq='W-MON')"
      ]
     },
     "execution_count": 125,
     "metadata": {},
     "output_type": "execute_result"
    }
   ],
   "source": [
    "# 주 간격으로 날짜 생성\n",
    "# 2021-10-07일을 기준으로 1주일씩 증가하는 4개의 1주 시작일 ( 월요일 )\n",
    "\n",
    "pd.date_range(start='2021-10-07', periods=4,freq='W-MON')"
   ]
  },
  {
   "cell_type": "code",
   "execution_count": 126,
   "id": "6a35d752",
   "metadata": {},
   "outputs": [
    {
     "data": {
      "text/plain": [
       "DatetimeIndex(['2021-10-31', '2021-11-30', '2021-12-31', '2022-01-31'], dtype='datetime64[ns]', freq='M')"
      ]
     },
     "execution_count": 126,
     "metadata": {},
     "output_type": "execute_result"
    }
   ],
   "source": [
    "# 2021-10-01일을 기준으로 1달씩 증가하는 일자 4개 생성 : 월말 기준\n",
    "pd.date_range(start='2021-10-01', periods=4,freq='M')"
   ]
  },
  {
   "cell_type": "code",
   "execution_count": 127,
   "id": "938969f0",
   "metadata": {},
   "outputs": [
    {
     "data": {
      "text/plain": [
       "DatetimeIndex(['2021-10-01', '2021-11-01', '2021-12-01', '2022-01-01'], dtype='datetime64[ns]', freq='MS')"
      ]
     },
     "execution_count": 127,
     "metadata": {},
     "output_type": "execute_result"
    }
   ],
   "source": [
    "# 2021-10-01일을 기준으로 1달씩 증가하는 일자 4개 생성 : 월초 기준\n",
    "pd.date_range(start='2021-10-01', periods=4,freq='MS')"
   ]
  },
  {
   "cell_type": "code",
   "execution_count": 128,
   "id": "b2d86d6a",
   "metadata": {},
   "outputs": [
    {
     "data": {
      "text/plain": [
       "DatetimeIndex(['2021-10-31', '2022-01-31', '2022-04-30', '2022-07-31'], dtype='datetime64[ns]', freq='3M')"
      ]
     },
     "execution_count": 128,
     "metadata": {},
     "output_type": "execute_result"
    }
   ],
   "source": [
    "# 2021-10-01일을 기준으로 3달씩 증가하는 일자 4개 생성 : 월말 기준\n",
    "pd.date_range(start='2021-10-01', periods=4,freq='3M')"
   ]
  },
  {
   "cell_type": "code",
   "execution_count": 129,
   "id": "681bef42",
   "metadata": {},
   "outputs": [
    {
     "data": {
      "text/plain": [
       "DatetimeIndex(['2021-10-01', '2021-12-01', '2022-02-01', '2022-04-01',\n",
       "               '2022-06-01', '2022-08-01', '2022-10-01', '2022-12-01',\n",
       "               '2023-02-01', '2023-04-01', '2023-06-01', '2023-08-01'],\n",
       "              dtype='datetime64[ns]', freq='2MS')"
      ]
     },
     "execution_count": 129,
     "metadata": {},
     "output_type": "execute_result"
    }
   ],
   "source": [
    "# 2021-10-01일을 기준으로 2달씩 증가하는 일자 12개 생성 : 월초 기준\n",
    "pd.date_range(start='2021-10-01', periods=12,freq='2MS')"
   ]
  },
  {
   "cell_type": "code",
   "execution_count": 130,
   "id": "8125504c",
   "metadata": {},
   "outputs": [
    {
     "data": {
      "text/plain": [
       "DatetimeIndex(['2022-01-07 09:00:00', '2022-01-07 10:00:00',\n",
       "               '2022-01-07 11:00:00', '2022-01-07 12:00:00',\n",
       "               '2022-01-07 13:00:00', '2022-01-07 14:00:00',\n",
       "               '2022-01-07 15:00:00', '2022-01-07 16:00:00',\n",
       "               '2022-01-07 17:00:00', '2022-01-07 18:00:00'],\n",
       "              dtype='datetime64[ns]', freq='H')"
      ]
     },
     "execution_count": 130,
     "metadata": {},
     "output_type": "execute_result"
    }
   ],
   "source": [
    "# 2022-01-7일 08:00 부터 시간 기준으로 10개의 날짜 생성\n",
    "pd.date_range(start='2022-01-07 09:00', periods=10, freq='H')"
   ]
  },
  {
   "cell_type": "code",
   "execution_count": 131,
   "id": "a1a7de72",
   "metadata": {},
   "outputs": [
    {
     "data": {
      "text/plain": [
       "DatetimeIndex(['2022-01-07 09:00:00', '2022-01-07 10:00:00',\n",
       "               '2022-01-07 11:00:00', '2022-01-07 12:00:00',\n",
       "               '2022-01-07 13:00:00', '2022-01-07 14:00:00',\n",
       "               '2022-01-07 15:00:00', '2022-01-07 16:00:00',\n",
       "               '2022-01-10 09:00:00', '2022-01-10 10:00:00'],\n",
       "              dtype='datetime64[ns]', freq='BH')"
      ]
     },
     "execution_count": 131,
     "metadata": {},
     "output_type": "execute_result"
    }
   ],
   "source": [
    "# 2022-01-7일 08:00 부터 업무 시간 기준으로 10개의 날짜 생성\n",
    "pd.date_range(start='2022-01-07 09:00', periods=10, freq='BH')"
   ]
  },
  {
   "cell_type": "code",
   "execution_count": null,
   "id": "cef036be",
   "metadata": {},
   "outputs": [],
   "source": []
  },
  {
   "cell_type": "code",
   "execution_count": null,
   "id": "7471b776",
   "metadata": {},
   "outputs": [],
   "source": []
  },
  {
   "cell_type": "code",
   "execution_count": null,
   "id": "b42702b7",
   "metadata": {},
   "outputs": [],
   "source": []
  }
 ],
 "metadata": {
  "kernelspec": {
   "display_name": "Python 3 (ipykernel)",
   "language": "python",
   "name": "python3"
  },
  "language_info": {
   "codemirror_mode": {
    "name": "ipython",
    "version": 3
   },
   "file_extension": ".py",
   "mimetype": "text/x-python",
   "name": "python",
   "nbconvert_exporter": "python",
   "pygments_lexer": "ipython3",
   "version": "3.9.7"
  }
 },
 "nbformat": 4,
 "nbformat_minor": 5
}
