{
 "cells": [
  {
   "cell_type": "markdown",
   "id": "e94d20bb",
   "metadata": {},
   "source": [
    "# 🎈 변이 통계량"
   ]
  },
  {
   "cell_type": "code",
   "execution_count": 1,
   "id": "aed97711",
   "metadata": {},
   "outputs": [],
   "source": [
    "import numpy as np\n",
    "import pandas as pd\n",
    "import math\n",
    "from scipy.stats import *\n",
    "import scipy as sp\n",
    "\n",
    "# Jupyter Notebook의 출력을 소수점 이하 3자리로 제한\n",
    "%precision 3\n",
    "\n",
    "# Dataframe의 출력을 소수점 이하 3자리로 제한\n",
    "pd.set_option('precision', 3)\n",
    "\n",
    "from IPython.core.interactiveshell import InteractiveShell\n",
    "InteractiveShell.ast_node_interactivity=\"all\""
   ]
  },
  {
   "cell_type": "markdown",
   "id": "6ec79b15",
   "metadata": {},
   "source": [
    "## ✔ 범위 (range)"
   ]
  },
  {
   "cell_type": "code",
   "execution_count": 2,
   "id": "61a107b1",
   "metadata": {},
   "outputs": [
    {
     "data": {
      "text/plain": [
       "array([ 78.287, 119.947, 105.66 ,  69.874,  88.428, 133.029,  51.466,\n",
       "        91.422, 125.319,  82.665])"
      ]
     },
     "execution_count": 2,
     "metadata": {},
     "output_type": "execute_result"
    }
   ],
   "source": [
    "# 범위(R) = 최대값 - 최소값\n",
    "\n",
    "np.random.seed(123)\n",
    "data = np.random.normal(100,20,1000)\n",
    "data[:10]"
   ]
  },
  {
   "cell_type": "code",
   "execution_count": 3,
   "id": "b6535742",
   "metadata": {},
   "outputs": [
    {
     "data": {
      "text/plain": [
       "(35.37889984161376, 171.43158436052622)"
      ]
     },
     "execution_count": 3,
     "metadata": {},
     "output_type": "execute_result"
    }
   ],
   "source": [
    "np.min(data), np.max(data)"
   ]
  },
  {
   "cell_type": "code",
   "execution_count": 5,
   "id": "a3ea5be5",
   "metadata": {},
   "outputs": [
    {
     "data": {
      "text/plain": [
       "136.05268451891246"
      ]
     },
     "execution_count": 5,
     "metadata": {},
     "output_type": "execute_result"
    }
   ],
   "source": [
    "R = np.max(data) - np.min(data)\n",
    "R"
   ]
  },
  {
   "cell_type": "code",
   "execution_count": 6,
   "id": "2ea373eb",
   "metadata": {},
   "outputs": [
    {
     "data": {
      "text/plain": [
       "136.05268451891246"
      ]
     },
     "execution_count": 6,
     "metadata": {},
     "output_type": "execute_result"
    }
   ],
   "source": [
    "np.ptp(data)"
   ]
  },
  {
   "cell_type": "markdown",
   "id": "48f3fe96",
   "metadata": {},
   "source": [
    "## ✔ 중간 범위"
   ]
  },
  {
   "cell_type": "code",
   "execution_count": 7,
   "id": "3cc1828d",
   "metadata": {},
   "outputs": [
    {
     "data": {
      "text/plain": [
       "103.40524210106999"
      ]
     },
     "execution_count": 7,
     "metadata": {},
     "output_type": "execute_result"
    }
   ],
   "source": [
    "# 중간 범위 계산\n",
    "(np.max(data) + np.min(data))/2"
   ]
  },
  {
   "cell_type": "markdown",
   "id": "cac5d204",
   "metadata": {},
   "source": [
    "## ✔ 사분위간 범위"
   ]
  },
  {
   "cell_type": "code",
   "execution_count": 9,
   "id": "4e6aa3a1",
   "metadata": {},
   "outputs": [
    {
     "data": {
      "text/plain": [
       "27.06844676167337"
      ]
     },
     "execution_count": 9,
     "metadata": {},
     "output_type": "execute_result"
    }
   ],
   "source": [
    "np.quantile(data, 0.75) - np.quantile(data, 0.25)"
   ]
  },
  {
   "cell_type": "code",
   "execution_count": 10,
   "id": "e5f912c4",
   "metadata": {},
   "outputs": [
    {
     "data": {
      "text/plain": [
       "27.06844676167337"
      ]
     },
     "execution_count": 10,
     "metadata": {},
     "output_type": "execute_result"
    }
   ],
   "source": [
    "iqr(data)"
   ]
  },
  {
   "cell_type": "markdown",
   "id": "b55673c3",
   "metadata": {},
   "source": [
    "## ✔ 사분위수 편차"
   ]
  },
  {
   "cell_type": "code",
   "execution_count": 11,
   "id": "6893ebba",
   "metadata": {},
   "outputs": [
    {
     "data": {
      "text/plain": [
       "13.534223380836686"
      ]
     },
     "execution_count": 11,
     "metadata": {},
     "output_type": "execute_result"
    }
   ],
   "source": [
    "(np.quantile(data, 0.75) - np.quantile(data, 0.25))/2"
   ]
  },
  {
   "cell_type": "code",
   "execution_count": 12,
   "id": "172dbaa0",
   "metadata": {},
   "outputs": [
    {
     "data": {
      "text/plain": [
       "13.534223380836686"
      ]
     },
     "execution_count": 12,
     "metadata": {},
     "output_type": "execute_result"
    }
   ],
   "source": [
    "iqr(data)/2"
   ]
  },
  {
   "cell_type": "markdown",
   "id": "a052a964",
   "metadata": {},
   "source": [
    "## ✔ 편차 (deviation)\n",
    "* 자료값과 평균과의 차이\n",
    "* xi-mean()"
   ]
  },
  {
   "cell_type": "code",
   "execution_count": 14,
   "id": "2f307840",
   "metadata": {
    "scrolled": true
   },
   "outputs": [
    {
     "data": {
      "text/plain": [
       "array([-2.092e+01,  2.074e+01,  6.451e+00, -2.933e+01, -1.078e+01,\n",
       "        3.382e+01, -4.774e+01, -7.787e+00,  2.611e+01, -1.654e+01,\n",
       "       -1.279e+01, -1.103e+00,  3.062e+01, -1.199e+01, -8.088e+00,\n",
       "       -7.896e+00,  4.491e+01,  4.453e+01,  2.087e+01,  8.515e+00,\n",
       "        1.554e+01,  3.061e+01, -1.793e+01,  2.431e+01, -2.429e+01,\n",
       "       -1.196e+01,  1.893e+01, -2.778e+01, -2.010e+00, -1.644e+01,\n",
       "       -4.321e+00, -5.518e+01, -3.464e+01, -1.321e+01,  1.934e+01,\n",
       "       -2.681e+00,  8.482e-01,  1.456e+01, -1.680e+01,  6.464e+00,\n",
       "       -1.532e+01, -3.376e+01, -7.027e+00,  1.227e+01,  7.563e+00,\n",
       "        5.547e-01,  4.864e+01,  9.050e+00,  2.037e+01,  4.555e+01,\n",
       "       -2.509e+01, -1.998e+01,  3.567e+01, -1.517e+01,  1.385e+00,\n",
       "        2.218e+01,  1.861e+01,  3.589e+01,  3.070e+01,  2.218e+01,\n",
       "       -1.466e+01,  1.669e+01,  7.077e+00, -2.573e+01,  2.914e+01,\n",
       "        1.694e+01,  1.701e+00, -3.871e+00, -2.317e+01,  4.782e+00,\n",
       "        1.016e+01, -1.583e+01,  2.404e+01, -2.115e+01, -4.167e+01,\n",
       "        2.159e+01, -7.276e+00, -1.729e+00, -1.596e+01, -3.133e+01,\n",
       "        2.590e+01, -1.299e+01,  3.401e+01,  1.694e+01, -5.504e+00,\n",
       "       -2.093e+01, -1.386e+01, -2.346e+01,  4.253e+01,  4.080e+00,\n",
       "        2.380e+01, -2.456e+01,  4.412e+00,  2.435e+01, -5.909e+00,\n",
       "        2.141e+01, -2.090e+01, -2.648e+01,  8.379e+00, -6.792e+00,\n",
       "        1.363e+01, -3.877e+01,  1.504e+01,  5.276e+01,  2.988e-01,\n",
       "        1.474e+00,  4.382e+00, -3.645e+01,  9.314e+00, -3.132e+01,\n",
       "       -7.762e+00,  2.565e+01, -1.391e+01,  1.082e+01,  2.105e+01,\n",
       "        6.366e+00, -2.663e+01, -5.858e+00,  3.998e+01, -3.971e+01,\n",
       "       -4.724e+00, -1.025e+01,  3.206e+00,  1.576e+01,  3.297e+01,\n",
       "       -4.613e+00,  1.704e+01,  1.079e+01,  1.028e+01, -1.049e+01,\n",
       "       -1.916e+01, -2.121e+01, -1.434e+01,  7.225e+00,  1.601e+01,\n",
       "        7.261e+00, -1.019e+01,  3.691e+01,  3.117e+01, -6.289e+00,\n",
       "       -1.568e+01,  3.396e+00,  2.614e+01,  7.447e+00,  1.192e+01,\n",
       "       -3.450e+00,  9.917e+00,  3.168e+01, -4.002e+00,  3.657e+00,\n",
       "        5.868e+00,  6.466e+00, -2.745e+01, -3.675e+01, -1.960e+01,\n",
       "        4.150e+00,  1.187e+01, -9.822e+00,  2.834e+01, -2.072e+00,\n",
       "        1.198e+00, -3.088e+00,  3.472e+00,  1.488e+01,  1.410e+01,\n",
       "       -1.718e+01,  3.126e+01, -2.111e+01,  2.376e+00, -4.697e+00,\n",
       "       -2.019e+01, -7.111e-01, -1.402e+01,  2.249e+00,  8.853e+00,\n",
       "        3.023e+01,  6.939e+00, -1.143e+01, -7.041e+00,  3.591e+00,\n",
       "        2.660e+00,  2.998e+01,  2.870e+01, -6.387e+00, -1.018e+01,\n",
       "       -5.035e+01, -1.019e+01, -1.877e+01, -6.305e+00,  8.623e+00,\n",
       "        4.335e+00,  1.919e-01,  4.783e+00, -1.731e+00,  4.732e+00,\n",
       "       -6.383e+01, -4.595e+00, -1.426e+00, -6.034e+00, -3.568e+00,\n",
       "        1.486e+01, -1.117e+01,  4.481e+01,  1.456e+01,  6.651e-01,\n",
       "       -3.342e+00, -9.392e-01, -1.751e+01, -1.113e+00,  6.365e+00,\n",
       "        1.238e+01,  1.239e+01, -4.706e+00, -2.753e+01, -1.259e+01,\n",
       "        3.304e+01,  1.871e+01,  8.184e+00, -1.443e+01,  8.642e-01,\n",
       "       -2.432e+01, -1.025e+01, -4.113e+00, -6.442e+00,  1.992e+01,\n",
       "       -2.758e+01, -1.652e+01, -2.670e+01, -2.396e+01,  3.272e+00,\n",
       "       -3.122e+01,  1.587e+01, -4.145e+00,  2.167e+00,  7.243e+00,\n",
       "       -7.892e+00,  2.144e+01, -3.096e+00,  1.267e+01, -3.191e+00,\n",
       "        6.609e+00,  6.385e+00,  5.791e+00, -1.869e+01,  9.509e+00,\n",
       "       -5.588e+00,  1.340e+01, -4.226e+01, -2.851e+01,  8.060e+00,\n",
       "        3.805e+01,  1.749e+01, -1.286e+01, -3.305e+01,  1.565e+01,\n",
       "       -8.204e-01,  1.261e+01,  3.097e+00,  1.384e+00,  5.996e+01,\n",
       "        6.687e-01, -2.394e+00, -1.638e+00, -1.088e+01,  2.059e+01,\n",
       "       -6.284e+00,  1.351e+01,  6.483e+00,  2.517e+01,  9.195e+00,\n",
       "       -2.348e+01, -2.574e+01,  2.896e+01, -1.138e+01, -2.562e+01,\n",
       "       -1.260e+01,  2.608e+01, -2.761e+01, -1.654e+01, -1.254e+01,\n",
       "       -2.423e+01, -2.290e+01, -2.957e+01, -8.432e+00, -6.307e+00,\n",
       "       -1.286e+01, -3.228e+01,  2.586e+01, -2.579e+01,  6.352e+00,\n",
       "       -2.070e+01,  1.416e+01,  1.991e+01, -1.676e+01, -3.768e+01,\n",
       "        1.471e+01,  3.831e+01,  9.105e+00,  4.002e+00,  1.719e+01,\n",
       "        1.609e+01, -1.579e+01, -1.239e+01,  1.301e+01, -2.089e+00,\n",
       "        2.712e+01, -1.330e+01,  1.580e+01,  7.644e+00, -1.737e+00,\n",
       "        2.431e+01,  1.439e+01, -1.931e+01,  1.360e+01,  2.829e+01,\n",
       "       -1.818e+00, -4.182e+00, -1.260e+01,  5.192e-01,  1.452e+01,\n",
       "       -1.556e+01, -2.614e+01, -6.724e+00, -2.680e+01,  1.126e+01,\n",
       "       -7.743e+00, -3.432e+01, -6.181e+00, -3.061e+00,  9.774e+00,\n",
       "       -2.116e+00,  3.817e+01, -9.583e+00, -4.567e-01, -1.267e+00,\n",
       "       -4.861e+00,  3.640e+00,  1.162e+01,  2.759e+01, -3.059e+01,\n",
       "       -9.416e+00, -8.164e+00,  1.955e+01, -6.342e+00, -3.711e+01,\n",
       "        2.546e+00,  1.175e-01,  4.386e+00, -2.001e+01,  3.517e+01,\n",
       "       -5.686e+00, -2.975e+00, -1.721e+01, -1.783e+01, -2.366e+01,\n",
       "       -7.075e+00, -1.836e+01,  4.192e+01, -3.698e+01, -2.178e+01,\n",
       "       -7.237e+00,  1.426e+01, -7.484e+00,  1.431e+01, -1.894e+01,\n",
       "        1.977e+00,  3.567e+01, -1.856e+01,  9.183e+00,  4.930e+00,\n",
       "       -4.424e+01, -1.099e+01,  2.341e+01,  3.493e+00, -2.345e+01,\n",
       "        1.461e+01, -8.791e+00,  7.992e+00,  8.330e+00, -2.158e+01,\n",
       "        1.659e+01, -1.936e+01, -2.532e+01, -1.687e+01, -6.131e+00,\n",
       "        2.979e+00, -1.466e+01,  1.569e+01,  5.821e+00, -1.310e+01,\n",
       "        1.857e+01,  2.401e+01, -1.182e+00, -3.508e+00, -3.468e+01,\n",
       "       -7.359e+00, -5.039e+00,  5.699e+00, -2.577e+00,  5.672e+00,\n",
       "        3.147e+01, -9.807e+00, -9.028e+00, -2.539e+01,  6.181e-01,\n",
       "        2.033e+01, -3.423e+01, -1.253e+01,  1.510e+00,  1.779e+01,\n",
       "        8.449e+00,  7.301e+00, -3.695e+00,  1.043e+01,  2.108e+01,\n",
       "       -3.339e+01,  1.536e+01, -1.184e+00, -9.808e+00, -4.807e+01,\n",
       "       -2.682e+01,  3.475e+01, -1.298e+01, -2.090e+01, -8.337e+00,\n",
       "       -1.411e+01,  3.278e+00,  3.113e+01, -1.094e+01,  3.877e+00,\n",
       "       -2.215e+01,  3.119e+01,  4.572e+00, -2.085e+01,  1.888e+01,\n",
       "        2.479e+01,  4.020e+00, -3.200e+01,  3.649e+01,  6.994e+00,\n",
       "        2.420e+01, -1.023e+01, -7.181e+00,  3.000e+00,  2.306e+01,\n",
       "        3.651e+00, -2.435e+01,  6.031e+00,  3.338e+01,  2.107e+00,\n",
       "        3.379e+00, -2.446e+01, -2.727e+01, -1.196e+01, -5.739e+00,\n",
       "        2.872e+00,  4.110e+00,  3.283e+01,  1.965e+00,  2.208e+01,\n",
       "        4.696e-03,  2.977e+01, -3.662e+01, -1.118e+01,  2.045e+01,\n",
       "       -2.641e+00,  1.942e+01,  8.493e+00,  1.971e+01,  1.305e+01,\n",
       "        1.426e+01,  3.064e+01,  2.052e+01,  2.067e+01,  1.200e+00,\n",
       "       -1.085e+01, -1.240e+01,  1.581e+01, -4.798e+01, -2.535e+01,\n",
       "       -1.847e+01, -4.161e+00, -5.184e+01,  2.597e+01,  1.279e+01,\n",
       "        4.048e+01,  2.204e+01,  2.140e+01,  4.580e+01, -1.063e+01,\n",
       "       -2.928e+01, -3.856e+00, -1.571e+01, -4.346e+00, -2.021e+01,\n",
       "        1.215e+01,  1.105e+01,  2.528e-01,  7.023e+00, -2.050e+00,\n",
       "        1.583e+01,  2.184e+00, -4.518e+00,  1.938e+01,  2.601e+01,\n",
       "        2.754e+01, -1.901e+01, -9.898e+00, -3.324e+01, -3.980e+00,\n",
       "        9.114e+00, -1.865e+00,  3.941e+01, -7.326e+00, -2.098e+01,\n",
       "        1.216e+01,  3.790e+00,  1.178e+01,  6.867e+00,  5.667e+00,\n",
       "       -4.165e+01, -1.373e+01, -1.102e+01, -6.168e+00, -8.177e+00,\n",
       "        9.048e+00,  1.281e+01, -2.184e+01,  1.453e+01,  1.251e+01,\n",
       "        1.011e+01, -2.757e+01,  9.603e+00,  2.443e+00,  2.001e+01,\n",
       "        3.648e+01,  3.255e+01,  3.044e+00,  7.538e-01,  1.343e+01,\n",
       "       -2.151e+01, -2.822e+01, -8.659e+00,  2.520e+01, -5.831e+00,\n",
       "        3.084e+01, -5.497e+01, -3.095e+01, -1.682e+00,  1.856e+01,\n",
       "       -6.012e-01, -1.122e+00, -1.644e+00, -3.447e+01,  2.395e+01,\n",
       "       -1.286e+01,  2.258e+01, -6.192e-01,  2.215e+01,  7.656e+00,\n",
       "       -1.342e+00,  5.317e+00, -2.867e+01,  9.119e-01,  3.511e+01,\n",
       "        2.696e+01, -1.891e+01,  1.090e+01,  5.751e+00,  1.714e+01,\n",
       "        2.674e+00, -3.879e+00,  2.740e+01,  5.119e+00,  2.590e+01,\n",
       "        2.028e+01, -5.698e+00, -2.549e+00,  3.939e+01,  4.621e+00,\n",
       "       -1.438e+01, -2.321e+01,  2.027e+01,  3.997e+00, -1.505e+01,\n",
       "        1.428e+01,  3.986e+00, -3.242e+01,  1.256e+01,  2.746e+01,\n",
       "        5.199e+01,  1.489e+00,  5.444e+00,  3.292e+01,  4.166e+00,\n",
       "        6.298e+00, -1.182e+01, -2.710e+01,  1.905e+01, -2.468e+01,\n",
       "        2.360e+01, -1.497e+01,  6.096e+00, -6.654e+00,  2.428e+01,\n",
       "        6.808e+00,  3.997e+01, -2.088e+01,  9.069e+00,  1.738e+00,\n",
       "        6.390e+00,  3.271e+01,  1.250e+01, -2.216e+01,  1.146e+01,\n",
       "       -7.521e+00, -8.676e+00,  2.171e+01, -1.126e+01, -6.803e+00,\n",
       "        1.439e+00,  1.972e+01,  1.242e+01, -3.897e+00, -4.652e+00,\n",
       "       -2.241e+01, -1.441e+01, -1.230e+01, -2.195e+00,  4.053e+01,\n",
       "       -1.272e+01, -5.125e+00, -4.026e+01,  1.280e+01, -3.076e+01,\n",
       "       -1.734e+01,  2.164e+01, -4.131e+01,  2.710e+00,  1.681e+01,\n",
       "        3.130e+01, -1.761e+01, -1.169e+01,  3.688e+01,  2.901e-01,\n",
       "       -1.393e+01, -1.356e+01, -1.866e+01, -8.002e+00,  2.256e+01,\n",
       "        1.855e+01, -2.269e+01,  5.083e+00, -7.252e+00,  1.644e+01,\n",
       "       -2.336e+00,  8.222e+00, -2.381e+00, -4.295e+01,  1.731e+00,\n",
       "       -2.464e+01,  1.573e+01, -1.281e+01, -1.131e+01,  6.132e-01,\n",
       "        1.235e+01, -2.604e+00,  3.363e+01,  3.377e+01,  3.510e+01,\n",
       "       -3.895e+00, -2.885e+01,  2.519e+01, -7.536e+00,  1.555e+00,\n",
       "        1.336e+01, -3.130e+01,  3.337e+01,  1.829e+01,  7.837e+00,\n",
       "        1.861e+01,  1.193e+01,  3.128e+00, -5.364e+00, -1.399e+01,\n",
       "        6.536e+00,  8.015e+00,  2.246e+01,  4.804e+00, -1.627e+01,\n",
       "       -3.073e+01, -1.760e+00,  2.421e-01, -1.171e+00, -2.982e+01,\n",
       "        2.228e+01,  2.224e+01, -1.567e+01,  1.691e+01,  1.985e+01,\n",
       "        1.560e+00, -1.818e+01,  3.306e+01,  8.410e+00, -4.229e+00,\n",
       "        1.625e+01,  3.324e+01, -9.152e+00,  1.462e+01,  3.965e+01,\n",
       "       -2.154e+01, -1.019e+01, -1.117e+01, -2.375e+00, -3.408e+00,\n",
       "        6.807e+00, -1.562e+01, -1.166e+01,  6.817e+00,  3.890e+00,\n",
       "        1.827e+01,  8.978e+00,  1.623e+01, -2.207e+01, -6.877e+00,\n",
       "        3.776e+01,  8.633e+00,  1.574e+01,  6.246e+00,  9.298e+00,\n",
       "       -3.827e+00,  7.222e+01, -7.132e+00,  2.486e-02, -4.771e+01,\n",
       "        2.292e+01, -1.025e+01, -4.246e-01, -9.770e+00, -1.982e+00,\n",
       "       -4.894e+00, -6.955e-02, -2.647e-01, -2.293e+00, -2.566e+00,\n",
       "        2.696e+01,  1.842e+01,  1.854e+01, -1.386e+01,  2.593e+01,\n",
       "        2.342e+01, -1.028e+01,  3.127e+01, -1.287e+01, -3.605e+01,\n",
       "        2.282e+01, -1.599e+00,  2.033e+01, -1.429e+01, -2.444e+01,\n",
       "        2.543e+01, -2.735e+01, -3.043e+01, -3.772e+01, -5.510e+01,\n",
       "       -1.999e+01, -4.260e+01,  7.917e-02, -4.394e+01, -2.109e+01,\n",
       "        4.743e+01,  7.694e+00,  1.847e+00, -3.162e+01, -4.121e+00,\n",
       "        1.753e+00, -3.131e+01,  3.315e+00,  2.462e+01, -6.174e+00,\n",
       "       -3.153e+00, -4.005e+01, -2.719e+01,  2.195e+01, -1.244e+01,\n",
       "       -1.780e+01, -1.306e+01, -3.580e-01, -2.238e+01,  3.322e+00,\n",
       "       -2.641e+01,  1.627e+01, -2.035e+01,  2.720e+01,  5.906e-01,\n",
       "       -1.612e+01,  1.902e+01, -2.670e+01, -1.015e+01,  7.898e-01,\n",
       "       -1.632e+00, -3.938e+01, -1.762e+01,  4.156e+00, -2.561e+01,\n",
       "        2.612e+01,  1.069e+01, -9.494e+00, -3.615e+00,  3.802e+01,\n",
       "        1.951e+01,  8.396e+00, -2.752e+01,  3.338e+01,  2.184e+01,\n",
       "       -2.177e+00, -1.020e+01, -2.967e+00, -2.325e+01, -8.624e+00,\n",
       "        1.605e+01, -3.536e+01, -5.490e+00,  3.066e+00,  2.863e+00,\n",
       "       -2.279e+01, -2.285e+01,  2.257e+01, -2.370e+01,  2.096e+01,\n",
       "       -8.856e+00,  2.239e+01, -7.630e+00, -2.254e+01,  1.792e+01,\n",
       "        4.435e-01,  2.976e+01,  1.864e+01, -3.797e+00, -8.202e+00,\n",
       "        1.259e+00,  4.595e+00, -1.684e+01,  1.763e+01, -7.156e+00,\n",
       "       -7.669e+00, -1.002e+01,  5.412e+00, -1.305e+01,  3.491e+00,\n",
       "        5.612e+01, -2.809e-01, -7.889e+00, -3.256e+01,  1.796e+00,\n",
       "       -2.139e+01, -6.720e+00,  3.823e+00, -3.383e+01,  3.941e+00,\n",
       "        6.882e+00, -2.515e+01, -7.055e+00, -3.582e+01,  3.230e+01,\n",
       "        7.403e+00, -2.800e+00, -2.477e+00,  2.342e+01, -1.092e+00,\n",
       "        7.408e+00,  3.116e+01, -6.132e+00, -2.106e+01, -1.570e+01,\n",
       "        2.936e+01,  2.620e+00, -9.255e+00,  2.026e+01,  2.075e+01,\n",
       "       -8.722e+00, -1.865e+01, -3.062e+01, -3.509e+01, -4.508e+00,\n",
       "       -1.707e+01,  3.796e+01,  1.962e+00, -3.805e+01,  2.917e+01,\n",
       "        4.025e+00,  1.489e+01,  1.443e+01,  6.722e+00,  1.126e+01,\n",
       "        5.566e+00, -2.134e+01,  8.126e+00,  2.127e+01, -3.410e+00,\n",
       "        1.182e+01,  9.183e+00,  3.710e+01, -4.264e+00, -5.049e+00,\n",
       "       -1.547e+00, -1.257e+00, -4.466e+01, -1.206e+01,  6.789e+00,\n",
       "        6.262e-01, -1.520e+01, -1.250e+01, -6.321e+00, -1.524e+01,\n",
       "       -9.470e+00, -9.997e+00,  1.870e+01,  2.112e+01,  1.946e+01,\n",
       "        9.325e+00, -1.338e+01,  1.999e+01, -5.494e+00,  1.252e+00,\n",
       "        2.756e+01,  2.471e+00,  5.737e+00, -2.746e+01,  1.053e+01,\n",
       "       -1.881e+01,  2.103e+01, -2.901e+00, -4.393e+01, -6.369e+00,\n",
       "       -3.769e+00,  1.050e+01,  1.420e+01, -5.764e+00,  2.105e+01,\n",
       "       -6.255e+01, -1.349e+01, -2.146e+01, -2.429e+01,  1.999e+01,\n",
       "        1.737e+01, -1.472e+01,  2.435e+01,  2.821e+00, -7.642e+00,\n",
       "       -1.307e+01, -1.477e+01,  1.025e+01,  1.379e+01,  5.561e+00,\n",
       "       -4.021e+01,  6.718e+00,  1.210e+01, -1.259e+01,  1.656e+00,\n",
       "       -3.649e+01, -2.381e+01, -5.693e+00, -5.404e+00,  7.825e+00,\n",
       "       -2.295e+01, -6.033e+00, -9.004e+00,  1.135e+01,  2.921e+01,\n",
       "        3.521e+01, -3.058e+01, -1.690e-01, -2.146e+01, -5.036e-01,\n",
       "        9.250e+00,  2.421e+00, -1.890e-01,  3.045e+01,  1.521e+01,\n",
       "       -4.662e+00,  1.276e+00,  1.821e+01,  1.299e+01, -7.710e+00,\n",
       "       -3.471e+01, -2.290e+01,  3.711e+00, -3.494e+01, -2.257e+00,\n",
       "       -8.280e+00,  2.078e+01, -2.557e+01, -3.784e+01, -7.602e+00,\n",
       "        1.349e+01,  2.219e+01, -1.740e+01,  1.020e+01, -2.144e+01])"
      ]
     },
     "execution_count": 14,
     "metadata": {},
     "output_type": "execute_result"
    }
   ],
   "source": [
    "data - np.mean(data)"
   ]
  },
  {
   "cell_type": "markdown",
   "id": "c21f1573",
   "metadata": {},
   "source": [
    "## ✔ 분산(variance)\n",
    "* 평균을 중심으로 데이터가 퍼져 있는 정도의 측도\n",
    "* 각 데이터와 평균과의 차이를 제곱하여 합한 값의 평균"
   ]
  },
  {
   "cell_type": "markdown",
   "id": "a39fec3a",
   "metadata": {},
   "source": [
    "### ✏ 분산 계산 : var(a, ddof=0)\n",
    "* ddof 기본 값은 0 => 모집단 분산을 의미\n",
    "* 표본 분산의 경우 1로 설정"
   ]
  },
  {
   "cell_type": "code",
   "execution_count": 20,
   "id": "8a6756ee",
   "metadata": {},
   "outputs": [
    {
     "data": {
      "text/plain": [
       "2.5"
      ]
     },
     "execution_count": 20,
     "metadata": {},
     "output_type": "execute_result"
    },
    {
     "data": {
      "text/plain": [
       "2.0"
      ]
     },
     "execution_count": 20,
     "metadata": {},
     "output_type": "execute_result"
    },
    {
     "data": {
      "text/plain": [
       "2.0"
      ]
     },
     "execution_count": 20,
     "metadata": {},
     "output_type": "execute_result"
    },
    {
     "data": {
      "text/plain": [
       "2.000"
      ]
     },
     "execution_count": 20,
     "metadata": {},
     "output_type": "execute_result"
    }
   ],
   "source": [
    "x = [1, 2, 3, 4, 5]\n",
    "\n",
    "# 표본분산\n",
    "np.var(x, ddof=1)\n",
    "\n",
    "# 모분산\n",
    "np.var(x)\n",
    "\n",
    "# 모분산2\n",
    "np.array(x).var()\n",
    "\n",
    "# 모분산3\n",
    "pd.Series(x).var(ddof=0)"
   ]
  },
  {
   "cell_type": "markdown",
   "id": "d5708222",
   "metadata": {},
   "source": [
    "## ✔ 표준편차(standard deviation)"
   ]
  },
  {
   "cell_type": "markdown",
   "id": "f1a0988b",
   "metadata": {},
   "source": [
    "### ✏ 표준편차 계산 : std(a, ddof=0)함수 사용"
   ]
  },
  {
   "cell_type": "code",
   "execution_count": 22,
   "id": "631f89c5",
   "metadata": {},
   "outputs": [
    {
     "data": {
      "text/plain": [
       "1.5811388300841898"
      ]
     },
     "execution_count": 22,
     "metadata": {},
     "output_type": "execute_result"
    },
    {
     "data": {
      "text/plain": [
       "1.4142135623730951"
      ]
     },
     "execution_count": 22,
     "metadata": {},
     "output_type": "execute_result"
    },
    {
     "data": {
      "text/plain": [
       "1.4142135623730951"
      ]
     },
     "execution_count": 22,
     "metadata": {},
     "output_type": "execute_result"
    },
    {
     "data": {
      "text/plain": [
       "1.414"
      ]
     },
     "execution_count": 22,
     "metadata": {},
     "output_type": "execute_result"
    }
   ],
   "source": [
    "x = [1, 2, 3, 4, 5]\n",
    "\n",
    "# 표본 표준편차(S)\n",
    "np.std(x, ddof=1)\n",
    "\n",
    "# 모표준편차(sigma)\n",
    "np.std(x)\n",
    "\n",
    "# 모표준편차2\n",
    "np.array(x).std()\n",
    "\n",
    "# 모표준편차3\n",
    "pd.Series(x).std(ddof=0)"
   ]
  },
  {
   "cell_type": "markdown",
   "id": "ef12d7f8",
   "metadata": {},
   "source": [
    "## ✔ 변동계수(CV : Coefficienf of Variable)\n",
    "* 표본 표준편차를 표본평균으로 나눈 값 또는 그 값에 100을 곱한 값\n",
    "* 상대 표준편차\n",
    "* 서로 다른 평균과 표준편차를 갖는 여러 데이터의 흩어진 정도를 비교할 때 사용"
   ]
  },
  {
   "cell_type": "markdown",
   "id": "bb04a8d1",
   "metadata": {},
   "source": [
    "### ✏ 변동계수 계산"
   ]
  },
  {
   "cell_type": "code",
   "execution_count": 23,
   "id": "bc537d2c",
   "metadata": {},
   "outputs": [
    {
     "data": {
      "text/plain": [
       "72.0"
      ]
     },
     "execution_count": 23,
     "metadata": {},
     "output_type": "execute_result"
    },
    {
     "data": {
      "text/plain": [
       "49.0"
      ]
     },
     "execution_count": 23,
     "metadata": {},
     "output_type": "execute_result"
    },
    {
     "name": "stdout",
     "output_type": "stream",
     "text": [
      "--------------------------------\n"
     ]
    },
    {
     "data": {
      "text/plain": [
       "4.242640687119285"
      ]
     },
     "execution_count": 23,
     "metadata": {},
     "output_type": "execute_result"
    },
    {
     "data": {
      "text/plain": [
       "3.22490309931942"
      ]
     },
     "execution_count": 23,
     "metadata": {},
     "output_type": "execute_result"
    }
   ],
   "source": [
    "men = [72,74,77,68,66,75]\n",
    "women=[45,48,52,53,46,50]\n",
    "\n",
    "# 평균\n",
    "np.mean(men)\n",
    "np.mean(women)\n",
    "print('--------------------------------')\n",
    "\n",
    "# 표본 표준편차\n",
    "np.std(men,ddof=1)\n",
    "np.std(women,ddof=1)"
   ]
  },
  {
   "cell_type": "code",
   "execution_count": 24,
   "id": "2b21e2a1",
   "metadata": {},
   "outputs": [
    {
     "data": {
      "text/plain": [
       "0.05892556509887895"
      ]
     },
     "execution_count": 24,
     "metadata": {},
     "output_type": "execute_result"
    },
    {
     "data": {
      "text/plain": [
       "0.06581434896570246"
      ]
     },
     "execution_count": 24,
     "metadata": {},
     "output_type": "execute_result"
    }
   ],
   "source": [
    "# 남자의 변동 계수\n",
    "np.std(men, ddof=1)/np.mean(men)\n",
    "\n",
    "# 여자의 변동 계수\n",
    "np.std(women, ddof=1)/np.mean(women)"
   ]
  },
  {
   "cell_type": "code",
   "execution_count": 25,
   "id": "1af4e71f",
   "metadata": {},
   "outputs": [
    {
     "data": {
      "text/plain": [
       "0.053791435363991905"
      ]
     },
     "execution_count": 25,
     "metadata": {},
     "output_type": "execute_result"
    },
    {
     "data": {
      "text/plain": [
       "0.06008000589338671"
      ]
     },
     "execution_count": 25,
     "metadata": {},
     "output_type": "execute_result"
    }
   ],
   "source": [
    "# 남자의 변동 계수\n",
    "variation(men)\n",
    "\n",
    "# 여자의 변동 계수\n",
    "variation(women)"
   ]
  },
  {
   "cell_type": "markdown",
   "id": "4c0c1f88",
   "metadata": {},
   "source": [
    "## ✔ 데이터의 정규화 : scaling(표준화)\n",
    "* 각 값들을 상대적인 값으로 변화시키는 방법\n",
    "* ex. 국어 평균 95점, 수학 평균 30점인 경우, \n",
    "    * 취득점수 국어90, 수학 80이라면 어떤 과목을 더 잘한 것인가?"
   ]
  },
  {
   "cell_type": "code",
   "execution_count": 29,
   "id": "5b60e484",
   "metadata": {},
   "outputs": [
    {
     "data": {
      "text/html": [
       "<div>\n",
       "<style scoped>\n",
       "    .dataframe tbody tr th:only-of-type {\n",
       "        vertical-align: middle;\n",
       "    }\n",
       "\n",
       "    .dataframe tbody tr th {\n",
       "        vertical-align: top;\n",
       "    }\n",
       "\n",
       "    .dataframe thead th {\n",
       "        text-align: right;\n",
       "    }\n",
       "</style>\n",
       "<table border=\"1\" class=\"dataframe\">\n",
       "  <thead>\n",
       "    <tr style=\"text-align: right;\">\n",
       "      <th></th>\n",
       "      <th>english</th>\n",
       "      <th>mathematics</th>\n",
       "    </tr>\n",
       "    <tr>\n",
       "      <th>student number</th>\n",
       "      <th></th>\n",
       "      <th></th>\n",
       "    </tr>\n",
       "  </thead>\n",
       "  <tbody>\n",
       "    <tr>\n",
       "      <th>1</th>\n",
       "      <td>42</td>\n",
       "      <td>65</td>\n",
       "    </tr>\n",
       "    <tr>\n",
       "      <th>2</th>\n",
       "      <td>69</td>\n",
       "      <td>80</td>\n",
       "    </tr>\n",
       "    <tr>\n",
       "      <th>3</th>\n",
       "      <td>56</td>\n",
       "      <td>63</td>\n",
       "    </tr>\n",
       "    <tr>\n",
       "      <th>4</th>\n",
       "      <td>41</td>\n",
       "      <td>63</td>\n",
       "    </tr>\n",
       "    <tr>\n",
       "      <th>5</th>\n",
       "      <td>57</td>\n",
       "      <td>76</td>\n",
       "    </tr>\n",
       "  </tbody>\n",
       "</table>\n",
       "</div>"
      ],
      "text/plain": [
       "                english  mathematics\n",
       "student number                      \n",
       "1                    42           65\n",
       "2                    69           80\n",
       "3                    56           63\n",
       "4                    41           63\n",
       "5                    57           76"
      ]
     },
     "execution_count": 29,
     "metadata": {},
     "output_type": "execute_result"
    }
   ],
   "source": [
    "df = pd.read_csv('c:/data/ch2_scores_em.csv', index_col = 'student number')\n",
    "df.head()"
   ]
  },
  {
   "cell_type": "code",
   "execution_count": 30,
   "id": "0d233ebd",
   "metadata": {},
   "outputs": [
    {
     "data": {
      "text/plain": [
       "count    50.00\n",
       "mean     58.38\n",
       "std       9.80\n",
       "min      37.00\n",
       "25%      54.00\n",
       "50%      57.50\n",
       "75%      65.00\n",
       "max      79.00\n",
       "Name: english, dtype: float64"
      ]
     },
     "execution_count": 30,
     "metadata": {},
     "output_type": "execute_result"
    }
   ],
   "source": [
    "df['english'].describe()"
   ]
  },
  {
   "cell_type": "code",
   "execution_count": 33,
   "id": "834460ab",
   "metadata": {},
   "outputs": [
    {
     "data": {
      "text/plain": [
       "count    50.000\n",
       "mean     78.880\n",
       "std       8.414\n",
       "min      57.000\n",
       "25%      76.000\n",
       "50%      80.000\n",
       "75%      84.000\n",
       "max      94.000\n",
       "Name: mathematics, dtype: float64"
      ]
     },
     "execution_count": 33,
     "metadata": {},
     "output_type": "execute_result"
    }
   ],
   "source": [
    "df['mathematics'].describe()"
   ]
  },
  {
   "cell_type": "code",
   "execution_count": 34,
   "id": "c80f7b40",
   "metadata": {},
   "outputs": [
    {
     "data": {
      "text/html": [
       "<div>\n",
       "<style scoped>\n",
       "    .dataframe tbody tr th:only-of-type {\n",
       "        vertical-align: middle;\n",
       "    }\n",
       "\n",
       "    .dataframe tbody tr th {\n",
       "        vertical-align: top;\n",
       "    }\n",
       "\n",
       "    .dataframe thead th {\n",
       "        text-align: right;\n",
       "    }\n",
       "</style>\n",
       "<table border=\"1\" class=\"dataframe\">\n",
       "  <thead>\n",
       "    <tr style=\"text-align: right;\">\n",
       "      <th></th>\n",
       "      <th>english</th>\n",
       "      <th>mathematics</th>\n",
       "    </tr>\n",
       "  </thead>\n",
       "  <tbody>\n",
       "    <tr>\n",
       "      <th>count</th>\n",
       "      <td>50.00</td>\n",
       "      <td>50.000</td>\n",
       "    </tr>\n",
       "    <tr>\n",
       "      <th>mean</th>\n",
       "      <td>58.38</td>\n",
       "      <td>78.880</td>\n",
       "    </tr>\n",
       "    <tr>\n",
       "      <th>std</th>\n",
       "      <td>9.80</td>\n",
       "      <td>8.414</td>\n",
       "    </tr>\n",
       "    <tr>\n",
       "      <th>min</th>\n",
       "      <td>37.00</td>\n",
       "      <td>57.000</td>\n",
       "    </tr>\n",
       "    <tr>\n",
       "      <th>25%</th>\n",
       "      <td>54.00</td>\n",
       "      <td>76.000</td>\n",
       "    </tr>\n",
       "    <tr>\n",
       "      <th>50%</th>\n",
       "      <td>57.50</td>\n",
       "      <td>80.000</td>\n",
       "    </tr>\n",
       "    <tr>\n",
       "      <th>75%</th>\n",
       "      <td>65.00</td>\n",
       "      <td>84.000</td>\n",
       "    </tr>\n",
       "    <tr>\n",
       "      <th>max</th>\n",
       "      <td>79.00</td>\n",
       "      <td>94.000</td>\n",
       "    </tr>\n",
       "  </tbody>\n",
       "</table>\n",
       "</div>"
      ],
      "text/plain": [
       "       english  mathematics\n",
       "count    50.00       50.000\n",
       "mean     58.38       78.880\n",
       "std       9.80        8.414\n",
       "min      37.00       57.000\n",
       "25%      54.00       76.000\n",
       "50%      57.50       80.000\n",
       "75%      65.00       84.000\n",
       "max      79.00       94.000"
      ]
     },
     "execution_count": 34,
     "metadata": {},
     "output_type": "execute_result"
    }
   ],
   "source": [
    "df.describe()"
   ]
  },
  {
   "cell_type": "markdown",
   "id": "be848eaf",
   "metadata": {},
   "source": [
    "### ✏ Z-scaling"
   ]
  },
  {
   "cell_type": "code",
   "execution_count": 35,
   "id": "7ae7acd0",
   "metadata": {},
   "outputs": [
    {
     "name": "stdout",
     "output_type": "stream",
     "text": [
      "-2.1816743772942324 2.104121873704727\n",
      "-2.600313324789425 1.796925844187209\n"
     ]
    }
   ],
   "source": [
    "z1 = (df['english']-df['english'].mean())/df['english'].std()\n",
    "z2 = (df['mathematics']-df['mathematics'].mean())/df['mathematics'].std()\n",
    "\n",
    "print(z1.min(), z1.max())\n",
    "print(z2.min(), z2.max())"
   ]
  },
  {
   "cell_type": "code",
   "execution_count": 36,
   "id": "8fec5ddd",
   "metadata": {},
   "outputs": [
    {
     "data": {
      "text/plain": [
       "(-0.000, 1.000)"
      ]
     },
     "execution_count": 36,
     "metadata": {},
     "output_type": "execute_result"
    }
   ],
   "source": [
    "z1.mean(), z1.std()"
   ]
  },
  {
   "cell_type": "markdown",
   "id": "434d50b3",
   "metadata": {},
   "source": [
    "### ✏ min-max scaling"
   ]
  },
  {
   "cell_type": "code",
   "execution_count": 37,
   "id": "cc26e08f",
   "metadata": {},
   "outputs": [
    {
     "name": "stdout",
     "output_type": "stream",
     "text": [
      "eng :  -37.0 -36.46835443037975\n",
      "math :  -57.0 -56.6063829787234\n"
     ]
    }
   ],
   "source": [
    "s1 = (df['english']-df['english'].min())/df['english'].max()-df['english'].min()\n",
    "s2 = (df['mathematics']-df['mathematics'].min())/df['mathematics'].max()-df['mathematics'].min()\n",
    "\n",
    "print('eng : ', s1.min(), s1.max())\n",
    "print('math : ', s2.min(), s2.max())"
   ]
  },
  {
   "cell_type": "markdown",
   "id": "b6d31b61",
   "metadata": {},
   "source": [
    "### ✏ sklearn.preprocessing.MinMaxScaler을 이용한 스케일링\n",
    "* 머신러닝을 위해 쓰는 경우가 대부분\n",
    "* df의 각 열에 대해서 스케일링하는데 적합함"
   ]
  },
  {
   "cell_type": "code",
   "execution_count": 39,
   "id": "b1aef15c",
   "metadata": {},
   "outputs": [
    {
     "data": {
      "text/html": [
       "<div>\n",
       "<style scoped>\n",
       "    .dataframe tbody tr th:only-of-type {\n",
       "        vertical-align: middle;\n",
       "    }\n",
       "\n",
       "    .dataframe tbody tr th {\n",
       "        vertical-align: top;\n",
       "    }\n",
       "\n",
       "    .dataframe thead th {\n",
       "        text-align: right;\n",
       "    }\n",
       "</style>\n",
       "<table border=\"1\" class=\"dataframe\">\n",
       "  <thead>\n",
       "    <tr style=\"text-align: right;\">\n",
       "      <th></th>\n",
       "      <th>english</th>\n",
       "      <th>mathematics</th>\n",
       "    </tr>\n",
       "    <tr>\n",
       "      <th>student number</th>\n",
       "      <th></th>\n",
       "      <th></th>\n",
       "    </tr>\n",
       "  </thead>\n",
       "  <tbody>\n",
       "    <tr>\n",
       "      <th>1</th>\n",
       "      <td>0.119</td>\n",
       "      <td>0.216</td>\n",
       "    </tr>\n",
       "    <tr>\n",
       "      <th>2</th>\n",
       "      <td>0.762</td>\n",
       "      <td>0.622</td>\n",
       "    </tr>\n",
       "    <tr>\n",
       "      <th>3</th>\n",
       "      <td>0.452</td>\n",
       "      <td>0.162</td>\n",
       "    </tr>\n",
       "    <tr>\n",
       "      <th>4</th>\n",
       "      <td>0.095</td>\n",
       "      <td>0.162</td>\n",
       "    </tr>\n",
       "    <tr>\n",
       "      <th>5</th>\n",
       "      <td>0.476</td>\n",
       "      <td>0.514</td>\n",
       "    </tr>\n",
       "  </tbody>\n",
       "</table>\n",
       "</div>"
      ],
      "text/plain": [
       "                english  mathematics\n",
       "student number                      \n",
       "1                 0.119        0.216\n",
       "2                 0.762        0.622\n",
       "3                 0.452        0.162\n",
       "4                 0.095        0.162\n",
       "5                 0.476        0.514"
      ]
     },
     "execution_count": 39,
     "metadata": {},
     "output_type": "execute_result"
    }
   ],
   "source": [
    "from sklearn.preprocessing import MinMaxScaler\n",
    "\n",
    "scaler = MinMaxScaler()\n",
    "\n",
    "S = scaler.fit_transform(df)\n",
    "\n",
    "pd.DataFrame(S, index = df.index, columns=df.columns).head()"
   ]
  }
 ],
 "metadata": {
  "kernelspec": {
   "display_name": "Python 3 (ipykernel)",
   "language": "python",
   "name": "python3"
  },
  "language_info": {
   "codemirror_mode": {
    "name": "ipython",
    "version": 3
   },
   "file_extension": ".py",
   "mimetype": "text/x-python",
   "name": "python",
   "nbconvert_exporter": "python",
   "pygments_lexer": "ipython3",
   "version": "3.9.7"
  }
 },
 "nbformat": 4,
 "nbformat_minor": 5
}
