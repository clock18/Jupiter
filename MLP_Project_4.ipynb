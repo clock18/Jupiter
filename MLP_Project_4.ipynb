{
 "cells": [
  {
   "cell_type": "markdown",
   "id": "80a33a23",
   "metadata": {},
   "source": [
    "# 🎈 인스타그램 태그"
   ]
  },
  {
   "cell_type": "code",
   "execution_count": 2,
   "id": "946ab1b7",
   "metadata": {},
   "outputs": [],
   "source": [
    "import requests\n",
    "from bs4 import BeautifulSoup\n",
    "from  selenium import webdriver\n",
    "from selenium.webdriver.common.keys import Keys\n",
    "import time as time\n",
    "import getpass\n",
    "import urllib.request\n",
    "import random\n",
    "import re\n",
    " \n",
    "from time import sleep\n",
    " \n",
    "import pandas as pd\n",
    "import numpy as np\n",
    "import matplotlib.pyplot as plt\n",
    "%matplotlib inline\n"
   ]
  },
  {
   "cell_type": "code",
   "execution_count": 3,
   "id": "92eca9aa",
   "metadata": {},
   "outputs": [],
   "source": [
    "path = 'C:\\chromedriver_win32\\chromedriver.exe'\n",
    "driver = webdriver.Chrome(path)"
   ]
  },
  {
   "cell_type": "code",
   "execution_count": 4,
   "id": "e3c1aa85",
   "metadata": {},
   "outputs": [
    {
     "name": "stdout",
     "output_type": "stream",
     "text": [
      "Input ID : ········\n",
      "Input PWD : ········\n"
     ]
    }
   ],
   "source": [
    "driver.get(\"https://www.instagram.com/accounts/login/\" )\n",
    "instagram_id= getpass.getpass(\"Input ID : \")\n",
    "instagram_pw= getpass.getpass(\"Input PWD : \")\n",
    "\n",
    "_id = driver.find_element_by_name('username')\n",
    "_id.send_keys(instagram_id)\n",
    "time.sleep(2)\n",
    "\n",
    "_password = driver.find_element_by_name('password')\n",
    "_password.send_keys(instagram_pw)\n",
    "time.sleep(2)"
   ]
  },
  {
   "cell_type": "code",
   "execution_count": 5,
   "id": "9d04b611",
   "metadata": {},
   "outputs": [],
   "source": [
    "login_button = driver.find_element_by_css_selector('.sqdOP.L3NKy.y3zKF').click()\n",
    "time.sleep(5) # 로그인 버튼 누르기\n",
    "\n",
    "driver.find_element_by_css_selector('.sqdOP.yWX7d.y3zKF').click()\n",
    "time.sleep(3) # 로그인 저장 나중에\n",
    "\n",
    "driver.find_element_by_css_selector('.aOOlW.HoLwm').click()\n",
    "time.sleep(3) # 설정 나중에"
   ]
  },
  {
   "cell_type": "markdown",
   "id": "42e1d3e2",
   "metadata": {},
   "source": [
    "## 태그 수집"
   ]
  },
  {
   "cell_type": "code",
   "execution_count": 79,
   "id": "6ad5dfd2",
   "metadata": {},
   "outputs": [
    {
     "name": "stdout",
     "output_type": "stream",
     "text": [
      "검색어를 입력하세요 : 경기도파주\n"
     ]
    }
   ],
   "source": [
    "_keyword = input(\"검색어를 입력하세요 : \")\n",
    "word = str(_keyword) \n",
    "driver.get('https://www.instagram.com/explore/tags/' + _keyword + '/')"
   ]
  },
  {
   "cell_type": "code",
   "execution_count": 83,
   "id": "803a8a5e",
   "metadata": {},
   "outputs": [],
   "source": [
    "driver.find_element_by_css_selector('div.v1Nh3.kIKUG._bz0w').click() #첫번째 게시물 열기\n",
    "time.sleep(5)"
   ]
  },
  {
   "cell_type": "code",
   "execution_count": 84,
   "id": "e337563d",
   "metadata": {},
   "outputs": [],
   "source": [
    "tagCollect = []\n",
    "count = 100\n",
    "for i in range(count):\n",
    "    data = driver.find_elements_by_css_selector('a.xil3i') # 해쉬태그 정보 저장\n",
    "    for j in range(len(data)):\n",
    "        tagCollect.append(data[j].text.replace(\"#\",\"\")) # '#'없애기\n",
    "\n",
    "    driver.find_element_by_css_selector(\"div.l8mY4.feth3\").click() #다음 게시물로 이동\n",
    "    time.sleep(3)"
   ]
  },
  {
   "cell_type": "markdown",
   "id": "175936c5",
   "metadata": {},
   "source": [
    "## 필요없는 태그들 잘라내기"
   ]
  },
  {
   "cell_type": "code",
   "execution_count": 87,
   "id": "2b7141c8",
   "metadata": {},
   "outputs": [
    {
     "name": "stdout",
     "output_type": "stream",
     "text": [
      "['앤드테라스파주', '마장호수출렁다리', '마장호수출렁다리', '여행다녀왔습니다', '여행다녀왔습니다', '여행다녀왔습니다_국내', '여행다녀왔습니다_파주', 'travelmenu1', '경기도여행', '파주여행', '파주가볼만한곳', '서울근교여행', '서울근교데이트', '파주여행코스', '파주여행코스추천', '마장호수', '레드브릿지', '파주레드브릿지', '파주드라이브코스', '파주드라이브', '파주드라이추천', '파주걷기좋은곳', '국내여행', '국내여행추천', '데이트코스추천', '임진각평화누리공원', '파주', '아이랑갈만한곳', 'kmanjourney', 'dailypic', '파주삼릉', '산책', 'discoverkorea', 'explorekorea', 'adventurekorea', 'imagineyourkorea', 'southkoreatravel', 'ig_korea', 'instakorea', 'travelkorea', 'koreatour', 'koreatrip', 'unesco', 'worldheritage', 'corea', 'photographylover', '韓國旅行', 'heritage', 'ruins', 'historic', 'site', 'moment', 'kboyjourney', 'landscape_lovers', 'instablog', '사진계정맞팔', 'dreamholiday', 'premierleague', 'laliga', 'bundesliga', 'england🇬🇧', 'spain🇪🇸', 'germany🇩🇪', 'atleticomadrid', 'plus500', 'nike', 'paju', 'korea🇰🇷', 'footballjersey', 'football', 'overthepitch', '프리메라리가', '아틀레티코마드리드', '파주출판단지', '파주카페', '레사모', '오버더피치', '나이키', '축구유니폼', '축구레플리카', '마드리드', '유기동물을부탁해', '유기동물', '유기동물입양', '유기견', '유기견입양', '반려견입양', '강아지', '반려견', '댕댕이', '강아지입양', '입양', '믹스견', '믹스견입양', '중형견', '유기견구조', '유기견보호소', '임시보호', '유기견임보', '임보', '보호소아이들', '구조견', '유기견입양', '유기견구조', 'youdongbu', 'youdongbu밤톨이', '문산', '통일공원', '달밤에체조', '샤오미', '전기자전거', '미니벨로', '어두운길', '라이트', '어떻게키는거니', '가족이되어주세요', '장필순', '제주수니', 'Repost', '리그램', '유기동물', '유기동물입양', '유기견', '유기견입양', '반려견입양', '강아지', '반려견', '댕댕이', '강아지입양', '입양', '웨스티', '웨스티믹스', '슈나우저', '슈나우저믹스', '중형견', '중형견입양', '유기견구조', '유기견보호소', '임시보호', '유기견임보', '노령견', '노령견임보', '노령견입양', '보호소아이들', '유기견입양', '유기견구조', '유사천을사랑하는천사들', '유사천', '유사천입양하우스', 'yousachun', 'yousachun_1004', 'yousachun_adopt', '세나개', '유기견', '유기견후원', '유기견봉사', '유기견보호소', '개농장철폐', '유기견해외입양', '유기견국내입양', '유기견입양', '세상에나쁜개는없다', '사지말고입양하세요', '숯불고기', '숯불고기반반', '파주맛집추천', '파주맛집', '경기도파주맛집', '맛집추천', '맛집스타그램', '배달의민족', '배달맛집', '고기추천', '고기스타그램', '먹스타맞팔', '먹스타', '성동숯불고기', '먹방소통', '맞팔환영', '소통환영', '인친환영', '좋반', '좋아요테러', '먹팔해요', '먹팔소통', '먹팔', '일상소통', '인기게시물', '음식사진', '인증샷', '인스타푸드', '인스타데일리', '영어마을', '경기미래교육파주캠퍼스', '헤이리', '헤이리', '봄', '경기미래교육파주캠퍼스', '영어마을', '힐링', '생각보다괜찮아', '아이와함께오기좋은곳', '여유', '여유로운시간', '파주영어마을', '반쎄오', '쌀국수', '파주맛집', '배민가능', '법원읍', '오현리', '1포병여단', '여명대대', '35개월18일', '주환이네👪', '상전이주환', '아빠엄마아들👪', '말똥도넛', '핫플레이스', '평일에도사람많음', '우리오빠가최고야', '달지않고맛있다', '유기동물을부탁해', '유기동물', '유기동물입양', '유기견', '유기견입양', '반려견입양', '강아지', '반려견', '댕댕이', '강아지입양', '입양', '믹스견', '믹스견입양', '세상에하나뿐인믹스견', '유기견구조', '유기견보호소', '임시보호', '유기견임보', '임보', '보호소아이들', '구조견', '유기견입양', '유기견구조', 'youdongbu', 'youdongbu깜이', '등산', '등린이', '블랙야크100대명산', '100대명산', 'BAC', '산에미치다', '레인저반달이', '반달이3남매', '혼등러', '행복등산', '청주인', '산스타그램', '등산스타그램', '겨울산행', '나혼자산타', '감악산', '공짜인증', '봐주셈', '너무힘듬', '1일2산', '50좌', '승민이네_', '주말일상', '주말농장', '팜크닉', '딸기농장', '6살', '6살아들', '내사랑', '아들맘', '육아맘', '아들스타그램', '애스타그램', '육아일상', '아이랑체험', '체험농장', '아이랑갈만한곳', '파주가볼만한곳', '벽초지수목원', '폴콘', '1000d', '유기동물을부탁해', '유기동물', '유기동물입양', '유기견', '유기견입양', '반려견입양', '강아지', '반려견', '댕댕이', '강아지입양', '입양', '믹스견', '믹스견입양', '세상에하나뿐인믹스견', '유기견구조', '유기견보호소', '보호소아이들', '구조견', '유기견입양', '유기견구조', 'youdongbu', 'youdongbu범이', '먹팔', '맞팔', '맞팔환영', '팔로우', '팔로워', '맞팔선팔', '선팔', '선팔하면맞팔', '음식스타그램', '맛스타그램', '먹스타그램', '소통', '소통할까요', '파주카페', '대형카페', '뮌스터담', '뮌스터담파주', '샐러드', '감자튀김', '파주대형카페', '프리즌', '뮤지컬프리즌', '06', '07', '08', '피어싱', '피어싱스타그램', '디엠환영', 'instagram', '일상스타그램', '소통', '좋아요', '팔로우늘리기', '좋아요반사', '좋아요늘리기', '팔로우', '맞팔', '일상', '좋아요꾹', '셀스타그램', '좋반테러', '좋아요그램', 'instagood', 'likefoefollow', 'follow4follow', 'like', 'likeforlikes', 'フォローバック', 'いいねした人全員ファローする', '06', '07', '08', '피어싱', '피어싱스타그램', '디엠환영', 'instagram', '일상스타그램', '소통', '좋아요', '팔로우늘리기', '좋아요반사', '좋아요늘리기', '팔로우', '맞팔', '일상', '좋아요꾹', '셀스타그램', '좋반테러', '좋아요그램', 'instagood', 'likefoefollow', 'follow4follow', 'like', 'likeforlikes', 'フォローバック', 'いいねした人全員ファローする', '토방야식', '존맛', '파주문산', '문산', '당동리', '가족', '반수생거북이', '터틀', '레이저백', '06', '07', '08', '피어싱', '피어싱스타그램', '디엠환영', 'instagram', '일상스타그램', '소통', '좋아요', '팔로우늘리기', '좋아요반사', '좋아요늘리기', '팔로우', '맞팔', '일상', '좋아요꾹', '셀스타그램', '좋반테러', '좋아요그램', 'instagood', 'likefoefollow', 'follow4follow', 'like', 'likeforlikes', 'フォローバック', 'いいねした人全員ファローする', '유기동물을부탁해', '유기동물', '유기동물입양', '유기견', '유기견입양', '반려견입양', '강아지', '반려견', '댕댕이', '강아지입양', '입양', '믹스견', '믹스견입양', '세상에하나뿐인믹스견', '유기견구조', '유기견보호소', '임시보호', '유기견임보', '임보', '보호소아이들', '구조견', '유기견입양', '유기견구조', '경기도고양시', 'youdongbu루비', 'youdongbu', '유기동물을부탁해', '유기동물', '유기동물입양', '유기견', '유기견입양', '반려견입양', '강아지', '반려견', '댕댕이', '강아지입양', '입양', '믹스견', '믹스견입양', '세상에하나뿐인믹스견', '유기견구조', '유기견보호소', '보호소아이들', '구조견', '유기견입양', '유기견구조', 'youdongbu검정방울이', 'youdongbu', '파주데이트', '구경할만한곳', '파주구경할만한곳', '파주데이트추천', '데이트추천장소', '파주데이트추천장소', '해리포터', '해리포터팝업스토어', '미나리마', '하우스오브미나리마', '하우스오브미나리마파주', '윙가디움레비오우사', '내돈내산', '서울근교데이트', '서울근교데이트추천', '드라이브', '법흥리맛집', '파주맛집추천', '파주맛집', '경기도파주맛집', '김치찌개추천', '김치찌개맛집', '김치찌개', '우아한야식', '배달의민족', '배달음식추천', '배달의민족', '맞팔', '맞팔환영', '먹스타맞팔', '먹스타그램', '먹스타', '먹방', '먹방소통', '일상소통', '소통환영', '인스타푸드', '음식사진', '음식스타그램', '야식추천', '인증샷', '인친환영', '인스타데일리', '인스타일상', '헤이리마을', '잇츠콜라박물관', '2', '파주시', '파주여행', '경기도가볼만한곳', '서울근교나들이', '서울근교여행', '파주가볼만한곳', '퍼스트가든', '일루미네이션', '주말나들이', '별빛', '주말여행', '1', '파주시', '파주여행', '경기도가볼만한곳', '서울근교나들이', '서울근교여행', '파주가볼만한곳', '퍼스트가든', '일루미네이션', '주말나들이', '별빛', '주말여행', '벽초지수목원', '으른금지', '서서울컨트리클럽', '서서울cc', '서서울cc', '서서울컨트리클럽', '경기도골프장', '파주골프장', '서울근교골프장', '골프스타그램', '골프어디든', 'golf', 'golf_anywhere', '골프', '골프장', '경기도카페', '파주카페', '식물원카페', '파주카페추천', '식물원카페추천', '문지리535', '문지리카페', '대형카페', '대형카페추천', '서울근교카페', '서울근교드라이브', '서울근교추천', '서울근교카페추천', '카페추천', '데이트추천', '파주데이트추천', '카페데이트', '카페데이트추천', '문지리라떼', '흑임자크림라떼', '흑임자', '할매입맛', '쪽파스콘', '쪽파', '크림치즈', '논뷰', '🌾', '유기동물을부탁해', '유기동물', '유기동물입양', '유기견', '유기견입양', '반려견입양', '강아지', '반려견', '댕댕이', '강아지입양', '입양', '믹스견', '믹스견입양', '세상에하나뿐인믹스견', '유기견구조', '유기견보호소', '보호소아이들', '구조견', '유기견입양', '유기견구조', 'youdongbu양파', 'youdongbu', '직천저수지_낚시터', '꽁꽁꽁', '춥다', '잘놀고', '인천송도', '귀차니즘쩌는', '다른친구랑도', '만나서', '카페가고', '송도포레스트아웃팅스', '바쁜주말👣', '재밌었다👍', '가볼만한곳', '파주시', '율곡이이', '화석정', '임진강', '풍경', '한국의', '아름다운', '문화재', '풍경을기록하다', '여행을기록하다', '가볼만한곳', '파주시', '율곡이이', '화석정', '임진강', '풍경', '한국의', '아름다운', '문화재', '풍경을기록하다', '여행을기록하다', '파주시', '화석정', '보호수', '느티나무', '560년', '유기동물을부탁해', '유기동물', '유기동물입양', '유기견', '유기견입양', '반려견입양', '강아지', '반려견', '댕댕이', '강아지입양', '입양', '믹스견', '믹스견입양', '세상에하나뿐인믹스견', '말라뮤트', '사모예드믹스', '유기견구조', '유기견보호소', '임시보호', '유기견임보', '임보', '보호소아이들', '구조견', '유기견입양', '유기견구조', '대형견', '대형견입양', '임보', 'youdongbu', 'youdongbu곰이', '가볼만한곳', '파주시', '율곡이이', '화석정', '임진강', '풍경', '한국의', '아름다운', '문화재', '풍경을기록하다', '여행을기록하다', '파주카페추천', '파주카페', '파주카페투어', '경기도파주맛집', '자유로자동차극장', '카페맛집', '카페추천', '카페드리오', '에이드맛집', '커피맛집', '맞팔', '맞팔환영', '좋아요반사테러', '일상기록', '일상생활', '소통', '소통환영', '인기게시물', '인스타푸드', '인스타일상', '맛집', '맛집탐방', '먹스타', '먹스타맞팔', '인친환영', '음식사진', '음식', '음식스타그램', '파주맛집', '파주아울렛', '파주아울렛맛집', '아울렛맛집', '갈릴리농원', '장어', '장어구이', '파주장어', '파주장어맛집', '파주장어구이', '장어구이맛집', '파주장어구이맛집', '파주가볼만한곳', '맛집투어', '맛스타그램', '먹스타그램', '맛집투어기록용', '숯불장어구이', '숯불장어구이맛집', '셀프장어구이', '파주갈릴리농원', '반려묘', '반려동물', '반려동물그램', '묘생일기', '고양이', '고양이일상', '고양이그램', '고양이스타그램', '고양이집사', '냥', '냥이', '냥이스타그램', '냥이일상', '냥이사랑', '냥집사', '고양이사랑', '다묘', '다묘가정', '다묘집사', '❤️', '파주맛집추천', '파주맛집스타그램', '파주맛집', '파주운정맛집', '파주운정', '운정맛집', '피셔맨스키친', '피셔맨스키친운정점', '경기도파주맛집', '빠에야', '먹방', '먹방스타그램', '먹스타', '먹스타스램', '먹스타맞팔', '좋아요반사테러', '좋아요💕', '맞팔', '맞팔환영', '일상소통', '소통', '소통환영', '음식스타그램', '음식사진', '인스타푸드', '인스타일상', '오리', '유기동물을부탁해', '유기동물', '유기동물입양', '유기견', '유기견입양', '반려견입양', '강아지', '반려견', '댕댕이', '강아지입양', '입양', '믹스견', '믹스견입양', '세상에하나뿐인믹스견', '웰시코기믹스', '유기견구조', '유기견보호소', '임시보호', '유기견임보', '임보', '보호소아이들', '구조견', '유기견입양', '유기견구조', '경기도고양시', 'youdongbu차킨', 'youdongbu', '말똥도넛', '미술체험', '드로잉카페', '미술체험', '낙하리화실', 'loveteoni🌷', '퍼스트가든자동차극장', '2번째', '해적도깨비깃발⚓️', '눈많이온다❄️', '담엔어디가지', '날씨도안도와주고😢', '파주휴스테이', '쿨쿨💤', '연휴여행🚘', '절', '용암사', '마애이불입상', '경기도여행', '경기도가볼만한곳', '장지산', '파주가볼만한곳', '파주여행', '파주시', '파주핫플', '파주출판도시', '파주헤이리마을', '파주카페', '파주맛집', '파주아울렛', '파주데이트', '파주출판단지', '파주펜션', '파주캠핑장', '파주나들이', '파주드라이브', '파주데이트코스', '파주프로방스', '파주카페추천', '파주맛집추천', '06', '07', '08', '피어싱', '피어싱스타그램', '디엠환영', 'instagram', '일상스타그램', '소통', '좋아요', '팔로우늘리기', '좋아요반사', '좋아요늘리기', '팔로우', '맞팔', '일상', '좋아요꾹', '셀스타그램', '좋반테러', '좋아요그램', 'instagood', 'likefoefollow', 'follow4follow', 'like', 'likeforlikes', 'フォローバック', 'いいねした人全員ファローする', '롯데월드', '동화힐링캠프눈썰매장', '동화힐링캠프', '아이와함께가볼만한곳', '동하가동화한다', '더티트렁크', '파주카페', '아이들과가볼만한곳', '어라운드에잇', '참예쁘다❤️', '슾속에있어서', '공기도참좋다좋아', '정원도있다', '산책하기좋은곳', '사진스팟많음', '인생샷명소', '아들사진만잔뜩', '카페투어', '예쁜곳이너무많아♥️', '눈썰매타기', '너무재밋어함', '호불호가있지만', '만족스러운곳', '서울근교눈썰매장', '태윤성장일기', '7세아들', '원숭이띠아들', '69개월아들', '외동아들맘', '육아소통환영', '쥐띠엄마', 'taeyun', '한번가볼만한곳', '아이와가볼만한곳', '파주초리골눈썰매장', '너무재밋어함', '재밋다그램😆', '엄마도즐거움😁', '7살아들이랑함께', '주말나들이', '설나들이🤗', '카페그램', '카페탐방', '경기도고양', '고양', '운정', '문산', '뮌스터담', '대형카페', '경기도카페', '경기북부', '드라이브카페', '카페투어', '일상', '소통', '피피카페', '비숑프리제', '멍스타그램🐶🐾', '귀툭튀컷', '비숑일상', '멍팔맞팔', '맞팔선팔', '견주소통', '멍스타견', '레드브라운', '브릭레드', '마르살라레드', '볼드펌', '빌드펌스타일', '매직셋팅', '아이롱', '미용실추천', '여자머리추천', '데미염색', '여자염색', '미디움레이어드', '레이어드컷', '머리맛집', '컷트잘하는곳', '토리헤어야당역점', '운정', '토리헤어', '일산미용실', '조카', '조카랑이모', '딥블루', '블루블랙', '톤다운', '미드나잇블루', '겨울염색', '탈색', '데미염색', '블랙펄', '염색', '운정', '일산', '야당역', '토리헤어', '토리헤어야당역점', '여자머리추천', '웨이브', '블루염색잘하는곳', '염색잘하는곳', '염색맛집', '일산자이3차', '맞팔선팔환영🙆🙌', '감사해요', '쇼파', '소파', '일산자이', '거실인테리어', '리빙', '운정가구단지', '디자인하우스', '입주인테리어', '입주가구', '홈데코', '요즘유행', '코너형쇼파', '기능성패브릭소파추천', '패브릭쇼파추천', '홈스타일링', '홈인테리어가구추천', '가구단지', '가구단지추천', '가르마펌', '쉐도우가르마펌', '옴므펌', '남자펌스타일추천', '야당동미용실', '일산미용실', '미용실추천', '운정미용실', '운정신도시', '💈', '야당역', '운정역', '탄현', '일산하이파크시티', '토리헤어', '토리헤어야당역점', '기장추가X', '피우리하우스', '법흥리맛집', '경기도파주맛집', '파주맛집추천', '파주맛집', '파주맛집스타그램', '맛집그램', '맛스타그램😋', '먹방', '먹스타', '먹스타그램', '먹스타맞팔', '먹방일상', '먹방소통', '소통', '소통환영', '일상소통', '일상스타그램', '탕수육', '탕수육맛집', '짜장면', '짜장면맛집', '중화요리맛집', '중화요리추천', '설경', '인기게시물', '좋아요💕', '좋아요반사❤️', '짜장면추천맛집', '짜장면추천', '법흥리맛집', '법흥리', '파주시맛집', '파주시', '경기도파주맛집', '치킨추천', '치킨', '치킨스타그램', '맛집추천', '맛집스타그램', '치킨🍗', '호식이두마리치킨🍗🍗', '먹스타', '먹방', '먹방일상', '먹방소통', '일상', '일상소통', '소통🙆', '소통해요', '맞팔선팔환영', '맞팔선팔', '좋아요💕', '좋아요반사❤️', '좋아요테러', '인기게시물', '먹스타그램', '호식이두마리', '유기동물을부탁해', '유기동물', '유기동물입양', '유기견', '유기견입양', '반려견입양', '강아지', '반려견', '댕댕이', '강아지입양', '입양', '믹스견', '믹스견입양', '세상에하나뿐인믹스견', '유기견구조', '유기견보호소', '임시보호', '유기견임보', '임보', '보호소아이들', '구조견', '유기견입양', '유기견구조', 'youdongbu실시리', 'youdongbu', '버거킹🍔', '버거킹메뉴추천', '버거킹추천', '버거킹', '버거킹금촌점', '버거', '햄버거스타그램', '햄버거먹방', '햄버거맛집', '햄버거추천', '햄버거', '금촌맛집', '금촌', '소통', '소통환영', '소통스타그램', '좋아요반사❤️', '좋아요💕', '맞팔해용', '맞팔해요', '경기도파주맛집', '파주맛집추천', '일상소통', '먹방', '먹스타', '먹스타그램', '몬스터x', '몬스터x버거', '스페이스앤창', '스페이스엔창', '스페이스블라인드', '스페이스엔창대리점', '스페이스엔창취급점', '블라인드', '파주블라인드', '파주인테리어', '파주블라인드추천', '고양창여밈', '감성데코블라인드', '입주', '이사', '집스타그램', '블라인드인테리어', '블라인드추천', '침실블라인드', '홈인테리어', '집꾸미기', '인테리어', '신혼집꾸미기', '사무실인테리어', '홈데코', '인테리어추천', '홈스타그램', '법흥리맛집', '법흥리', '경기도파주맛집', '경기도파주맛집', '전주콩나물국밥', '전주콩나물국밥맛집', '파주맛집추천', '파주맛집', '먹스타', '먹스타맞팔', '먹방', '일상소통', '소통스타그램', '소통🙆', '좋아요반사❤️', '좋아요💕', '맞팔선팔환영', '맞팔', '떡만두국', '떡만두국맛집', '맛집', '먹스타그램', '맛스타그램😋', '법흥리맛집', '법흥리', '법흥리피자', '법흥리피자맛집', '경기도파주맛집', '파주맛집추천', '파주맛집', '피자추천', '피자스토어', '피자맛집', '피자스타그램', '스파게티', '스파게티맛집', '스파게티추천', '맛스타그램😋', '먹방', '먹방스타그램', '먹방소통', '일상소통', '일상스타그램', '일상', '맞팔선팔', '맞팔해요', '좋아요💕', '좋아요반사❤️', '소통', '맛집추천', '맛집', '유기동물을부탁해', '유기동물', '유기동물입양', '유기견', '유기견입양', '반려견입양', '강아지', '반려견', '댕댕이', '강아지입양', '입양', '믹스견', '믹스견입양', '세상에하나뿐인믹스견', '웰시코기믹스', '웰시믹스', '유기견구조', '유기견보호소', '임시보호', '유기견임보', '임보', '보호소아이들', '구조견', '유기견입양', '유기견구조', 'youdongbu니키', 'youdongbu', '앤드테라스', '경기도카페', '파주카페', '애견동반카페', '쿨링포그', '식물원카페', '강아지', '멍뭉이천국', 'andterrace', 'gyeonggidocafe', 'gyeonggidopaju', 'pajucafe', 'coolingfog', 'botanicalgardencafe', 'dog', 'puppyheaven', '법흥리맛집', '법흥리', '경기도파주맛집', '파주맛집추천', '파주맛집', '맛스타그램😋', '맛집스타그램', '맛집추천', '먹방스타그램', '먹방', '먹스타그램', '돈까스추천', '치즈돈까스', '치즈돈가스맛집', '맞팔하면선팔', '맞팔선팔', '맞팔선팔환영', '맞팔해용', '좋아요💕', '좋아요테러', '좋아요반사❤️', '좋튀', '일오포차', '돈까스맛집', '돈까스그램', '돈까스맛집추천', '법흥리맛집', '법흥리', '먹방', '먹방스타그램', '먹방그램', '맛스타그램😋', '맛집스타그램', '맛집인정', '경기도파주맛집', '파주맛집', '파주맛집추천', '좋아요💕', '좋아요환영', '좋아요늘리기', '맞팔하면선팔', '맞팔해요', '중화요리전문점', '짜장면', '제육덮밥', '락궁', '중화요리맛집', '임진각', 'DMZ', '임진각곤돌라', '평화등대', '군사분계선', '도보다리', '분단의아픔', '체험학습교육', '역사는잊어서는안된다', '주말그램', '가족여행', '파주가볼만한곳', '우리할매떡볶이', '법흥리맛집', '법흥리', '파주맛집추천', '파주맛집스타그램', '파주맛집투어', '파주맛집', '경기도파주맛집', '떡볶이맛집', '떡볶이스타그램', '떡볶이추천', '떡볶이', '떡볶이매니아', '먹방', '맛집추천', '맛집스타그램', '치즈돈까스맛집', '치즈돈까스', '돈까스', '돈까스추천', '돈까스그램', '좋아요💕', '좋아요환영', '좋아요테러', '좋아요반사❤️', '좋아요늘리기', '맞팔선팔', '인기게시물', '법흥리맛집', '법흥리', '경기도파주맛집', '파주맛집추천', '파주맛집', '파주맛집스타그램', '짬뽕', '짬뽕추천', '중화비빔밥', '중화비빔밥맛집', '락궁', '중화요리', '중화요리전문점', '맛스타그램😋', '맛집스타그램', '맛집추천', '맛', '맞팔하면선팔', '맞팔해요', '맞팔선팔환영', '좋아요💕', '좋아요그램', '좋아요반사테러', '좋아요반사', '인기', '인기게시물', '파주맛집', '운정맛집', '소중한한끼', '산내마을맛집', '운정술집', '파주술집', '파주맛집추천', '가게오픈', '덮밥맛집', '혼밥추천', '야식추천', '맛집발견', '팔로우', '맞팔', '소통', '맛집소통', '먹스타그램', '음식스타그램', '음식소통', '뛰뛰카페', '견스타그램', '헤이리마을', '헤이리예술마을🏡', '경기', '마을', '예술', '즐거운', '트릭아트', '사진찍기', '말똥도넛', '파주카페', '도넛카페', '디저트카페', '이색카페', '파주맛집', '도넛맛집', '파주가볼만한곳', '일상', '힐링', '일상스타그램', '힐링스타그램', '카페스타그램', '먹스타그램', '맛스타그램', '도넛스타그램', '콩치노콩크리트', '파주카페추천', '콩치노콩크리트', '콘서트홀', 'LP감상', '법흥리맛집', '법흥리', '경기도파주맛집', '파주맛집', '파주맛집추천', '파주맛집스타그램', '맛스타그램😋', '맛집그램', '맛집추천', '파스타맛집', '파스타추천', '피자맛집', '피자추천', '헤이리맛집', '헤이리마을맛집', '헤이리마을', '파스타', '피자', '물고기자리', '맞팔해요', '맞팔선팔환영', '맞팔그램', '맞팔환영', '좋아요💕', '좋아요환영', '좋아요테러', '좋아요반사❤️', '인기게시물', '파주신상카페', '대형카페', '곤트란쉐리에', '주말나들이', '아들과함께', '카페투어', '외동맘일상', '육아소통맞팔', '대형카페', '파주신상카페', '곤트란쉐리에', '카페투어☕️', '7살아들이랑함께', '주말나들이', '태윤성장일기', '69개월아들', '외동맘그램', '육아소통환영']\n"
     ]
    }
   ],
   "source": [
    "stop_words = [\"울산\",\"경기도파주\", \"경기도\", \"파주\", \"경상북도\", \"경북\", \"경산\", \"대전\", \"유성\", \"전라남도\", \"전남\", \"광양\", \"나주\", \"강원도\", \"태백\", \"경주\", \"부산\", \"부산광역시\", \"북구\", \"안성\", \"경상남도\", \"경남\", \"진주\", \"제주\", \"화성\", \"칠곡\", \"충청남도\", \"충남\", \"논산\", \"전라북도\", \"전북\", \"임실\", \"서울\",\"서울광역시\", \"은평\",\"부산광역시강서구\", \"부산광역시사상구\", \"부산광역시북구\",\"\"]\n",
    "tagMost = [ i for i in tagCollect if i not in stop_words ]\n",
    "\n",
    "print(tagMost)\n"
   ]
  },
  {
   "cell_type": "markdown",
   "id": "f2f9d40d",
   "metadata": {},
   "source": [
    "## 시각화"
   ]
  },
  {
   "cell_type": "code",
   "execution_count": 88,
   "id": "3183569a",
   "metadata": {},
   "outputs": [
    {
     "data": {
      "text/plain": [
       "<BarContainer object of 30 artists>"
      ]
     },
     "execution_count": 88,
     "metadata": {},
     "output_type": "execute_result"
    },
    {
     "data": {
      "image/png": "[encoded data removed]",
      "text/plain": [
       "<Figure size 720x360 with 1 Axes>"
      ]
     },
     "metadata": {
      "needs_background": "light"
     },
     "output_type": "display_data"
    }
   ],
   "source": [
    "import nltk\n",
    " \n",
    "results_str = \" \".join(tagMost) # 결과값 list to string\n",
    "tokens = results_str.split(\" \") # 각 단어별로 떼어 내서\n",
    "text = nltk.Text(tokens) # text에 저장하고\n",
    "topWord = text.vocab().most_common(30) # 가장 많이 등장하는 30개의 단어를 추려낸다.\n",
    "count = 30\n",
    "xlist = [a[0] for a in topWord[:count ]]\n",
    "ylist = [a[1] for a in topWord[:count ]]\n",
    "\n",
    "# 한글 폰트 설정 ( 깨짐 방지 )\n",
    "from matplotlib import font_manager, rc\n",
    "font_path = \"C:\\Windows\\Fonts\\HMKMRHD.ttf\"\n",
    "font = font_manager.FontProperties(fname=font_path).get_name()\n",
    "rc('font', family=font)\n",
    "    \n",
    "plt.figure(figsize = (10,5)) # 그래프 크기 지정\n",
    "plt.xlabel('Word') # X축 이름\n",
    "plt.xticks(rotation=70) # X축 라벨 회전\n",
    "plt.ylabel('Count') # Y축 이름\n",
    "plt.title('keyword TOP '+str(count)+' WORD')\n",
    "plt.ylim([0, 200]) # 그래프의 Y축 크기 조절\n",
    "plt.bar(xlist,ylist) # bar로 실행하면 막대그래프. plot으로 실행하면 꺾은선 그래프."
   ]
  },
  {
   "cell_type": "markdown",
   "id": "1de1b2af",
   "metadata": {},
   "source": [
    "## wordcloud"
   ]
  },
  {
   "cell_type": "code",
   "execution_count": 91,
   "id": "03d61902",
   "metadata": {},
   "outputs": [],
   "source": [
    "from wordcloud import WordCloud\n",
    "\n",
    "wordcloud = WordCloud(font_path=\"C:\\Windows\\Fonts\\HMKMRHD.ttf\",max_font_size=100).generate(results_str) # word cloud"
   ]
  },
  {
   "cell_type": "code",
   "execution_count": 92,
   "id": "be706348",
   "metadata": {},
   "outputs": [
    {
     "data": {
      "text/plain": [
       "(-0.5, 399.5, 199.5, -0.5)"
      ]
     },
     "execution_count": 92,
     "metadata": {},
     "output_type": "execute_result"
    },
    {
     "data": {
      "image/png": "[encoded data removed]",
      "text/plain": [
       "<Figure size 432x288 with 1 Axes>"
      ]
     },
     "metadata": {
      "needs_background": "light"
     },
     "output_type": "display_data"
    }
   ],
   "source": [
    "fig = plt.figure()\n",
    "plt.imshow(wordcloud, interpolation='bilinear')\n",
    "plt.axis('off')"
   ]
  },
  {
   "cell_type": "markdown",
   "id": "71106ca9",
   "metadata": {},
   "source": [
    "# 🎈게시글 위치정보"
   ]
  },
  {
   "cell_type": "code",
   "execution_count": 59,
   "id": "84535784",
   "metadata": {},
   "outputs": [
    {
     "name": "stdout",
     "output_type": "stream",
     "text": [
      "검색어를 입력하세요 : 경상북도경주\n"
     ]
    }
   ],
   "source": [
    "_keyword = input(\"검색어를 입력하세요 : \")\n",
    "word = str(_keyword) \n",
    "driver.get('https://www.instagram.com/explore/tags/' + _keyword + '/')"
   ]
  },
  {
   "cell_type": "code",
   "execution_count": 60,
   "id": "2316bc88",
   "metadata": {},
   "outputs": [],
   "source": [
    "driver.find_element_by_css_selector('div.v1Nh3.kIKUG._bz0w').click() #첫번째 게시물 열기\n",
    "time.sleep(5)"
   ]
  },
  {
   "cell_type": "code",
   "execution_count": 46,
   "id": "e80ae1c6",
   "metadata": {},
   "outputs": [
    {
     "data": {
      "text/plain": [
       "['', '2021-12-13', 0, '忍城', []]"
      ]
     },
     "execution_count": 46,
     "metadata": {},
     "output_type": "execute_result"
    }
   ],
   "source": [
    "import re\n",
    "from bs4 import BeautifulSoup\n",
    "\n",
    "def get_content(driver):\n",
    "\n",
    "    # 1. 현재 게시글 html 정보 가져오기\n",
    "    html = driver.page_source\n",
    "    soup = BeautifulSoup(html, 'lxml')\n",
    "\n",
    "\n",
    "    # 2. 본문 내용 가져오기\n",
    "    # 본문 내용이 없을 수 있으므로 예외 처리구문을 이용\n",
    "    try:\n",
    "        content = soup.select('div.C4VMK > span')[0].text\n",
    "    except:\n",
    "        content = ''\n",
    "\n",
    "    # 3. 작성 일시, 좋아요 수 , 위치 정보 가져오기\n",
    "    # 해쉬 태그는 정규 표현식을 이용해 가져온다.\n",
    "    tags = re.findall(r'#[^\\s#,\\\\]+', content)  \n",
    "\n",
    "    #  작성일자 정보 가져오기\n",
    "    date = soup.select('time._1o9PC.Nzb55')[0]['datetime'][:10]\n",
    "\n",
    "    #  좋아요 수 가져오기\n",
    "    # 예외처리구문.\n",
    "    try:\n",
    "        like = soup.select('div.Nm9Fw > button')[0].text[4:-1]   \n",
    "    except:\n",
    "        like = 0\n",
    "    # 위치정보\n",
    "    # 예외 처리구문\n",
    "    try: \n",
    "        place = soup.select('div.M30cS')[0].text\n",
    "    except:\n",
    "        place = ''\n",
    "    # 4. 저장하기\n",
    "    data = [content, date, like, place, tags]\n",
    "    return data\n",
    "\n",
    "get_content(driver)"
   ]
  },
  {
   "cell_type": "code",
   "execution_count": 48,
   "id": "5921f938",
   "metadata": {},
   "outputs": [],
   "source": [
    "def next_page(driver):\n",
    "    next_page = driver.find_element_by_css_selector('div.l8mY4.feth3')\n",
    "    next_page.click()\n",
    "    time.sleep(3)\n",
    "next_page(driver)"
   ]
  },
  {
   "cell_type": "code",
   "execution_count": 64,
   "id": "f8863c40",
   "metadata": {},
   "outputs": [],
   "source": [
    "# 크롤링 결과를담을 리스트 생성\n",
    "result = [ ]\n",
    "\n",
    "\n",
    "# 여러 게시글 수집하기\n",
    "target = 50      # 크롤링할 게시글 수\n",
    "for i in range(target):\n",
    "    # 게시글 수집에 오류 발생시 5초 대기후, 다음 게시글로 넘어가도록 예외처리 구문 활용\n",
    "    try:\n",
    "        data = get_content(driver)    # 게시글 정보 가져오기\n",
    "        result.append(data)\n",
    "        next_page(driver)\n",
    "    except:\n",
    "        time.sleep(5)\n",
    "        next_page(driver)"
   ]
  },
  {
   "cell_type": "code",
   "execution_count": 78,
   "id": "d4dc174d",
   "metadata": {},
   "outputs": [
    {
     "data": {
      "text/html": [
       "<div>\n",
       "<style scoped>\n",
       "    .dataframe tbody tr th:only-of-type {\n",
       "        vertical-align: middle;\n",
       "    }\n",
       "\n",
       "    .dataframe tbody tr th {\n",
       "        vertical-align: top;\n",
       "    }\n",
       "\n",
       "    .dataframe thead th {\n",
       "        text-align: right;\n",
       "    }\n",
       "</style>\n",
       "<table border=\"1\" class=\"dataframe\">\n",
       "  <thead>\n",
       "    <tr style=\"text-align: right;\">\n",
       "      <th></th>\n",
       "      <th>3</th>\n",
       "    </tr>\n",
       "  </thead>\n",
       "  <tbody>\n",
       "    <tr>\n",
       "      <th>0</th>\n",
       "      <td>경주 맷돌 순두부</td>\n",
       "    </tr>\n",
       "    <tr>\n",
       "      <th>1</th>\n",
       "      <td>경주 황리단길</td>\n",
       "    </tr>\n",
       "    <tr>\n",
       "      <th>2</th>\n",
       "      <td>경상북도 경주</td>\n",
       "    </tr>\n",
       "    <tr>\n",
       "      <th>3</th>\n",
       "      <td>경상북도 경주</td>\n",
       "    </tr>\n",
       "    <tr>\n",
       "      <th>5</th>\n",
       "      <td>경상북도 경주</td>\n",
       "    </tr>\n",
       "    <tr>\n",
       "      <th>6</th>\n",
       "      <td>경상북도 경주</td>\n",
       "    </tr>\n",
       "    <tr>\n",
       "      <th>7</th>\n",
       "      <td>경주 황리단길</td>\n",
       "    </tr>\n",
       "    <tr>\n",
       "      <th>8</th>\n",
       "      <td>경주 황리단길</td>\n",
       "    </tr>\n",
       "    <tr>\n",
       "      <th>9</th>\n",
       "      <td>경상북도 경주</td>\n",
       "    </tr>\n",
       "    <tr>\n",
       "      <th>12</th>\n",
       "      <td>셀세모</td>\n",
       "    </tr>\n",
       "    <tr>\n",
       "      <th>13</th>\n",
       "      <td>경주 황리단길</td>\n",
       "    </tr>\n",
       "    <tr>\n",
       "      <th>15</th>\n",
       "      <td>경주 월정교</td>\n",
       "    </tr>\n",
       "    <tr>\n",
       "      <th>18</th>\n",
       "      <td>도리마을</td>\n",
       "    </tr>\n",
       "    <tr>\n",
       "      <th>20</th>\n",
       "      <td>석굴암</td>\n",
       "    </tr>\n",
       "    <tr>\n",
       "      <th>21</th>\n",
       "      <td>경주 월정교</td>\n",
       "    </tr>\n",
       "    <tr>\n",
       "      <th>22</th>\n",
       "      <td>경주 황리단길</td>\n",
       "    </tr>\n",
       "    <tr>\n",
       "      <th>24</th>\n",
       "      <td>경상북도 경주</td>\n",
       "    </tr>\n",
       "    <tr>\n",
       "      <th>25</th>\n",
       "      <td>경주</td>\n",
       "    </tr>\n",
       "    <tr>\n",
       "      <th>26</th>\n",
       "      <td>경상북도 경주</td>\n",
       "    </tr>\n",
       "    <tr>\n",
       "      <th>27</th>\n",
       "      <td>황남빵</td>\n",
       "    </tr>\n",
       "    <tr>\n",
       "      <th>29</th>\n",
       "      <td>경주 월정교</td>\n",
       "    </tr>\n",
       "    <tr>\n",
       "      <th>31</th>\n",
       "      <td>영국제과</td>\n",
       "    </tr>\n",
       "    <tr>\n",
       "      <th>32</th>\n",
       "      <td>담다초밥</td>\n",
       "    </tr>\n",
       "    <tr>\n",
       "      <th>36</th>\n",
       "      <td>경주 월정교</td>\n",
       "    </tr>\n",
       "    <tr>\n",
       "      <th>37</th>\n",
       "      <td>Bunhwangsa</td>\n",
       "    </tr>\n",
       "    <tr>\n",
       "      <th>40</th>\n",
       "      <td>경주 교촌마을</td>\n",
       "    </tr>\n",
       "    <tr>\n",
       "      <th>41</th>\n",
       "      <td>경상북도 경주</td>\n",
       "    </tr>\n",
       "    <tr>\n",
       "      <th>43</th>\n",
       "      <td>경주 교촌마을</td>\n",
       "    </tr>\n",
       "    <tr>\n",
       "      <th>44</th>\n",
       "      <td>경주 월정교</td>\n",
       "    </tr>\n",
       "    <tr>\n",
       "      <th>46</th>\n",
       "      <td>종오정</td>\n",
       "    </tr>\n",
       "    <tr>\n",
       "      <th>47</th>\n",
       "      <td>경상북도 경주</td>\n",
       "    </tr>\n",
       "    <tr>\n",
       "      <th>48</th>\n",
       "      <td>경주 월정교</td>\n",
       "    </tr>\n",
       "    <tr>\n",
       "      <th>49</th>\n",
       "      <td>경주 월정교</td>\n",
       "    </tr>\n",
       "  </tbody>\n",
       "</table>\n",
       "</div>"
      ],
      "text/plain": [
       "             3\n",
       "0    경주 맷돌 순두부\n",
       "1      경주 황리단길\n",
       "2      경상북도 경주\n",
       "3      경상북도 경주\n",
       "5      경상북도 경주\n",
       "6      경상북도 경주\n",
       "7      경주 황리단길\n",
       "8      경주 황리단길\n",
       "9      경상북도 경주\n",
       "12         셀세모\n",
       "13     경주 황리단길\n",
       "15      경주 월정교\n",
       "18        도리마을\n",
       "20         석굴암\n",
       "21      경주 월정교\n",
       "22     경주 황리단길\n",
       "24     경상북도 경주\n",
       "25          경주\n",
       "26     경상북도 경주\n",
       "27         황남빵\n",
       "29      경주 월정교\n",
       "31        영국제과\n",
       "32        담다초밥\n",
       "36      경주 월정교\n",
       "37  Bunhwangsa\n",
       "40     경주 교촌마을\n",
       "41     경상북도 경주\n",
       "43     경주 교촌마을\n",
       "44      경주 월정교\n",
       "46         종오정\n",
       "47     경상북도 경주\n",
       "48      경주 월정교\n",
       "49      경주 월정교"
      ]
     },
     "execution_count": 78,
     "metadata": {},
     "output_type": "execute_result"
    }
   ],
   "source": [
    "resultFrame = pd.DataFrame(result)\n",
    "resultFrame[3].replace('', np.nan, inplace=True)\n",
    "resultFrame[[3]].dropna(axis=0)"
   ]
  },
  {
   "cell_type": "code",
   "execution_count": 67,
   "id": "55bd89ff",
   "metadata": {},
   "outputs": [
    {
     "name": "stdout",
     "output_type": "stream",
     "text": [
      "[['', '2021-10-30', 0, '경주 맷돌 순두부', []], ['', '2021-10-30', 0, '경주 황리단길', []], ['', '2021-10-25', 0, '경상북도 경주', []], ['', '2021-10-24', 0, '경상북도 경주', []], ['', '2021-10-24', 0, '', []], ['', '2021-10-23', 0, '경상북도 경주', []], ['', '2021-10-20', 0, '경상북도 경주', []], ['', '2021-10-20', 0, '경주 황리단길', []], ['', '2021-10-19', 0, '경주 황리단길', []], ['', '2021-10-18', 0, '경상북도 경주', []], ['', '2021-10-16', 0, '', []], ['', '2021-10-15', 0, '', []], ['', '2021-10-14', 0, '셀세모', []], ['', '2021-10-12', 0, '경주 황리단길', []], ['', '2021-10-11', 0, '', []], ['', '2021-10-10', 0, '경주 월정교', []], ['', '2021-10-10', 0, '', []], ['', '2021-10-09', 0, '', []], ['', '2021-10-08', 0, '도리마을', []], ['', '2021-10-07', 0, '', []], ['', '2021-10-06', 0, '석굴암', []], ['', '2021-10-05', 0, '경주 월정교', []], ['', '2021-10-05', 0, '경주 황리단길', []], ['', '2021-10-04', 0, '', []], ['', '2021-10-03', 0, '경상북도 경주', []], ['', '2021-09-22', 0, '경주', []], ['', '2021-09-22', 0, '경상북도 경주', []], ['', '2021-09-19', 0, '황남빵', []], ['', '2021-09-19', 0, '', []], ['', '2021-09-17', 0, '경주 월정교', []], ['', '2021-09-11', 0, '', []], ['', '2021-09-11', 0, '영국제과', []], ['', '2021-09-11', 0, '담다초밥', []], ['', '2021-09-11', 0, '', []], ['', '2021-09-07', 0, '', []], ['', '2021-09-07', 0, '', []], ['', '2021-09-06', 0, '경주 월정교', []], ['', '2021-09-01', 0, 'Bunhwangsa', []], ['', '2021-08-31', 0, '', []], ['', '2021-08-28', 0, '', []], ['', '2021-08-27', 0, '경주 교촌마을', []], ['', '2021-08-27', 0, '경상북도 경주', []], ['', '2021-08-26', 0, '', []], ['', '2021-08-22', 0, '경주 교촌마을', []], ['', '2021-08-20', 0, '경주 월정교', []], ['', '2021-08-18', 0, '', []], ['', '2021-08-16', 0, '종오정', []], ['', '2021-08-14', 0, '경상북도 경주', []], ['', '2021-08-14', 0, '경주 월정교', []], ['', '2021-08-12', 0, '경주 월정교', []]]\n"
     ]
    }
   ],
   "source": [
    "print(result)"
   ]
  },
  {
   "cell_type": "code",
   "execution_count": 66,
   "id": "eda0c767",
   "metadata": {},
   "outputs": [
    {
     "ename": "TypeError",
     "evalue": "sequence item 0: expected str instance, list found",
     "output_type": "error",
     "traceback": [
      "\u001b[1;31m---------------------------------------------------------------------------\u001b[0m",
      "\u001b[1;31mTypeError\u001b[0m                                 Traceback (most recent call last)",
      "\u001b[1;32m~\\AppData\\Local\\Temp/ipykernel_9476/1989815066.py\u001b[0m in \u001b[0;36m<module>\u001b[1;34m\u001b[0m\n\u001b[0;32m      1\u001b[0m \u001b[1;32mimport\u001b[0m \u001b[0mnltk\u001b[0m\u001b[1;33m\u001b[0m\u001b[1;33m\u001b[0m\u001b[0m\n\u001b[0;32m      2\u001b[0m \u001b[1;33m\u001b[0m\u001b[0m\n\u001b[1;32m----> 3\u001b[1;33m \u001b[0mresults_str\u001b[0m \u001b[1;33m=\u001b[0m \u001b[1;34m\" \"\u001b[0m\u001b[1;33m.\u001b[0m\u001b[0mjoin\u001b[0m\u001b[1;33m(\u001b[0m\u001b[0mresult\u001b[0m\u001b[1;33m)\u001b[0m \u001b[1;31m# 결과값 list to string\u001b[0m\u001b[1;33m\u001b[0m\u001b[1;33m\u001b[0m\u001b[0m\n\u001b[0m\u001b[0;32m      4\u001b[0m \u001b[0mtokens\u001b[0m \u001b[1;33m=\u001b[0m \u001b[0mresults_str\u001b[0m\u001b[1;33m.\u001b[0m\u001b[0msplit\u001b[0m\u001b[1;33m(\u001b[0m\u001b[1;34m\" \"\u001b[0m\u001b[1;33m)\u001b[0m \u001b[1;31m# 각 단어별로 떼어 내서\u001b[0m\u001b[1;33m\u001b[0m\u001b[1;33m\u001b[0m\u001b[0m\n\u001b[0;32m      5\u001b[0m \u001b[0mtext\u001b[0m \u001b[1;33m=\u001b[0m \u001b[0mnltk\u001b[0m\u001b[1;33m.\u001b[0m\u001b[0mText\u001b[0m\u001b[1;33m(\u001b[0m\u001b[0mtokens\u001b[0m\u001b[1;33m)\u001b[0m \u001b[1;31m# text에 저장하고\u001b[0m\u001b[1;33m\u001b[0m\u001b[1;33m\u001b[0m\u001b[0m\n",
      "\u001b[1;31mTypeError\u001b[0m: sequence item 0: expected str instance, list found"
     ]
    }
   ],
   "source": [
    "import nltk\n",
    " \n",
    "results_str = \" \".join(result) # 결과값 list to string\n",
    "tokens = results_str.split(\" \") # 각 단어별로 떼어 내서\n",
    "text = nltk.Text(tokens) # text에 저장하고\n",
    "topWord = text.vocab().most_common(3) # 가장 많이 등장하는 30개의 단어를 추려낸다.\n",
    "count = 3\n",
    "xlist = [a[0] for a in topWord[:count ]]\n",
    "ylist = [a[1] for a in topWord[:count ]]\n",
    "\n",
    "# 한글 폰트 설정 ( 깨짐 방지 )\n",
    "from matplotlib import font_manager, rc\n",
    "font_path = \"C:\\Windows\\Fonts\\HMKMRHD.ttf\"\n",
    "font = font_manager.FontProperties(fname=font_path).get_name()\n",
    "rc('font', family=font)\n",
    "    \n",
    "plt.figure(figsize = (10,5)) # 그래프 크기 지정\n",
    "plt.xlabel('Word') # X축 이름\n",
    "plt.xticks(rotation=70) # X축 라벨 회전\n",
    "plt.ylabel('Count') # Y축 이름\n",
    "plt.title('keyword TOP '+str(count)+' WORD')\n",
    "plt.ylim([0, 200]) # 그래프의 Y축 크기 조절\n",
    "plt.bar(xlist,ylist) # bar로 실행하면 막대그래프. plot으로 실행하면 꺾은선 그래프."
   ]
  },
  {
   "cell_type": "code",
   "execution_count": null,
   "id": "49c26a07",
   "metadata": {},
   "outputs": [],
   "source": []
  },
  {
   "cell_type": "code",
   "execution_count": null,
   "id": "d4c8f2fc",
   "metadata": {},
   "outputs": [],
   "source": []
  },
  {
   "cell_type": "code",
   "execution_count": null,
   "id": "19db273a",
   "metadata": {},
   "outputs": [],
   "source": []
  },
  {
   "cell_type": "code",
   "execution_count": null,
   "id": "d231b15f",
   "metadata": {},
   "outputs": [],
   "source": []
  },
  {
   "cell_type": "code",
   "execution_count": null,
   "id": "c65ab895",
   "metadata": {},
   "outputs": [],
   "source": []
  },
  {
   "cell_type": "code",
   "execution_count": null,
   "id": "8450f88b",
   "metadata": {},
   "outputs": [],
   "source": []
  }
 ],
 "metadata": {
  "kernelspec": {
   "display_name": "Python 3 (ipykernel)",
   "language": "python",
   "name": "python3"
  },
  "language_info": {
   "codemirror_mode": {
    "name": "ipython",
    "version": 3
   },
   "file_extension": ".py",
   "mimetype": "text/x-python",
   "name": "python",
   "nbconvert_exporter": "python",
   "pygments_lexer": "ipython3",
   "version": "3.9.7"
  }
 },
 "nbformat": 4,
 "nbformat_minor": 5
}
